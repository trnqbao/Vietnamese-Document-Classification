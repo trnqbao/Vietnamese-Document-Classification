{
  "cells": [
    {
      "cell_type": "markdown",
      "metadata": {
        "id": "yeLDKlQWxABE"
      },
      "source": [
        "# Connect Google Drive"
      ]
    },
    {
      "cell_type": "code",
      "execution_count": null,
      "metadata": {
        "colab": {
          "base_uri": "https://localhost:8080/"
        },
        "id": "Oo5kFW061Pzy",
        "outputId": "20708b86-30b0-41b9-cc25-31c88b8d08d7"
      },
      "outputs": [
        {
          "name": "stdout",
          "output_type": "stream",
          "text": [
            "Drive already mounted at /content/drive; to attempt to forcibly remount, call drive.mount(\"/content/drive\", force_remount=True).\n"
          ]
        }
      ],
      "source": [
        "from google.colab import drive\n",
        "drive.mount('/content/drive')"
      ]
    },
    {
      "cell_type": "markdown",
      "metadata": {
        "id": "ea1anItHxFEv"
      },
      "source": [
        "# Installations"
      ]
    },
    {
      "cell_type": "code",
      "execution_count": null,
      "metadata": {
        "colab": {
          "base_uri": "https://localhost:8080/"
        },
        "id": "TqYffJvPZJID",
        "outputId": "13004871-b6b6-4595-8914-02d686209edc"
      },
      "outputs": [
        {
          "name": "stdout",
          "output_type": "stream",
          "text": [
            "Collecting pyvi\n",
            "  Downloading pyvi-0.1.1-py2.py3-none-any.whl.metadata (2.5 kB)\n",
            "Requirement already satisfied: scikit-learn in /usr/local/lib/python3.11/dist-packages (from pyvi) (1.6.1)\n",
            "Collecting sklearn-crfsuite (from pyvi)\n",
            "  Downloading sklearn_crfsuite-0.5.0-py2.py3-none-any.whl.metadata (4.9 kB)\n",
            "Requirement already satisfied: numpy>=1.19.5 in /usr/local/lib/python3.11/dist-packages (from scikit-learn->pyvi) (1.26.4)\n",
            "Requirement already satisfied: scipy>=1.6.0 in /usr/local/lib/python3.11/dist-packages (from scikit-learn->pyvi) (1.14.1)\n",
            "Requirement already satisfied: joblib>=1.2.0 in /usr/local/lib/python3.11/dist-packages (from scikit-learn->pyvi) (1.4.2)\n",
            "Requirement already satisfied: threadpoolctl>=3.1.0 in /usr/local/lib/python3.11/dist-packages (from scikit-learn->pyvi) (3.6.0)\n",
            "Collecting python-crfsuite>=0.9.7 (from sklearn-crfsuite->pyvi)\n",
            "  Downloading python_crfsuite-0.9.11-cp311-cp311-manylinux_2_17_x86_64.manylinux2014_x86_64.whl.metadata (4.3 kB)\n",
            "Requirement already satisfied: tabulate>=0.4.2 in /usr/local/lib/python3.11/dist-packages (from sklearn-crfsuite->pyvi) (0.9.0)\n",
            "Requirement already satisfied: tqdm>=2.0 in /usr/local/lib/python3.11/dist-packages (from sklearn-crfsuite->pyvi) (4.67.1)\n",
            "Downloading pyvi-0.1.1-py2.py3-none-any.whl (8.5 MB)\n",
            "\u001b[2K   \u001b[90m━━━━━━━━━━━━━━━━━━━━━━━━━━━━━━━━━━━━━━━━\u001b[0m \u001b[32m8.5/8.5 MB\u001b[0m \u001b[31m36.9 MB/s\u001b[0m eta \u001b[36m0:00:00\u001b[0m\n",
            "\u001b[?25hDownloading sklearn_crfsuite-0.5.0-py2.py3-none-any.whl (10 kB)\n",
            "Downloading python_crfsuite-0.9.11-cp311-cp311-manylinux_2_17_x86_64.manylinux2014_x86_64.whl (1.3 MB)\n",
            "\u001b[2K   \u001b[90m━━━━━━━━━━━━━━━━━━━━━━━━━━━━━━━━━━━━━━━━\u001b[0m \u001b[32m1.3/1.3 MB\u001b[0m \u001b[31m26.4 MB/s\u001b[0m eta \u001b[36m0:00:00\u001b[0m\n",
            "\u001b[?25hInstalling collected packages: python-crfsuite, sklearn-crfsuite, pyvi\n",
            "Successfully installed python-crfsuite-0.9.11 pyvi-0.1.1 sklearn-crfsuite-0.5.0\n",
            "Requirement already satisfied: torch in /usr/local/lib/python3.11/dist-packages (2.6.0+cu124)\n",
            "Requirement already satisfied: filelock in /usr/local/lib/python3.11/dist-packages (from torch) (3.17.0)\n",
            "Requirement already satisfied: typing-extensions>=4.10.0 in /usr/local/lib/python3.11/dist-packages (from torch) (4.12.2)\n",
            "Requirement already satisfied: networkx in /usr/local/lib/python3.11/dist-packages (from torch) (3.4.2)\n",
            "Requirement already satisfied: jinja2 in /usr/local/lib/python3.11/dist-packages (from torch) (3.1.6)\n",
            "Requirement already satisfied: fsspec in /usr/local/lib/python3.11/dist-packages (from torch) (2024.10.0)\n",
            "Collecting nvidia-cuda-nvrtc-cu12==12.4.127 (from torch)\n",
            "  Downloading nvidia_cuda_nvrtc_cu12-12.4.127-py3-none-manylinux2014_x86_64.whl.metadata (1.5 kB)\n",
            "Collecting nvidia-cuda-runtime-cu12==12.4.127 (from torch)\n",
            "  Downloading nvidia_cuda_runtime_cu12-12.4.127-py3-none-manylinux2014_x86_64.whl.metadata (1.5 kB)\n",
            "Collecting nvidia-cuda-cupti-cu12==12.4.127 (from torch)\n",
            "  Downloading nvidia_cuda_cupti_cu12-12.4.127-py3-none-manylinux2014_x86_64.whl.metadata (1.6 kB)\n",
            "Collecting nvidia-cudnn-cu12==9.1.0.70 (from torch)\n",
            "  Downloading nvidia_cudnn_cu12-9.1.0.70-py3-none-manylinux2014_x86_64.whl.metadata (1.6 kB)\n",
            "Collecting nvidia-cublas-cu12==12.4.5.8 (from torch)\n",
            "  Downloading nvidia_cublas_cu12-12.4.5.8-py3-none-manylinux2014_x86_64.whl.metadata (1.5 kB)\n",
            "Collecting nvidia-cufft-cu12==11.2.1.3 (from torch)\n",
            "  Downloading nvidia_cufft_cu12-11.2.1.3-py3-none-manylinux2014_x86_64.whl.metadata (1.5 kB)\n",
            "Collecting nvidia-curand-cu12==10.3.5.147 (from torch)\n",
            "  Downloading nvidia_curand_cu12-10.3.5.147-py3-none-manylinux2014_x86_64.whl.metadata (1.5 kB)\n",
            "Collecting nvidia-cusolver-cu12==11.6.1.9 (from torch)\n",
            "  Downloading nvidia_cusolver_cu12-11.6.1.9-py3-none-manylinux2014_x86_64.whl.metadata (1.6 kB)\n",
            "Collecting nvidia-cusparse-cu12==12.3.1.170 (from torch)\n",
            "  Downloading nvidia_cusparse_cu12-12.3.1.170-py3-none-manylinux2014_x86_64.whl.metadata (1.6 kB)\n",
            "Requirement already satisfied: nvidia-cusparselt-cu12==0.6.2 in /usr/local/lib/python3.11/dist-packages (from torch) (0.6.2)\n",
            "Requirement already satisfied: nvidia-nccl-cu12==2.21.5 in /usr/local/lib/python3.11/dist-packages (from torch) (2.21.5)\n",
            "Requirement already satisfied: nvidia-nvtx-cu12==12.4.127 in /usr/local/lib/python3.11/dist-packages (from torch) (12.4.127)\n",
            "Collecting nvidia-nvjitlink-cu12==12.4.127 (from torch)\n",
            "  Downloading nvidia_nvjitlink_cu12-12.4.127-py3-none-manylinux2014_x86_64.whl.metadata (1.5 kB)\n",
            "Requirement already satisfied: triton==3.2.0 in /usr/local/lib/python3.11/dist-packages (from torch) (3.2.0)\n",
            "Requirement already satisfied: sympy==1.13.1 in /usr/local/lib/python3.11/dist-packages (from torch) (1.13.1)\n",
            "Requirement already satisfied: mpmath<1.4,>=1.1.0 in /usr/local/lib/python3.11/dist-packages (from sympy==1.13.1->torch) (1.3.0)\n",
            "Requirement already satisfied: MarkupSafe>=2.0 in /usr/local/lib/python3.11/dist-packages (from jinja2->torch) (3.0.2)\n",
            "Downloading nvidia_cublas_cu12-12.4.5.8-py3-none-manylinux2014_x86_64.whl (363.4 MB)\n",
            "\u001b[2K   \u001b[90m━━━━━━━━━━━━━━━━━━━━━━━━━━━━━━━━━━━━━━━━\u001b[0m \u001b[32m363.4/363.4 MB\u001b[0m \u001b[31m2.7 MB/s\u001b[0m eta \u001b[36m0:00:00\u001b[0m\n",
            "\u001b[?25hDownloading nvidia_cuda_cupti_cu12-12.4.127-py3-none-manylinux2014_x86_64.whl (13.8 MB)\n",
            "\u001b[2K   \u001b[90m━━━━━━━━━━━━━━━━━━━━━━━━━━━━━━━━━━━━━━━━\u001b[0m \u001b[32m13.8/13.8 MB\u001b[0m \u001b[31m35.3 MB/s\u001b[0m eta \u001b[36m0:00:00\u001b[0m\n",
            "\u001b[?25hDownloading nvidia_cuda_nvrtc_cu12-12.4.127-py3-none-manylinux2014_x86_64.whl (24.6 MB)\n",
            "\u001b[2K   \u001b[90m━━━━━━━━━━━━━━━━━━━━━━━━━━━━━━━━━━━━━━━━\u001b[0m \u001b[32m24.6/24.6 MB\u001b[0m \u001b[31m31.7 MB/s\u001b[0m eta \u001b[36m0:00:00\u001b[0m\n",
            "\u001b[?25hDownloading nvidia_cuda_runtime_cu12-12.4.127-py3-none-manylinux2014_x86_64.whl (883 kB)\n",
            "\u001b[2K   \u001b[90m━━━━━━━━━━━━━━━━━━━━━━━━━━━━━━━━━━━━━━━━\u001b[0m \u001b[32m883.7/883.7 kB\u001b[0m \u001b[31m27.6 MB/s\u001b[0m eta \u001b[36m0:00:00\u001b[0m\n",
            "\u001b[?25hDownloading nvidia_cudnn_cu12-9.1.0.70-py3-none-manylinux2014_x86_64.whl (664.8 MB)\n",
            "\u001b[2K   \u001b[90m━━━━━━━━━━━━━━━━━━━━━━━━━━━━━━━━━━━━━━━━\u001b[0m \u001b[32m664.8/664.8 MB\u001b[0m \u001b[31m2.9 MB/s\u001b[0m eta \u001b[36m0:00:00\u001b[0m\n",
            "\u001b[?25hDownloading nvidia_cufft_cu12-11.2.1.3-py3-none-manylinux2014_x86_64.whl (211.5 MB)\n",
            "\u001b[2K   \u001b[90m━━━━━━━━━━━━━━━━━━━━━━━━━━━━━━━━━━━━━━━━\u001b[0m \u001b[32m211.5/211.5 MB\u001b[0m \u001b[31m6.6 MB/s\u001b[0m eta \u001b[36m0:00:00\u001b[0m\n",
            "\u001b[?25hDownloading nvidia_curand_cu12-10.3.5.147-py3-none-manylinux2014_x86_64.whl (56.3 MB)\n",
            "\u001b[2K   \u001b[90m━━━━━━━━━━━━━━━━━━━━━━━━━━━━━━━━━━━━━━━━\u001b[0m \u001b[32m56.3/56.3 MB\u001b[0m \u001b[31m12.5 MB/s\u001b[0m eta \u001b[36m0:00:00\u001b[0m\n",
            "\u001b[?25hDownloading nvidia_cusolver_cu12-11.6.1.9-py3-none-manylinux2014_x86_64.whl (127.9 MB)\n",
            "\u001b[2K   \u001b[90m━━━━━━━━━━━━━━━━━━━━━━━━━━━━━━━━━━━━━━━━\u001b[0m \u001b[32m127.9/127.9 MB\u001b[0m \u001b[31m7.5 MB/s\u001b[0m eta \u001b[36m0:00:00\u001b[0m\n",
            "\u001b[?25hDownloading nvidia_cusparse_cu12-12.3.1.170-py3-none-manylinux2014_x86_64.whl (207.5 MB)\n",
            "\u001b[2K   \u001b[90m━━━━━━━━━━━━━━━━━━━━━━━━━━━━━━━━━━━━━━━━\u001b[0m \u001b[32m207.5/207.5 MB\u001b[0m \u001b[31m6.5 MB/s\u001b[0m eta \u001b[36m0:00:00\u001b[0m\n",
            "\u001b[?25hDownloading nvidia_nvjitlink_cu12-12.4.127-py3-none-manylinux2014_x86_64.whl (21.1 MB)\n",
            "\u001b[2K   \u001b[90m━━━━━━━━━━━━━━━━━━━━━━━━━━━━━━━━━━━━━━━━\u001b[0m \u001b[32m21.1/21.1 MB\u001b[0m \u001b[31m80.4 MB/s\u001b[0m eta \u001b[36m0:00:00\u001b[0m\n",
            "\u001b[?25hInstalling collected packages: nvidia-nvjitlink-cu12, nvidia-curand-cu12, nvidia-cufft-cu12, nvidia-cuda-runtime-cu12, nvidia-cuda-nvrtc-cu12, nvidia-cuda-cupti-cu12, nvidia-cublas-cu12, nvidia-cusparse-cu12, nvidia-cudnn-cu12, nvidia-cusolver-cu12\n",
            "  Attempting uninstall: nvidia-nvjitlink-cu12\n",
            "    Found existing installation: nvidia-nvjitlink-cu12 12.5.82\n",
            "    Uninstalling nvidia-nvjitlink-cu12-12.5.82:\n",
            "      Successfully uninstalled nvidia-nvjitlink-cu12-12.5.82\n",
            "  Attempting uninstall: nvidia-curand-cu12\n",
            "    Found existing installation: nvidia-curand-cu12 10.3.6.82\n",
            "    Uninstalling nvidia-curand-cu12-10.3.6.82:\n",
            "      Successfully uninstalled nvidia-curand-cu12-10.3.6.82\n",
            "  Attempting uninstall: nvidia-cufft-cu12\n",
            "    Found existing installation: nvidia-cufft-cu12 11.2.3.61\n",
            "    Uninstalling nvidia-cufft-cu12-11.2.3.61:\n",
            "      Successfully uninstalled nvidia-cufft-cu12-11.2.3.61\n",
            "  Attempting uninstall: nvidia-cuda-runtime-cu12\n",
            "    Found existing installation: nvidia-cuda-runtime-cu12 12.5.82\n",
            "    Uninstalling nvidia-cuda-runtime-cu12-12.5.82:\n",
            "      Successfully uninstalled nvidia-cuda-runtime-cu12-12.5.82\n",
            "  Attempting uninstall: nvidia-cuda-nvrtc-cu12\n",
            "    Found existing installation: nvidia-cuda-nvrtc-cu12 12.5.82\n",
            "    Uninstalling nvidia-cuda-nvrtc-cu12-12.5.82:\n",
            "      Successfully uninstalled nvidia-cuda-nvrtc-cu12-12.5.82\n",
            "  Attempting uninstall: nvidia-cuda-cupti-cu12\n",
            "    Found existing installation: nvidia-cuda-cupti-cu12 12.5.82\n",
            "    Uninstalling nvidia-cuda-cupti-cu12-12.5.82:\n",
            "      Successfully uninstalled nvidia-cuda-cupti-cu12-12.5.82\n",
            "  Attempting uninstall: nvidia-cublas-cu12\n",
            "    Found existing installation: nvidia-cublas-cu12 12.5.3.2\n",
            "    Uninstalling nvidia-cublas-cu12-12.5.3.2:\n",
            "      Successfully uninstalled nvidia-cublas-cu12-12.5.3.2\n",
            "  Attempting uninstall: nvidia-cusparse-cu12\n",
            "    Found existing installation: nvidia-cusparse-cu12 12.5.1.3\n",
            "    Uninstalling nvidia-cusparse-cu12-12.5.1.3:\n",
            "      Successfully uninstalled nvidia-cusparse-cu12-12.5.1.3\n",
            "  Attempting uninstall: nvidia-cudnn-cu12\n",
            "    Found existing installation: nvidia-cudnn-cu12 9.3.0.75\n",
            "    Uninstalling nvidia-cudnn-cu12-9.3.0.75:\n",
            "      Successfully uninstalled nvidia-cudnn-cu12-9.3.0.75\n",
            "  Attempting uninstall: nvidia-cusolver-cu12\n",
            "    Found existing installation: nvidia-cusolver-cu12 11.6.3.83\n",
            "    Uninstalling nvidia-cusolver-cu12-11.6.3.83:\n",
            "      Successfully uninstalled nvidia-cusolver-cu12-11.6.3.83\n",
            "Successfully installed nvidia-cublas-cu12-12.4.5.8 nvidia-cuda-cupti-cu12-12.4.127 nvidia-cuda-nvrtc-cu12-12.4.127 nvidia-cuda-runtime-cu12-12.4.127 nvidia-cudnn-cu12-9.1.0.70 nvidia-cufft-cu12-11.2.1.3 nvidia-curand-cu12-10.3.5.147 nvidia-cusolver-cu12-11.6.1.9 nvidia-cusparse-cu12-12.3.1.170 nvidia-nvjitlink-cu12-12.4.127\n",
            "Collecting gensim\n",
            "  Downloading gensim-4.3.3-cp311-cp311-manylinux_2_17_x86_64.manylinux2014_x86_64.whl.metadata (8.1 kB)\n",
            "Requirement already satisfied: numpy<2.0,>=1.18.5 in /usr/local/lib/python3.11/dist-packages (from gensim) (1.26.4)\n",
            "Collecting scipy<1.14.0,>=1.7.0 (from gensim)\n",
            "  Downloading scipy-1.13.1-cp311-cp311-manylinux_2_17_x86_64.manylinux2014_x86_64.whl.metadata (60 kB)\n",
            "\u001b[2K     \u001b[90m━━━━━━━━━━━━━━━━━━━━━━━━━━━━━━━━━━━━━━━━\u001b[0m \u001b[32m60.6/60.6 kB\u001b[0m \u001b[31m2.0 MB/s\u001b[0m eta \u001b[36m0:00:00\u001b[0m\n",
            "\u001b[?25hRequirement already satisfied: smart-open>=1.8.1 in /usr/local/lib/python3.11/dist-packages (from gensim) (7.1.0)\n",
            "Requirement already satisfied: wrapt in /usr/local/lib/python3.11/dist-packages (from smart-open>=1.8.1->gensim) (1.17.2)\n",
            "Downloading gensim-4.3.3-cp311-cp311-manylinux_2_17_x86_64.manylinux2014_x86_64.whl (26.7 MB)\n",
            "\u001b[2K   \u001b[90m━━━━━━━━━━━━━━━━━━━━━━━━━━━━━━━━━━━━━━━━\u001b[0m \u001b[32m26.7/26.7 MB\u001b[0m \u001b[31m14.7 MB/s\u001b[0m eta \u001b[36m0:00:00\u001b[0m\n",
            "\u001b[?25hDownloading scipy-1.13.1-cp311-cp311-manylinux_2_17_x86_64.manylinux2014_x86_64.whl (38.6 MB)\n",
            "\u001b[2K   \u001b[90m━━━━━━━━━━━━━━━━━━━━━━━━━━━━━━━━━━━━━━━━\u001b[0m \u001b[32m38.6/38.6 MB\u001b[0m \u001b[31m20.7 MB/s\u001b[0m eta \u001b[36m0:00:00\u001b[0m\n",
            "\u001b[?25hInstalling collected packages: scipy, gensim\n",
            "  Attempting uninstall: scipy\n",
            "    Found existing installation: scipy 1.14.1\n",
            "    Uninstalling scipy-1.14.1:\n",
            "      Successfully uninstalled scipy-1.14.1\n",
            "Successfully installed gensim-4.3.3 scipy-1.13.1\n",
            "Collecting underthesea\n",
            "  Downloading underthesea-6.8.4-py3-none-any.whl.metadata (15 kB)\n",
            "Requirement already satisfied: Click>=6.0 in /usr/local/lib/python3.11/dist-packages (from underthesea) (8.1.8)\n",
            "Requirement already satisfied: python-crfsuite>=0.9.6 in /usr/local/lib/python3.11/dist-packages (from underthesea) (0.9.11)\n",
            "Requirement already satisfied: nltk in /usr/local/lib/python3.11/dist-packages (from underthesea) (3.9.1)\n",
            "Requirement already satisfied: tqdm in /usr/local/lib/python3.11/dist-packages (from underthesea) (4.67.1)\n",
            "Requirement already satisfied: requests in /usr/local/lib/python3.11/dist-packages (from underthesea) (2.32.3)\n",
            "Requirement already satisfied: joblib in /usr/local/lib/python3.11/dist-packages (from underthesea) (1.4.2)\n",
            "Requirement already satisfied: scikit-learn in /usr/local/lib/python3.11/dist-packages (from underthesea) (1.6.1)\n",
            "Requirement already satisfied: PyYAML in /usr/local/lib/python3.11/dist-packages (from underthesea) (6.0.2)\n",
            "Collecting underthesea-core==1.0.4 (from underthesea)\n",
            "  Downloading underthesea_core-1.0.4-cp311-cp311-manylinux2010_x86_64.whl.metadata (1.7 kB)\n",
            "Requirement already satisfied: regex>=2021.8.3 in /usr/local/lib/python3.11/dist-packages (from nltk->underthesea) (2024.11.6)\n",
            "Requirement already satisfied: charset-normalizer<4,>=2 in /usr/local/lib/python3.11/dist-packages (from requests->underthesea) (3.4.1)\n",
            "Requirement already satisfied: idna<4,>=2.5 in /usr/local/lib/python3.11/dist-packages (from requests->underthesea) (3.10)\n",
            "Requirement already satisfied: urllib3<3,>=1.21.1 in /usr/local/lib/python3.11/dist-packages (from requests->underthesea) (2.3.0)\n",
            "Requirement already satisfied: certifi>=2017.4.17 in /usr/local/lib/python3.11/dist-packages (from requests->underthesea) (2025.1.31)\n",
            "Requirement already satisfied: numpy>=1.19.5 in /usr/local/lib/python3.11/dist-packages (from scikit-learn->underthesea) (1.26.4)\n",
            "Requirement already satisfied: scipy>=1.6.0 in /usr/local/lib/python3.11/dist-packages (from scikit-learn->underthesea) (1.13.1)\n",
            "Requirement already satisfied: threadpoolctl>=3.1.0 in /usr/local/lib/python3.11/dist-packages (from scikit-learn->underthesea) (3.6.0)\n",
            "Downloading underthesea-6.8.4-py3-none-any.whl (20.9 MB)\n",
            "\u001b[2K   \u001b[90m━━━━━━━━━━━━━━━━━━━━━━━━━━━━━━━━━━━━━━━━\u001b[0m \u001b[32m20.9/20.9 MB\u001b[0m \u001b[31m20.7 MB/s\u001b[0m eta \u001b[36m0:00:00\u001b[0m\n",
            "\u001b[?25hDownloading underthesea_core-1.0.4-cp311-cp311-manylinux2010_x86_64.whl (657 kB)\n",
            "\u001b[2K   \u001b[90m━━━━━━━━━━━━━━━━━━━━━━━━━━━━━━━━━━━━━━━━\u001b[0m \u001b[32m657.8/657.8 kB\u001b[0m \u001b[31m32.0 MB/s\u001b[0m eta \u001b[36m0:00:00\u001b[0m\n",
            "\u001b[?25hInstalling collected packages: underthesea-core, underthesea\n",
            "Successfully installed underthesea-6.8.4 underthesea-core-1.0.4\n",
            "Requirement already satisfied: transformers in /usr/local/lib/python3.11/dist-packages (4.48.3)\n",
            "Requirement already satisfied: filelock in /usr/local/lib/python3.11/dist-packages (from transformers) (3.17.0)\n",
            "Requirement already satisfied: huggingface-hub<1.0,>=0.24.0 in /usr/local/lib/python3.11/dist-packages (from transformers) (0.28.1)\n",
            "Requirement already satisfied: numpy>=1.17 in /usr/local/lib/python3.11/dist-packages (from transformers) (1.26.4)\n",
            "Requirement already satisfied: packaging>=20.0 in /usr/local/lib/python3.11/dist-packages (from transformers) (24.2)\n",
            "Requirement already satisfied: pyyaml>=5.1 in /usr/local/lib/python3.11/dist-packages (from transformers) (6.0.2)\n",
            "Requirement already satisfied: regex!=2019.12.17 in /usr/local/lib/python3.11/dist-packages (from transformers) (2024.11.6)\n",
            "Requirement already satisfied: requests in /usr/local/lib/python3.11/dist-packages (from transformers) (2.32.3)\n",
            "Requirement already satisfied: tokenizers<0.22,>=0.21 in /usr/local/lib/python3.11/dist-packages (from transformers) (0.21.1)\n",
            "Requirement already satisfied: safetensors>=0.4.1 in /usr/local/lib/python3.11/dist-packages (from transformers) (0.5.3)\n",
            "Requirement already satisfied: tqdm>=4.27 in /usr/local/lib/python3.11/dist-packages (from transformers) (4.67.1)\n",
            "Requirement already satisfied: fsspec>=2023.5.0 in /usr/local/lib/python3.11/dist-packages (from huggingface-hub<1.0,>=0.24.0->transformers) (2024.10.0)\n",
            "Requirement already satisfied: typing-extensions>=3.7.4.3 in /usr/local/lib/python3.11/dist-packages (from huggingface-hub<1.0,>=0.24.0->transformers) (4.12.2)\n",
            "Requirement already satisfied: charset-normalizer<4,>=2 in /usr/local/lib/python3.11/dist-packages (from requests->transformers) (3.4.1)\n",
            "Requirement already satisfied: idna<4,>=2.5 in /usr/local/lib/python3.11/dist-packages (from requests->transformers) (3.10)\n",
            "Requirement already satisfied: urllib3<3,>=1.21.1 in /usr/local/lib/python3.11/dist-packages (from requests->transformers) (2.3.0)\n",
            "Requirement already satisfied: certifi>=2017.4.17 in /usr/local/lib/python3.11/dist-packages (from requests->transformers) (2025.1.31)\n"
          ]
        }
      ],
      "source": [
        "!pip install pyvi\n",
        "!pip install torch\n",
        "!pip install gensim\n",
        "!pip install underthesea\n",
        "!pip install transformers"
      ]
    },
    {
      "cell_type": "markdown",
      "metadata": {
        "id": "osP1wQBmeMYc"
      },
      "source": [
        "# Fix bug"
      ]
    },
    {
      "cell_type": "markdown",
      "metadata": {
        "id": "DkzhwYsbeWaz"
      },
      "source": [
        "After executing this cell, you must Restart runtim (Runtime → Restart runtime)"
      ]
    },
    {
      "cell_type": "code",
      "execution_count": null,
      "metadata": {
        "colab": {
          "base_uri": "https://localhost:8080/"
        },
        "id": "jFz1JO_LcCxT",
        "outputId": "6c07d28b-fa56-493e-d1dc-b382393fe342"
      },
      "outputs": [
        {
          "name": "stdout",
          "output_type": "stream",
          "text": [
            "Installing numpy==1.26.4...\n",
            "Numpy has been updated. Please restart your runtime for changes to take effect.\n"
          ]
        }
      ],
      "source": [
        "import subprocess\n",
        "import sys\n",
        "\n",
        "# !pip install numpy==1.26.4\n",
        "def check_and_install_numpy(required_ver=\"1.26.4\"):\n",
        "  current_ver = np.__version__\n",
        "\n",
        "  if current_ver != required_ver:\n",
        "    print(f\"Installing numpy=={required_ver}...\")\n",
        "    subprocess.check_call([sys.executable, \"-m\", \"pip\", \"install\", f\"numpy=={required_ver}\"])\n",
        "    print(\"Numpy has been updated. Please restart your runtime for changes to take effect.\")\n",
        "  else:\n",
        "    print(\"Numpy version is already correct.\")\n",
        "\n",
        "check_and_install_numpy()"
      ]
    },
    {
      "cell_type": "code",
      "execution_count": null,
      "metadata": {
        "colab": {
          "base_uri": "https://localhost:8080/"
        },
        "id": "nAgt5A1NdeZg",
        "outputId": "3d22652b-3c91-48f5-e05f-b04e9c54f301"
      },
      "outputs": [
        {
          "name": "stdout",
          "output_type": "stream",
          "text": [
            "1.26.4\n"
          ]
        }
      ],
      "source": [
        "import numpy as np\n",
        "print(np.__version__)"
      ]
    },
    {
      "cell_type": "markdown",
      "metadata": {
        "id": "p25mtyfvxIUo"
      },
      "source": [
        "# Import Libraries"
      ]
    },
    {
      "cell_type": "code",
      "execution_count": null,
      "metadata": {
        "id": "7ByltKq_1qG-"
      },
      "outputs": [],
      "source": [
        "import pandas as pd\n",
        "import numpy as np\n",
        "import matplotlib.pyplot as plt\n",
        "\n",
        "# from underthesea import word_tokenize\n",
        "\n",
        "from pyvi import ViTokenizer, ViPosTagger\n",
        "\n",
        "import gensim\n",
        "from gensim.utils import simple_preprocess\n",
        "from gensim.models.doc2vec import Doc2Vec, TaggedDocument\n",
        "\n",
        "from keras.models import Sequential, load_model\n",
        "from keras.layers import LSTM, Dense, Embedding\n",
        "\n",
        "from tensorflow.keras.models import Sequential\n",
        "from tensorflow.keras.layers import Input, Dense, Dropout, BatchNormalization\n",
        "from tensorflow.keras.optimizers import Adam\n",
        "from tensorflow.keras.utils import to_categorical\n",
        "\n",
        "from sklearn.preprocessing import LabelEncoder\n",
        "from sklearn.feature_extraction.text import CountVectorizer, TfidfVectorizer\n",
        "\n",
        "from sklearn.naive_bayes import MultinomialNB\n",
        "from sklearn.linear_model import LogisticRegression\n",
        "from sklearn.tree import DecisionTreeClassifier\n",
        "\n",
        "from sklearn.metrics import classification_report, accuracy_score\n",
        "\n",
        "import torch\n",
        "\n",
        "import joblib\n",
        "\n",
        "from transformers import AutoTokenizer, AutoModel"
      ]
    },
    {
      "cell_type": "markdown",
      "metadata": {
        "id": "Ez5rZU4JxLQv"
      },
      "source": [
        "# Dataset paths"
      ]
    },
    {
      "cell_type": "code",
      "execution_count": null,
      "metadata": {
        "id": "a-S1qEuU2-gM"
      },
      "outputs": [],
      "source": [
        "train_path = '/content/drive/MyDrive/Dataset/NLP/train.csv'\n",
        "test_path = '/content/drive/MyDrive/Dataset/NLP/test.csv'\n",
        "stopwords_path = '/content/drive/MyDrive/Dataset/NLP/stopwords-vi.txt'"
      ]
    },
    {
      "cell_type": "markdown",
      "metadata": {
        "id": "lxVZdr4IxPIY"
      },
      "source": [
        "# Preprocess dataset"
      ]
    },
    {
      "cell_type": "code",
      "execution_count": null,
      "metadata": {
        "id": "Gbhdt9S9by91"
      },
      "outputs": [],
      "source": [
        "def load_stopwords(file_path):\n",
        "  with open(file_path, 'r', encoding='utf-8-sig') as f:\n",
        "    return {line.strip() for line in f if line.strip()}\n",
        "\n",
        "def preprocess(text, stopwords):\n",
        "  tokenized_text = ViTokenizer.tokenize(text)\n",
        "  tokens = simple_preprocess(tokenized_text)\n",
        "  tokens = [token for token in tokens if token not in stopwords]\n",
        "  return \" \".join(tokens)"
      ]
    },
    {
      "cell_type": "code",
      "execution_count": null,
      "metadata": {
        "id": "5K6Uy3QksuCY"
      },
      "outputs": [],
      "source": [
        "stopwords = load_stopwords(stopwords_path)"
      ]
    },
    {
      "cell_type": "code",
      "execution_count": null,
      "metadata": {
        "id": "GOmLoigWskNW"
      },
      "outputs": [],
      "source": [
        "train_df = pd.read_csv(train_path)\n",
        "train_df['text'] = train_df['text'].apply(lambda x: preprocess(x, stopwords))\n",
        "train_df.to_csv('processed_train.csv')"
      ]
    },
    {
      "cell_type": "code",
      "execution_count": null,
      "metadata": {
        "id": "zEAOGO77s_9r"
      },
      "outputs": [],
      "source": [
        "test_df = pd.read_csv(test_path)\n",
        "test_df['text'] = test_df['text'].apply(lambda x: preprocess(x, stopwords))\n",
        "test_df.to_csv('processed_test.csv')"
      ]
    },
    {
      "cell_type": "code",
      "execution_count": null,
      "metadata": {
        "id": "4nk_U4nZAB5i"
      },
      "outputs": [],
      "source": [
        "train_path = '/content/drive/MyDrive/Dataset/NLP/processed_train.csv'\n",
        "test_path = '/content/drive/MyDrive/Dataset/NLP/processed_test.csv'"
      ]
    },
    {
      "cell_type": "code",
      "execution_count": null,
      "metadata": {
        "colab": {
          "base_uri": "https://localhost:8080/"
        },
        "id": "At4M6ZV8u5f7",
        "outputId": "8147e66b-d666-40e6-cdba-07d128e58b61"
      },
      "outputs": [
        {
          "data": {
            "text/plain": [
              "((33759, 3), (50373, 3))"
            ]
          },
          "execution_count": 12,
          "metadata": {},
          "output_type": "execute_result"
        }
      ],
      "source": [
        "train_df = pd.read_csv(train_path)\n",
        "test_df = pd.read_csv(test_path)\n",
        "\n",
        "train_df.shape, test_df.shape"
      ]
    },
    {
      "cell_type": "code",
      "execution_count": null,
      "metadata": {
        "colab": {
          "base_uri": "https://localhost:8080/",
          "height": 206
        },
        "id": "w0Q-7OfDKxE6",
        "outputId": "30daa8b8-2fb6-4ff8-b126-641878e375f1"
      },
      "outputs": [
        {
          "data": {
            "application/vnd.google.colaboratory.intrinsic+json": {
              "summary": "{\n  \"name\": \"train_df\",\n  \"rows\": 5,\n  \"fields\": [\n    {\n      \"column\": \"Unnamed: 0\",\n      \"properties\": {\n        \"dtype\": \"number\",\n        \"std\": 12604,\n        \"min\": 1825,\n        \"max\": 28796,\n        \"num_unique_values\": 5,\n        \"samples\": [\n          26279,\n          16484,\n          28796\n        ],\n        \"semantic_type\": \"\",\n        \"description\": \"\"\n      }\n    },\n    {\n      \"column\": \"text\",\n      \"properties\": {\n        \"dtype\": \"string\",\n        \"num_unique_values\": 5,\n        \"samples\": [\n          \"milan t\\u01b0\\u01a1ng_\\u0111\\u1ed1i v\\u1ea5t_v\\u1ea3 c\\u00fap uefa g\\u1eb7p sochaux ph\\u00e1p t\\u01b0\\u01a1ng_lai alex_ferguson mu \\u0111e_d\\u1ecda \\u1ee7ng_h\\u1ed9 gia_\\u0111\\u00ecnh ng\\u00f4i_sao cameroon marc vivien_foe h\\u1eadu_v\\u1ec7 brazil silvinho tr\\u00f9 arsenal thua celta vigo lo\\u1ea1t \\u0111\\u00e1 kock out ronald koeman ajax amsterdam m\\u1eddi gia_h\\u1ea1n h\\u1ee3p_\\u0111\\u1ed3ng th\\u00eam h\\u1ea5t v\\u0103ng kh\\u1ecfi inter_milan t\\u01b0\\u01a1ng_\\u0111\\u1ed1i v\\u1ea5t_v\\u1ea3 c\\u00fap uefa g\\u1eb7p sochaux ph\\u00e1p \\u0111\\u1ed9i b\\u00f3ng lo\\u1ea1i borussia dortmund v\\u00f2ng_\\u0111\\u1ea5u hai \\u0111\\u1ed9i b\\u00f3ng liverpool t\\u01b0\\u01a1ng_\\u0111\\u1ed1i d\\u1ec5_ch\\u1ecbu levski_sofia bulgaria barcelona ph\\u1ea7n nh\\u1ec9nh brndby \\u0111an_m\\u1ea1ch t\\u01b0\\u01a1ng_lai alex_ferguson mu \\u0111e_d\\u1ecda nh\\u00f3m gi\\u00e1m_\\u0111\\u1ed1c old trafford k\\u1ebft_t\\u1ed9i l\\u1ea1m_d\\u1ee5ng quy\\u1ec1n_l\\u1ef1c n\\u1ed9i_b\\u1ed9 mu tr\\u1edf_n\\u00ean c\\u0103ng_th\\u1eb3ng ferguson c\\u00e3i n\\u1ea3y_l\\u1eeda john_magnier tr\\u00f9m chuy\\u00ean t\\u1ed5_ch\\u1ee9c \\u0111ua hi\\u1ec7n c\\u1ed5_ph\\u1ea7n_nhi\\u1ec1u mu c\\u00f3_ngh\\u0129a hy_v\\u1ecdng t\\u00e1i_gia_h\\u1ea1n h\\u1ee3p_\\u0111\\u1ed3ng ferguson m\\u1ee9c l\\u01b0\\u01a1ng h\\u00e0ng tri\\u1ec7u b\\u1ea3ng c\\u00f3_th\\u1ec3 tr\\u1edf_th\\u00e0nh hi\\u1ec7n_th\\u1ef1c phi\\u00ean h\\u1ecdp l\\u0111b\\u0111 ch\\u00e2u phi quy\\u1ebft_\\u0111\\u1ecbnh t\\u1ea5t_c\\u1ea3 ngu\\u1ed3n l\\u1ee3i thu tr\\u1eadn si\\u00eau c\\u00fap ch\\u00e2u phi kho\\u1ea3n ti\\u1ec1n ti\\u1ebft_l\\u1ed9 d\\u00f9ng \\u1ee7ng_h\\u1ed9 gia_\\u0111\\u00ecnh ng\\u00f4i_sao cameroon marc vivien_foe tr\\u1eadn_\\u0111\\u1ea5u th\\u01b0\\u1eddng_ni\\u00ean di\\u1ec5n \\u0111\\u1ed9i b\\u00f3ng v\\u0111 ch\\u00e2u phi ismailia c\\u1eadp etoile_sahel tunisia foe \\u0111\\u1ed9t_t\\u1eed tr\\u1eadn cameroon th\\u1eafng colombia c\\u00fap li\\u00ean l\\u1ee5c_\\u0111\\u1ecba h\\u1eadu_v\\u1ec7 brazil silvinho tr\\u00f9 arsenal thua celta vigo lo\\u1ea1t \\u0111\\u00e1 kock out linh_c\\u1ea3m celta \\u0111\\u00e1 b\\u1ea1i \\u0111\\u1ed9i b\\u00f3ng arsenal \\u0111\\u1ed9i b\\u00f3ng tuy\\u1ec7t \\u0111\\u00e1 t\\u1ed1t g\\u1ea7n silvinho r\\u1eddi arsenal c\\u00e1ch \\u0111\\u1ea7u_qu\\u00e2n celta m\\u1eb7c_d\\u00f9 lo\\u1ea1i kh\\u1ecfi song ronald koeman ajax amsterdam m\\u1eddi gia_h\\u1ea1n h\\u1ee3p_\\u0111\\u1ed3ng th\\u00eam c\\u00f3_ngh\\u0129a ti\\u1ebfp_t\\u1ee5c d\\u1eabn_d\\u1eaft \\u0111\\u1ed9i b\\u00f3ng h\\u00e0_lan t\\u1eadn c\\u1ef1u_trung_v\\u1ec7 tu\\u1ed5i n\\u1eafm ajax l\\u1eadp_t\\u1ee9c gi\\u00fap \\u0111\\u1ed9i b\\u00f3ng \\u0111o\\u1ea1t ch\\u1ee9c v\\u0111 g\\u1ed3m v\\u0111 qu\\u1ed1c_gia c\\u00fap qu\\u1ed1c_gia si\\u00eau c\\u00fap h\\u00e0_lan\",\n          \"b\\u1eaft_\\u0111\\u1ea7u x\\u00e9t_x\\u1eed v\\u1ee5 s\\u00e1t_h\\u1ea1i sv v\\u0169_anh_tu\\u1ea5n phi\\u00ean l\\u00e0m_vi\\u1ec7c t\\u00f2a_\\u00e1n \\u0111\\u1ea1i_di\\u1ec7n h\\u1ee3p_ph\\u00e1p b\\u1ecb_h\\u1ea1i nguy\\u1ec5n \\u0111\\u1ee9c_to\\u00e0n ph\\u00f3_ch\\u1ee7_t\\u1ecbch h\\u1ed9i vi\\u1ec7t_nam lu\\u1eadt_s\\u01b0 b\\u00ean h\\u1ea1i tham_d\\u1ef1 c\\u00e1o_tr\\u1ea1ng vi\\u1ec7n ki\\u1ec3m_s\\u00e1t th\\u00e0nh_ph\\u1ed1 v\\u1ee5 s\\u00e1t_h\\u1ea1i v\\u0169_anh tu\\u1ea5n v\\u1ee5 gi\\u1ebft \\u0111\\u1ed9ng_c\\u01a1 th\\u00f9_h\\u1eb1n d\\u00e2n_t\\u1ed9c nh\\u00f3m thi\\u1ebfu_ni\\u00ean c\\u00f4n_\\u0111\\u1ed3 t\\u1ed1i ch\\u1eb7n \\u0111\\u01b0\\u1eddng \\u0111\\u00e2m v\\u0169_anh tu\\u1ea5n sinh_vi\\u00ean \\u0111\\u1ea1i_h\\u1ecdc b\\u00e1ch_khoa nh\\u00e1t dao tu\\u1ea5n ch\\u1ebft t\\u1ea1i_ch\\u1ed7 qu\\u00e1_tr\\u00ecnh \\u0111i\\u1ec1u_tra h\\u1ed3_s\\u01a1 v\\u1ee5 \\u00e1n gi\\u1ebft v\\u0169_anh tu\\u1ea5n c\\u01a1_quan t\\u1ed1_t\\u1ee5ng k\\u1ebft_h\\u1ee3p h\\u1ed3_s\\u01a1 v\\u1ee5 \\u00e1n nh\\u00f3m thi\\u1ebfu_ni\\u00ean th\\u1ee7_ph\\u1ea1m v\\u00ec_v\\u1eady phi\\u00ean_t\\u00f2a x\\u00e9t_x\\u1eed v\\u1ee5 \\u00e1n ti\\u1ebfn_tr\\u00ecnh th\\u1ed1ng_nh\\u1ea5t d\\u01b0_lu\\u1eadn c\\u1ed9ng_\\u0111\\u1ed3ng vi\\u1ec7t_nam n\\u01b0\\u1edbc_ngo\\u00e0i li\\u00ean_bang nga d\\u01b0_lu\\u1eadn x\\u00e3_h\\u1ed9i nga n\\u00f3i_chung tr\\u00f4ng_\\u0111\\u1ee3i t\\u00f2a_\\u00e1n b\\u1ea3n_\\u00e1n nghi\\u00eam_minh \\u0111\\u1ed1i_v\\u1edbi k\\u1ebb gi\\u1ebft_h\\u1ea1i d\\u00e3_man v\\u0169_anh tu\\u1ea5n\",\n          \"s\\u1eafc_\\u0111\\u1eb9p b\\u00e1u_v\\u1eadt th\\u1eadt may_m\\u1eafn s\\u1edf_h\\u1eefu tuy_nhi\\u00ean m\\u1ed9t_s\\u1ed1 s\\u1edf_h\\u1eefu th\\u00f4i_th\\u00ec \\u0111\\u1ee7 t\\u1eadn_d\\u1ee5ng c\\u00f3_th\\u1ec3 th\\u00e0nh_danh c\\u00f3_th\\u1ec3 s\\u1ed1ng \\u0111\\u1ea7y_\\u0111\\u1ee7 \\u0111\\u00f4i_khi gi\\u00e0u_c\\u00f3 n\\u1ed5i_ti\\u1ebfng tr\\u0103m ng\\u00e0n l\\u00fd_do t\\u0103ng_t\\u1ed1c thi \\u0111\\u1eb9p sinh v\\u00f9ng qu\\u00ea h\\u1ebbo_l\\u00e1nh xa_x\\u00f4i m\\u1ea5y gia_c\\u1ea3nh kh\\u00f3_kh\\u0103n \\u0111i\\u1ec1u_ki\\u1ec7n h\\u1ecdc_h\\u00e0nh ch\\u1ed1n may_m\\u1eafn n\\u1eafm t\\u00e0i_s\\u1ea3n nhan_s\\u1eafc l\\u00e0m_sao th\\u00e0nh_danh c\\u00e2u tr\\u1ea3_l\\u1eddi \\u0111\\u01a1n_gi\\u1ea3n hi\\u1ec7u_qu\\u1ea3 m\\u1ed9t_s\\u1ed1 d\\u1ef1 thi nhan_s\\u1eafc l\\u1ebd kh\\u00e1 \\u0111\\u1eb9p hi\\u1ec7n tham_gia \\u0111\\u1ed9i_ng\\u0169 ng\\u01b0\\u1eddi_m\\u1eabu nhi\\u1ec7t_t\\u00ecnh ki\\u00ean_\\u0111\\u1ecbnh \\u0111eo_\\u0111u\\u1ed5i thi s\\u1eafc_\\u0111\\u1eb9p t\\u1ed5_ch\\u1ee9c \\u0111\\u1ebfn_n\\u1ed7i \\u00edt nh\\u1edb h\\u1ebft th\\u00e2n_th\\u1ecb ho\\u00e0ng_di\\u1ec7u \\u0111o\\u1ea1t gi\\u1ea3i hoa_h\\u1eadu \\u00e1o_d\\u00e0i t\\u00ednh m\\u1ed9t_s\\u1ed1 thi \\u0111\\u01a1n_v\\u1ecb t\\u1ed5_ch\\u1ee9c hoa_h\\u1eadu vi\\u1ec7t_nam si\\u00eau_m\\u1eabu vi\\u1ec7t_nam hoa_h\\u1eadu ph\\u1ee5_n\\u1eef vi\\u1ec7t_nam \\u1ea3nh th\\u00ed_sinh c\\u00f3_th\\u1ec3 tha_h\\u1ed3 ch\\u1ecdn_l\\u1ef1a r\\u1eebng thi \\u0111\\u1eb9p \\u0111\\u1ed3ng_b\\u1eb1ng s\\u00f4ng c\\u1eedu_long t\\u00e2y_\\u0111\\u00f4 b\\u00ecnh_d\\u01b0\\u01a1ng x\\u1ee9 d\\u1eeba hoa_h\\u1eadu h\\u00e0_n\\u1ed9i hoa_h\\u1eadu \\u00e1o_d\\u00e0i hoa_h\\u1eadu bi\\u1ec3n hoa_kh\\u00f4i th\\u1ec3_thao hoa_kh\\u00f4i th\\u1eddi_trang hoa_kh\\u00f4i sinh_vi\\u00ean hoa_kh\\u00f4i hoa h\\u1ecdc_\\u0111\\u01b0\\u1eddng n\\u1eef_ho\\u00e0ng trang_s\\u1ee9c ban t\\u1ed5_ch\\u1ee9c kh\\u00e1n_gi\\u1ea3 b\\u0103n_kho\\u0103n li\\u1ec7u \\u0111\\u1ee7 \\u0111\\u1eb9p tham_d\\u1ef1 ngh\\u0129 s\\u1eafc_\\u0111\\u1eb9p qu\\u00fd_hi\\u1ebfm tuy_nhi\\u00ean m\\u1ecdi th\\u1eafc_m\\u1eafc gi\\u1ea3i_t\\u1ecfa thi ph\\u00e1t_\\u0111\\u1ed9ng h\\u00e0ng tr\\u0103m th\\u1eadm_ch\\u00ed h\\u00e0ng ng\\u00e0n th\\u00ed_sinh n\\u1ed9p \\u0111\\u01a1n tham_d\\u1ef1 c\\u1ef1u_binh thi g\\u00e1i tr\\u1ebb thi l\\u00fd_do tr\\u01b0\\u1edbc_ti\\u00ean l\\u00fd_do \\u0111a_s\\u1ed1 \\u0111\\u1eb9p danh_hi\\u1ec7u m\\u00e3i b\\u01b0\\u1edbc s\\u00e0n_di\\u1ec5n thi\\u1ec7t_th\\u00f2i \\u0111o\\u1ea1t danh_hi\\u1ec7u thi s\\u1eafc_\\u0111\\u1eb9p t\\u00ean_tu\\u1ed5i nh\\u1eafc b\\u00f3ng_t\\u1ed1i b\\u01b0\\u1edbc \\u00e1nh_s\\u00e1ng ti\\u1ebfng s\\u0103n danh_hi\\u1ec7u \\u0111\\u1ec3_m\\u1eaft k\\u1ebb danh ki\\u00ean_tr\\u00ec s\\u0103n danh_hi\\u1ec7u li\\u1ec7t_k\\u00ea danh_s\\u00e1ch m\\u1ef9_nh\\u00e2n tham_d\\u1ef1 thi nhan_s\\u1eafc d\\u00e0i thu h\\u1eb1ng ti\\u1ebfp_t\\u1ee5c thi hoa_h\\u1eadu vi\\u1ec7t_nam \\u0111o\\u1ea1t gi\\u1ea3i v\\u00e0ng si\\u00eau_m\\u1eabu b\\u00f9i th\\u1ecb_di\\u1ec5m gi\\u1ea3i ho\\u00e0ng trang_s\\u1ee9c rinh th\\u00eam danh_hi\\u1ec7u hoa_h\\u1eadu ph\\u1ee5_n\\u1eef vn \\u1ea3nh th\\u00e2n_th\\u1ecb ho\\u00e0ng_di\\u1ec7u thi hoa_kh\\u00f4i \\u0111\\u1ed3ng_b\\u1eb1ng s\\u00f4ng c\\u1eedu_long ti\\u1ebfp_t\\u1ee5c d\\u1ef1 thi hoa_h\\u1eadu vn tr\\u1edf_th\\u00e0nh hoa_h\\u1eadu \\u00e1o_d\\u00e0i mc \\u0111inh_ng\\u1ecdc_di\\u1ec7p s\\u1edf_h\\u1eefu h\\u00e0ng t\\u00e1 danh_hi\\u1ec7u hoa_kh\\u00f4i t\\u00e2y_\\u0111\\u00f4 hoa_kh\\u00f4i \\u0111\\u1ea1i_h\\u1ecdc qu\\u1ed1c_gia hoa_kh\\u00f4i th\\u1eddi_trang m\\u00f9a xu\\u00e2n \\u00e1_h\\u1eadu vn ng\\u1ecdc_b\\u00edch \\u0111o\\u1ea1t gi\\u1ea3i hoa_kh\\u00f4i x\\u1ee9 d\\u1eeba ki\\u00eam \\u00e1_kh\\u00f4i duy\\u00ean_d\\u00e1ng \\u0111\\u1ed3ng_b\\u1eb1ng s\\u00f4ng c\\u1eedu_long qu\\u00e1ch hi\\u1ec1n_nga th\\u1eddi_gian ng\\u1eafn tham_gia li\\u1ec1n t\\u00f9_t\\u00ec hai thi si\\u00eau_m\\u1eabu vn hoa_h\\u1eadu \\u00e1o_d\\u00e0i k\\u1ebft_qu\\u1ea3 \\u0111o\\u1ea1t gi\\u1ea3i_th\\u01b0\\u1edfng quy\\u1ebft_t\\u00e2m thi hoa_h\\u1eadu \\u00e1_kh\\u00f4i thi hoa_kh\\u00f4i th\\u1ec3_thao \\u0111\\u0103ng_quang hoa_h\\u1eadu tr\\u1ecbnh_ch\\u00e2n_tr\\u00e2n d\\u1ef1 thi hoa_h\\u1eadu vn m\\u00e3i th\\u00e0nh_danh gi\\u1ea3i \\u00e1_h\\u1eadu vn l\\u00fd_gi\\u1ea3i hi\\u1ec7n_t\\u01b0\\u1ee3ng \\u0111\\u1eb9p hi\\u1ec7n ng\\u01b0\\u1eddi_m\\u1eabu th\\u1eddi thi h\\u1ecdc_h\\u1ecfi \\u0111\\u00edch h\\u01b0\\u1edbng danh_hi\\u1ec7u danh ti\\u1ec1n ti\\u1ebfng ch\\u1ed7_\\u0111\\u1ee9ng ngh\\u1ec1_nghi\\u1ec7p \\u0111\\u1ed3ng_nghi\\u1ec7p xem_th\\u01b0\\u1eddng \\u00e1_h\\u1eadu ph\\u1ee5_n\\u1eef vn \\u1ea3nh d\\u01b0\\u01a1ng y\\u1ebfn ng\\u1ecdcc\\u0169ng kh\\u00f4ng_th\\u1ec3 tr\\u00e1ch ngh\\u1ec1 ng\\u01b0\\u1eddi_m\\u1eabu \\u0111\\u00e0o_t\\u1ea1o t\\u1ef1_ph\\u00e1t_tri\\u1ec3n hi\\u1ec7n_nay h\\u1eefu_s\\u1eafc v\\u00f4_danh c\\u00e1t s\\u00ea v\\u1ecfn_v\\u1eb9n \\u0111\\u1ed3ng show di\\u1ec5n tr\\u1edf_th\\u00e0nh hoa_h\\u1eadu hoa_kh\\u00f4i \\u0111\\u1eb9p si\\u00eau_m\\u1eabu c\\u00e1t s\\u00ea thay_\\u0111\\u1ed5i nhanh ng\\u1edd \\u0111\\u00f4_la t\\u00f9y_show t\\u00ednh h\\u1ee3p_\\u0111\\u1ed3ng qu\\u1ea3ng_c\\u00e1o b\\u00e9o_b\\u1edf ch\\u1ea1y t\\u00fai d\\u01b0\\u1eddng_nh\\u01b0 thi n\\u01b0\\u1edbc x\\u1ee9ng t\\u1ea7m \\u0111\\u1eb9p nh\\u1ea3y sang th\\u1eed_l\\u1eeda thi qu\\u1ed1c_t\\u1ebf d\\u00f9 tr\\u1eafng_tay vui h\\u1ecdc_h\\u1ecfi vui du_l\\u1ecbch mi\\u1ec5n_ph\\u00ed danh_s\\u00e1ch d\\u1ef1 thi qu\\u1ed1c_t\\u1ebf d\\u00e0i_ngo\\u1eb1ng k\\u00e9m thi n\\u01b0\\u1edbc v\\u0169_h\\u01b0\\u01a1ng_giang hoa_h\\u1eadu th\\u1ebf_gi\\u1edbi thu_h\\u1eb1ng gi\\u00e1ng_mi ho\\u00e0ng kh\\u00e1nh_ng\\u1ecdc hoa_h\\u1eadu ho\\u00e0n_v\\u0169 th\\u00fay_h\\u1ea1nh thanh_ho\\u00e0i ng\\u00e2n_h\\u00e0 hoa_h\\u1eadu tr\\u00e1i_\\u0111\\u1ea5t thanh_h\\u1eb1ng hoa_h\\u1eadu li\\u00ean l\\u1ee5c_\\u0111\\u1ecba thanh_ng\\u00e2n n\\u1eef_ho\\u00e0ng du_l\\u1ecbch qu\\u1ed1c_t\\u1ebf h\\u1ed3ng_h\\u00e0 hoa_h\\u1eadu ch\\u00e2u th\\u1ea3o_h\\u01b0\\u01a1ng hoa_h\\u1eadu asean ho\\u00e0ng_hoa hoa_h\\u1eadu h\\u1eefu_ngh\\u1ecb vi\\u1ec7t trung mai_trang hoa_h\\u1eadu ch\\u00e2u th\\u00e1i_b\\u00ecnh_d\\u01b0\\u01a1ng nguy\\u00ean_nh\\u00e2n th\\u1ee9 hai h\\u1ea5p_d\\u1eabn \\u0111\\u1eb9p d\\u1ef1 thi gi\\u1ea3i_th\\u01b0\\u1edfng th\\u1eed t\\u01b0\\u1edfng_t\\u01b0\\u1ee3ng thi nhan_s\\u1eafc t\\u1ea7m_c\\u1ee1 gi\\u1ea3i_th\\u01b0\\u1edfng khi\\u00eam_t\\u1ed1n \\u0111\\u1ed9 ch\\u1eebng v\\u00e0i tr\\u0103m ng\\u00e0n m\\u1ed9t_hai tri\\u1ec7u \\u0111\\u1ed3ng ban t\\u1ed5_ch\\u1ee9c \\u0111\\u00f3n_nh\\u1eadn th\\u00e0nh_ph\\u1ea7n th\\u00ed_sinh b\\u00e8o c\\u1ee1 gi\\u1ea3i_th\\u01b0\\u1edfng c\\u1ee1 tri\\u1ec7u \\u0111\\u1ed3ng c\\u1ed9ng th\\u00eam chuy\\u1ebfn du_l\\u1ecbch tr\\u1eddi \\u00e2u y\\u1ebfu_t\\u1ed1 h\\u1ea5p_d\\u1eabn \\u0111\\u1eb9p h\\u0103m_h\\u1edf d\\u1ef1 thi tuy_nhi\\u00ean ban t\\u1ed5_ch\\u1ee9c v\\u00e0i thi v\\u1eeba_qua l\\u1eadp_l\\u1edd \\u0111\\u00e1nh l\\u1eadn \\u0111en trao gi\\u1ea3i hi\\u1ec7n_kim hi\\u1ec7n_v\\u1eadt khi\\u1ebfn th\\u00ed_sinh la_l\\u00e0ng nh\\u1edd c\\u00f4ng_lu\\u1eadn b\\u00eanh_v\\u1ef1c l\\u00e3nh th\\u01b0\\u1edfng tr\\u1ecdn_v\\u1eb9n s\\u1ee9t_m\\u1ebb ph\\u1ea1m_minh_th\\u00fay hu\\u1ef3nh ph\\u1ea1m_ng\\u1ecdc \\u0111o\\u1ea1t gi\\u1ea3i thi si\\u00eau_m\\u1eabu vn t\\u1ed5_ch\\u1ee9c r\\u1ebd tr\\u00e1i t\\u00ecm h\\u01b0\\u1edbng t\\u1ed1ng_b\\u1ea1ch_th\\u1ee7y gi\\u1ea3i tri\\u1ec3n_v\\u1ecdng \\u0111i\\u1ec7n_\\u1ea3nh v\\u1ecb_tr\\u00ed ngh\\u1ec1_nghi\\u1ec7p ch\\u1ee9ng_t\\u1ecf kh\\u1ea3_n\\u0103ng thi s\\u1eafc_\\u0111\\u1eb9p b\\u00ecnh_th\\u01b0\\u1eddng m\\u1ed9t_s\\u1ed1 \\u0111\\u1eb9p h\\u01b0\\u1edbng_d\\u1eabn tham_d\\u1ef1 thi h\\u1ee3p g\\u01b0\\u01a1ng_m\\u1eb7t v\\u00f3c_d\\u00e1ng d\\u1ef1 thi tham_gia duy_nh\\u1ea5t thi tri\\u1ec3n_v\\u1ecdng \\u0111i\\u1ec7n_\\u1ea3nh ph\\u00f9_h\\u1ee3p y\\u1ebfn_ng\\u1ecdc \\u00e1_h\\u1eadu ph\\u1ee5_n\\u1eef vn \\u1ea3nh d\\u1ef1 thi duy_nh\\u1ea5t \\u0111\\u1eddi t\\u00ecm c\\u01a1_h\\u1ed9i thi uy_t\\u00edn hi\\u1ec7n_nay thi nhan_s\\u1eafc lo\\u1ea1n c\\u00f3_th\\u1ec3 t\\u1ed5_ch\\u1ee9c d\\u00f9 danh_hi\\u1ec7u d\\u1ef1 bao_nhi\\u00eau thi v\\u00ec_th\\u1ebf \\u0111o\\u1ea1t gi\\u1ea3i d\\u1eebng ti\\u1ebfp_t\\u1ee5c thi ngh\\u0129 quan_tr\\u1ecdng \\u0111o\\u1ea1t gi\\u1ea3i x\\u1ee9ng_\\u0111\\u00e1ng danh_hi\\u1ec7u m\\u1edbi_\\u0111\\u00e2y si\\u00eau_m\\u1eabu thu h\\u1eb1ng ti\\u1ebft_l\\u1ed9 b\\u00e1o_ch\\u00ed d\\u1ee5_d\\u1ed7 m\\u1eddi \\u0111i_kh\\u00e1ch \\u0111\\u1ea1i_gia t\\u1eeb_ch\\u1ed1i thu h\\u1eb1ng tr\\u01b0\\u1eddng_h\\u1ee3p ti\\u00eau_bi\\u1ec3u \\u0111\\u1eb9p g\\u1eb7p tr\\u1edf_th\\u00e0nh ti\\u1ebfng danh h\\u00e0ng_lo\\u1ea1t l\\u1ea7m_l\\u1ee1 gi\\u1edbi ng\\u01b0\\u1eddi_m\\u1eabu hoen_\\u1ed1 ngh\\u1ec1 lo\\u1ea1t phim_\\u1ea3nh kh\\u1ecfa th\\u00e2n l\\u01b0\\u1ee3t \\u0111\\u1eb9p d\\u00ednh \\u0111\\u01b0\\u1eddng_d\\u00e2y m\\u1ea1i_d\\u00e2m ng\\u01b0\\u1eddi_m\\u1eabu c\\u1eb7p \\u0111\\u1ea1i_gia \\u0111\\u1ed5i ngh\\u1ec1 \\u0111\\u1ed5i_\\u0111\\u1eddi tr\\u1edf_n\\u00ean b\\u00ecnh_th\\u01b0\\u1eddng x\\u00e3_h\\u1ed9i tr\\u1edf_th\\u00e0nh tr\\u00e0o_l\\u01b0u anh_h\\u00f9ng s\\u00e1nh_b\\u01b0\\u1edbc m\\u1ef9_nh\\u00e2n ng\\u01b0\\u1eddi_m\\u1eabu li\\u00ean_quan con_b\\u1ea1c tri\\u1ec7u \\u0111\\u00f4 b\\u00f9i_ti\\u1ebfn_d\\u0169ng d\\u00ednh_l\\u00edu ng\\u00e0i th\\u1ee9_tr\\u01b0\\u1edfng s\\u00e2u n\\u1ed3i canh ng\\u01b0\\u1eddi_m\\u1eabu ch\\u00e2n_ch\\u00ednh v\\u1ea1_l\\u00e2y h\\u00e0ng_lo\\u1ea1t ng\\u01b0\\u1eddi_m\\u1eabu chuy\\u1ec3n ngh\\u1ec1 ch\\u1ecbu n\\u1ed5i \\u00e1p_l\\u1ef1c tu\\u1ed5i_t\\u00e1c n\\u1ea3n_l\\u00f2ng h\\u1ed3_ng\\u1ecdc_h\\u00e0 th\\u00e0nh_danh gi\\u1ecdng h\\u00e1t tr\\u1ea7m \\u1ea5m ng\\u00f4_thanh_v\\u00e2n ca_s\\u0129 n\\u1ed5i_ti\\u1ebfng v\\u0169_\\u0111i\\u1ec7u tr\\u1ebb_trung \\u0111\\u1ed3ng_th\\u1eddi di\\u1ec5n_vi\\u00ean phim g\\u1ea7n s\\u00e0i_g\\u00f2n t\\u00ecnh_ca h\\u01b0\\u01a1ng d\\u1ebb nam n\\u1eef t\\u00fa thay phi\\u00ean nh\\u1ea3y s\\u00e0n_di\\u1ec5n sang \\u0111i\\u1ec7n_\\u1ea3nh s\\u00e2n_kh\\u1ea5u ca_nh\\u1ea1c th\\u01b0 y\\u1ebfn_ng\\u1ecdc b\\u1eb1ng_l\\u0103ng t\\u1ed1ng_b\\u1ea1ch_th\\u1ee7y thanh_h\\u1eb1ng xu\\u00e2n_lan ng\\u1ecdc_th\\u00fay b\\u00f9i th\\u1ecb_di\\u1ec5m th\\u00e2n th\\u00fay_h\\u00e0 b\\u1ea3o_h\\u00f2a b\\u00ecnh_minh \\u0111\\u1ee9c_ti\\u1ebfn kh\\u00e1nh_tr\\u00ecnh h\\u1ee9a v\\u0129_v\\u0103n minh c\\u01b0\\u01a1ng qu\\u1ed1c_th\\u00e1i t\\u1ea1o l\\u00e0n_s\\u00f3ng x\\u00e1c_\\u0111\\u1ecbnh v\\u1ecb_tr\\u00ed l\\u00f2ng c\\u00f4ng_ch\\u00fang ch\\u1edd th\\u1eddi_gian m\\u1ed9t_s\\u1ed1 th\\u00e0nh_l\\u1eadp c\\u00f4ng_ty \\u0111\\u00e0o_t\\u1ea1o qu\\u1ea3n_l\\u00fd ng\\u01b0\\u1eddi_m\\u1eabu thanh_long xu\\u00e2n_lan th\\u00fay_h\\u1ea1nh xa d\\u00f9 ngh\\u1ec1 ng\\u01b0\\u1eddi_m\\u1eabu t\\u1ed3n_t\\u1ea1i ph\\u00e1t_tri\\u1ec3n nhu_c\\u1ea7u x\\u00e3_h\\u1ed9i tuy_nhi\\u00ean m\\u00f4i_tr\\u01b0\\u1eddng l\\u00e0m_vi\\u1ec7c trong_s\\u00e1ng ho\\u00e0n_ch\\u1ec9nh b\\u1ea3n_th\\u00e2n ng\\u01b0\\u1eddi_m\\u1eabu n\\u1ed7_l\\u1ef1c h\\u1ecdc_h\\u1ecfi l\\u00e0m_vi\\u1ec7c m\\u1ed9t_c\\u00e1ch chuy\\u00ean_nghi\\u1ec7p ph\\u1ee5_thu\\u1ed9c y\\u1ebfu_t\\u1ed1 qu\\u1ea3n_l\\u00fd nh\\u00e0_n\\u01b0\\u1edbc quan_tr\\u1ecdng nay v\\u0103n_h\\u00f3a th\\u00f4ng_tin ban_h\\u00e0nh quy_ch\\u1ebf t\\u1ed5_ch\\u1ee9c thi hoa_h\\u1eadu quy_\\u0111\\u1ecbnh c\\u1ee5_th\\u1ec3 nh\\u1eb1m th\\u00e1o_g\\u1ee1 v\\u01b0\\u1edbng_m\\u1eafc quanh c\\u00f4ng_t\\u00e1c t\\u1ed5_ch\\u1ee9c th\\u1ebf_n\\u00e0o thi \\u0111\\u1ea7u_v\\u00e0o m\\u00f4i_tr\\u01b0\\u1eddng l\\u00e0m_vi\\u1ec7c ng\\u01b0\\u1eddi_m\\u1eabu \\u0111\\u1ea7u_ra x\\u1ea3y \\u0111\\u00e1ng ti\\u1ebfc gi\\u1ea3m b\\u1edbt tranh t\\u00e0i nhan_s\\u1eafc t\\u1eadp_trung t\\u1ed5_ch\\u1ee9c chuy\\u00ean_nghi\\u1ec7p c\\u00f3_th\\u1ec3 \\u0111\\u1ea1t ch\\u1ea5t_l\\u01b0\\u1ee3ng ch\\u1ecdn_l\\u1ef1a \\u0111\\u1eb9p th\\u00eam thu_nh\\u1eadp ng\\u01b0\\u1eddi_m\\u1eabu \\u0111\\u1ea3m_b\\u1ea3o ho\\u1ea1t_\\u0111\\u1ed9ng ngh\\u1ec1_nghi\\u1ec7p d\\u1ea7n h\\u1ea1n_ch\\u1ebf b\\u1edbt ph\\u1ea7n_n\\u00e0o m\\u1eb7t t\\u1ed1i ngh\\u1ec1\"\n        ],\n        \"semantic_type\": \"\",\n        \"description\": \"\"\n      }\n    },\n    {\n      \"column\": \"label\",\n      \"properties\": {\n        \"dtype\": \"string\",\n        \"num_unique_values\": 4,\n        \"samples\": [\n          \"The thao\",\n          \"Phap luat\",\n          \"Chinh Tri Xa Hoi\"\n        ],\n        \"semantic_type\": \"\",\n        \"description\": \"\"\n      }\n    }\n  ]\n}",
              "type": "dataframe"
            },
            "text/html": [
              "\n",
              "  <div id=\"df-e1256e43-5af6-4f06-ba08-bf8ad893dc77\" class=\"colab-df-container\">\n",
              "    <div>\n",
              "<style scoped>\n",
              "    .dataframe tbody tr th:only-of-type {\n",
              "        vertical-align: middle;\n",
              "    }\n",
              "\n",
              "    .dataframe tbody tr th {\n",
              "        vertical-align: top;\n",
              "    }\n",
              "\n",
              "    .dataframe thead th {\n",
              "        text-align: right;\n",
              "    }\n",
              "</style>\n",
              "<table border=\"1\" class=\"dataframe\">\n",
              "  <thead>\n",
              "    <tr style=\"text-align: right;\">\n",
              "      <th></th>\n",
              "      <th>Unnamed: 0</th>\n",
              "      <th>text</th>\n",
              "      <th>label</th>\n",
              "    </tr>\n",
              "  </thead>\n",
              "  <tbody>\n",
              "    <tr>\n",
              "      <th>3059</th>\n",
              "      <td>3059</td>\n",
              "      <td>đưa quốc dân ta đường mới_mẻ câu mở_đầu lời kê...</td>\n",
              "      <td>Chinh Tri Xa Hoi</td>\n",
              "    </tr>\n",
              "    <tr>\n",
              "      <th>26279</th>\n",
              "      <td>26279</td>\n",
              "      <td>milan tương_đối vất_vả cúp uefa gặp sochaux ph...</td>\n",
              "      <td>The thao</td>\n",
              "    </tr>\n",
              "    <tr>\n",
              "      <th>28796</th>\n",
              "      <td>28796</td>\n",
              "      <td>sắc_đẹp báu_vật thật may_mắn sở_hữu tuy_nhiên ...</td>\n",
              "      <td>Van hoa</td>\n",
              "    </tr>\n",
              "    <tr>\n",
              "      <th>1825</th>\n",
              "      <td>1825</td>\n",
              "      <td>cục quản_lý lao_động nước lao_động thương_binh...</td>\n",
              "      <td>Chinh Tri Xa Hoi</td>\n",
              "    </tr>\n",
              "    <tr>\n",
              "      <th>16484</th>\n",
              "      <td>16484</td>\n",
              "      <td>bắt_đầu xét_xử vụ sát_hại sv vũ_anh_tuấn phiên...</td>\n",
              "      <td>Phap luat</td>\n",
              "    </tr>\n",
              "  </tbody>\n",
              "</table>\n",
              "</div>\n",
              "    <div class=\"colab-df-buttons\">\n",
              "\n",
              "  <div class=\"colab-df-container\">\n",
              "    <button class=\"colab-df-convert\" onclick=\"convertToInteractive('df-e1256e43-5af6-4f06-ba08-bf8ad893dc77')\"\n",
              "            title=\"Convert this dataframe to an interactive table.\"\n",
              "            style=\"display:none;\">\n",
              "\n",
              "  <svg xmlns=\"http://www.w3.org/2000/svg\" height=\"24px\" viewBox=\"0 -960 960 960\">\n",
              "    <path d=\"M120-120v-720h720v720H120Zm60-500h600v-160H180v160Zm220 220h160v-160H400v160Zm0 220h160v-160H400v160ZM180-400h160v-160H180v160Zm440 0h160v-160H620v160ZM180-180h160v-160H180v160Zm440 0h160v-160H620v160Z\"/>\n",
              "  </svg>\n",
              "    </button>\n",
              "\n",
              "  <style>\n",
              "    .colab-df-container {\n",
              "      display:flex;\n",
              "      gap: 12px;\n",
              "    }\n",
              "\n",
              "    .colab-df-convert {\n",
              "      background-color: #E8F0FE;\n",
              "      border: none;\n",
              "      border-radius: 50%;\n",
              "      cursor: pointer;\n",
              "      display: none;\n",
              "      fill: #1967D2;\n",
              "      height: 32px;\n",
              "      padding: 0 0 0 0;\n",
              "      width: 32px;\n",
              "    }\n",
              "\n",
              "    .colab-df-convert:hover {\n",
              "      background-color: #E2EBFA;\n",
              "      box-shadow: 0px 1px 2px rgba(60, 64, 67, 0.3), 0px 1px 3px 1px rgba(60, 64, 67, 0.15);\n",
              "      fill: #174EA6;\n",
              "    }\n",
              "\n",
              "    .colab-df-buttons div {\n",
              "      margin-bottom: 4px;\n",
              "    }\n",
              "\n",
              "    [theme=dark] .colab-df-convert {\n",
              "      background-color: #3B4455;\n",
              "      fill: #D2E3FC;\n",
              "    }\n",
              "\n",
              "    [theme=dark] .colab-df-convert:hover {\n",
              "      background-color: #434B5C;\n",
              "      box-shadow: 0px 1px 3px 1px rgba(0, 0, 0, 0.15);\n",
              "      filter: drop-shadow(0px 1px 2px rgba(0, 0, 0, 0.3));\n",
              "      fill: #FFFFFF;\n",
              "    }\n",
              "  </style>\n",
              "\n",
              "    <script>\n",
              "      const buttonEl =\n",
              "        document.querySelector('#df-e1256e43-5af6-4f06-ba08-bf8ad893dc77 button.colab-df-convert');\n",
              "      buttonEl.style.display =\n",
              "        google.colab.kernel.accessAllowed ? 'block' : 'none';\n",
              "\n",
              "      async function convertToInteractive(key) {\n",
              "        const element = document.querySelector('#df-e1256e43-5af6-4f06-ba08-bf8ad893dc77');\n",
              "        const dataTable =\n",
              "          await google.colab.kernel.invokeFunction('convertToInteractive',\n",
              "                                                    [key], {});\n",
              "        if (!dataTable) return;\n",
              "\n",
              "        const docLinkHtml = 'Like what you see? Visit the ' +\n",
              "          '<a target=\"_blank\" href=https://colab.research.google.com/notebooks/data_table.ipynb>data table notebook</a>'\n",
              "          + ' to learn more about interactive tables.';\n",
              "        element.innerHTML = '';\n",
              "        dataTable['output_type'] = 'display_data';\n",
              "        await google.colab.output.renderOutput(dataTable, element);\n",
              "        const docLink = document.createElement('div');\n",
              "        docLink.innerHTML = docLinkHtml;\n",
              "        element.appendChild(docLink);\n",
              "      }\n",
              "    </script>\n",
              "  </div>\n",
              "\n",
              "\n",
              "<div id=\"df-041c016f-802a-4794-99a4-6007068f75ca\">\n",
              "  <button class=\"colab-df-quickchart\" onclick=\"quickchart('df-041c016f-802a-4794-99a4-6007068f75ca')\"\n",
              "            title=\"Suggest charts\"\n",
              "            style=\"display:none;\">\n",
              "\n",
              "<svg xmlns=\"http://www.w3.org/2000/svg\" height=\"24px\"viewBox=\"0 0 24 24\"\n",
              "     width=\"24px\">\n",
              "    <g>\n",
              "        <path d=\"M19 3H5c-1.1 0-2 .9-2 2v14c0 1.1.9 2 2 2h14c1.1 0 2-.9 2-2V5c0-1.1-.9-2-2-2zM9 17H7v-7h2v7zm4 0h-2V7h2v10zm4 0h-2v-4h2v4z\"/>\n",
              "    </g>\n",
              "</svg>\n",
              "  </button>\n",
              "\n",
              "<style>\n",
              "  .colab-df-quickchart {\n",
              "      --bg-color: #E8F0FE;\n",
              "      --fill-color: #1967D2;\n",
              "      --hover-bg-color: #E2EBFA;\n",
              "      --hover-fill-color: #174EA6;\n",
              "      --disabled-fill-color: #AAA;\n",
              "      --disabled-bg-color: #DDD;\n",
              "  }\n",
              "\n",
              "  [theme=dark] .colab-df-quickchart {\n",
              "      --bg-color: #3B4455;\n",
              "      --fill-color: #D2E3FC;\n",
              "      --hover-bg-color: #434B5C;\n",
              "      --hover-fill-color: #FFFFFF;\n",
              "      --disabled-bg-color: #3B4455;\n",
              "      --disabled-fill-color: #666;\n",
              "  }\n",
              "\n",
              "  .colab-df-quickchart {\n",
              "    background-color: var(--bg-color);\n",
              "    border: none;\n",
              "    border-radius: 50%;\n",
              "    cursor: pointer;\n",
              "    display: none;\n",
              "    fill: var(--fill-color);\n",
              "    height: 32px;\n",
              "    padding: 0;\n",
              "    width: 32px;\n",
              "  }\n",
              "\n",
              "  .colab-df-quickchart:hover {\n",
              "    background-color: var(--hover-bg-color);\n",
              "    box-shadow: 0 1px 2px rgba(60, 64, 67, 0.3), 0 1px 3px 1px rgba(60, 64, 67, 0.15);\n",
              "    fill: var(--button-hover-fill-color);\n",
              "  }\n",
              "\n",
              "  .colab-df-quickchart-complete:disabled,\n",
              "  .colab-df-quickchart-complete:disabled:hover {\n",
              "    background-color: var(--disabled-bg-color);\n",
              "    fill: var(--disabled-fill-color);\n",
              "    box-shadow: none;\n",
              "  }\n",
              "\n",
              "  .colab-df-spinner {\n",
              "    border: 2px solid var(--fill-color);\n",
              "    border-color: transparent;\n",
              "    border-bottom-color: var(--fill-color);\n",
              "    animation:\n",
              "      spin 1s steps(1) infinite;\n",
              "  }\n",
              "\n",
              "  @keyframes spin {\n",
              "    0% {\n",
              "      border-color: transparent;\n",
              "      border-bottom-color: var(--fill-color);\n",
              "      border-left-color: var(--fill-color);\n",
              "    }\n",
              "    20% {\n",
              "      border-color: transparent;\n",
              "      border-left-color: var(--fill-color);\n",
              "      border-top-color: var(--fill-color);\n",
              "    }\n",
              "    30% {\n",
              "      border-color: transparent;\n",
              "      border-left-color: var(--fill-color);\n",
              "      border-top-color: var(--fill-color);\n",
              "      border-right-color: var(--fill-color);\n",
              "    }\n",
              "    40% {\n",
              "      border-color: transparent;\n",
              "      border-right-color: var(--fill-color);\n",
              "      border-top-color: var(--fill-color);\n",
              "    }\n",
              "    60% {\n",
              "      border-color: transparent;\n",
              "      border-right-color: var(--fill-color);\n",
              "    }\n",
              "    80% {\n",
              "      border-color: transparent;\n",
              "      border-right-color: var(--fill-color);\n",
              "      border-bottom-color: var(--fill-color);\n",
              "    }\n",
              "    90% {\n",
              "      border-color: transparent;\n",
              "      border-bottom-color: var(--fill-color);\n",
              "    }\n",
              "  }\n",
              "</style>\n",
              "\n",
              "  <script>\n",
              "    async function quickchart(key) {\n",
              "      const quickchartButtonEl =\n",
              "        document.querySelector('#' + key + ' button');\n",
              "      quickchartButtonEl.disabled = true;  // To prevent multiple clicks.\n",
              "      quickchartButtonEl.classList.add('colab-df-spinner');\n",
              "      try {\n",
              "        const charts = await google.colab.kernel.invokeFunction(\n",
              "            'suggestCharts', [key], {});\n",
              "      } catch (error) {\n",
              "        console.error('Error during call to suggestCharts:', error);\n",
              "      }\n",
              "      quickchartButtonEl.classList.remove('colab-df-spinner');\n",
              "      quickchartButtonEl.classList.add('colab-df-quickchart-complete');\n",
              "    }\n",
              "    (() => {\n",
              "      let quickchartButtonEl =\n",
              "        document.querySelector('#df-041c016f-802a-4794-99a4-6007068f75ca button');\n",
              "      quickchartButtonEl.style.display =\n",
              "        google.colab.kernel.accessAllowed ? 'block' : 'none';\n",
              "    })();\n",
              "  </script>\n",
              "</div>\n",
              "\n",
              "    </div>\n",
              "  </div>\n"
            ],
            "text/plain": [
              "       Unnamed: 0                                               text  \\\n",
              "3059         3059  đưa quốc dân ta đường mới_mẻ câu mở_đầu lời kê...   \n",
              "26279       26279  milan tương_đối vất_vả cúp uefa gặp sochaux ph...   \n",
              "28796       28796  sắc_đẹp báu_vật thật may_mắn sở_hữu tuy_nhiên ...   \n",
              "1825         1825  cục quản_lý lao_động nước lao_động thương_binh...   \n",
              "16484       16484  bắt_đầu xét_xử vụ sát_hại sv vũ_anh_tuấn phiên...   \n",
              "\n",
              "                  label  \n",
              "3059   Chinh Tri Xa Hoi  \n",
              "26279          The thao  \n",
              "28796           Van hoa  \n",
              "1825   Chinh Tri Xa Hoi  \n",
              "16484         Phap luat  "
            ]
          },
          "execution_count": 13,
          "metadata": {},
          "output_type": "execute_result"
        }
      ],
      "source": [
        "train_df.sample(5)"
      ]
    },
    {
      "cell_type": "code",
      "execution_count": null,
      "metadata": {
        "id": "E0QVXf0eggJg"
      },
      "outputs": [],
      "source": [
        "X_train = train_df['text']\n",
        "y_train = train_df['label']\n",
        "\n",
        "X_test = test_df['text']\n",
        "y_test = test_df['label']"
      ]
    },
    {
      "cell_type": "code",
      "execution_count": null,
      "metadata": {
        "colab": {
          "base_uri": "https://localhost:8080/",
          "height": 597
        },
        "id": "IGdswJkvfg2D",
        "outputId": "8839f434-9b04-4f4d-c2c2-95a4ebee8c6e"
      },
      "outputs": [
        {
          "name": "stdout",
          "output_type": "stream",
          "text": [
            "['Chinh Tri Xa Hoi' 'Doi Song' 'Khoa hoc' 'Kinh doanh' 'Phap luat'\n",
            " 'Suc khoe' 'The gioi' 'The thao' 'Van hoa' 'Vi tinh']\n"
          ]
        },
        {
          "data": {
            "text/plain": [
              "<Axes: xlabel='label'>"
            ]
          },
          "execution_count": 15,
          "metadata": {},
          "output_type": "execute_result"
        },
        {
          "data": {
            "image/png": "[encoded data removed]",
            "text/plain": [
              "<Figure size 640x480 with 1 Axes>"
            ]
          },
          "metadata": {},
          "output_type": "display_data"
        }
      ],
      "source": [
        "print(y_train.unique())\n",
        "y_train.value_counts().plot(kind='bar')"
      ]
    },
    {
      "cell_type": "code",
      "execution_count": null,
      "metadata": {
        "colab": {
          "base_uri": "https://localhost:8080/",
          "height": 595
        },
        "id": "xsg8LUr2hmwr",
        "outputId": "991c8101-7505-4691-9931-225af20a8a7f"
      },
      "outputs": [
        {
          "name": "stdout",
          "output_type": "stream",
          "text": [
            "['Chinh tri Xa hoi' 'Doi song' 'Khoa hoc' 'Kinh doanh' 'Phap luat'\n",
            " 'Suc khoe' 'The gioi' 'The thao' 'Van hoa' 'Vi tinh']\n"
          ]
        },
        {
          "data": {
            "text/plain": [
              "<Axes: xlabel='label'>"
            ]
          },
          "execution_count": 16,
          "metadata": {},
          "output_type": "execute_result"
        },
        {
          "data": {
            "image/png": "[encoded data removed]",
            "text/plain": [
              "<Figure size 640x480 with 1 Axes>"
            ]
          },
          "metadata": {},
          "output_type": "display_data"
        }
      ],
      "source": [
        "print(y_test.unique())\n",
        "y_test.value_counts().plot(kind='bar')"
      ]
    },
    {
      "cell_type": "code",
      "execution_count": null,
      "metadata": {
        "colab": {
          "base_uri": "https://localhost:8080/"
        },
        "id": "c9uEVBAzgLXk",
        "outputId": "b4e6ac44-4afd-450e-f80e-ff9f9c819af7"
      },
      "outputs": [
        {
          "data": {
            "text/plain": [
              "(array([0, 0, 0, ..., 9, 9, 9]), array([0, 0, 0, ..., 9, 9, 9]))"
            ]
          },
          "execution_count": 17,
          "metadata": {},
          "output_type": "execute_result"
        }
      ],
      "source": [
        "le = LabelEncoder()\n",
        "y_train = le.fit_transform(y_train)\n",
        "y_test = le.fit_transform(y_test)\n",
        "\n",
        "y_train, y_test"
      ]
    },
    {
      "cell_type": "code",
      "execution_count": null,
      "metadata": {
        "colab": {
          "base_uri": "https://localhost:8080/"
        },
        "id": "WifHvvyHZSzR",
        "outputId": "2f3b3c3d-2825-4511-9ac0-427cc4a3a634"
      },
      "outputs": [
        {
          "data": {
            "text/plain": [
              "array(['Chinh tri Xa hoi', 'Doi song', 'Khoa hoc', 'Kinh doanh',\n",
              "       'Phap luat', 'Suc khoe', 'The gioi', 'The thao', 'Van hoa',\n",
              "       'Vi tinh'], dtype=object)"
            ]
          },
          "execution_count": 18,
          "metadata": {},
          "output_type": "execute_result"
        }
      ],
      "source": [
        "le.classes_"
      ]
    },
    {
      "cell_type": "markdown",
      "metadata": {
        "id": "BINwFEsgxi0M"
      },
      "source": [
        "# Bag of Words"
      ]
    },
    {
      "cell_type": "markdown",
      "metadata": {
        "id": "a30joOifx55D"
      },
      "source": [
        "## Count Vectors as features"
      ]
    },
    {
      "cell_type": "code",
      "execution_count": null,
      "metadata": {
        "id": "iLvYZkepTT7y"
      },
      "outputs": [],
      "source": [
        "# def sparse_to_dense(sparse):\n",
        "#   try:\n",
        "#     return sparse.toarray()\n",
        "#   except MemoryError:\n",
        "#     print(\"Not enough memory to convert from sparse matrix to dense matrix\")\n",
        "#     return None"
      ]
    },
    {
      "cell_type": "code",
      "execution_count": null,
      "metadata": {
        "id": "PgXo5nkuirxA"
      },
      "outputs": [],
      "source": [
        "def classification_pipeline(X_train, X_test, y_train, y_test):\n",
        "  accuracies = {}\n",
        "  classifiers = {\n",
        "      \"Logistic Regression\": LogisticRegression(),\n",
        "      \"Naive Bayes\": MultinomialNB(),\n",
        "      \"Decision Tree\": DecisionTreeClassifier()\n",
        "  }\n",
        "\n",
        "  for name, clf in classifiers.items():\n",
        "    clf.fit(X_train, y_train)\n",
        "    y_pred = clf.predict(X_test)\n",
        "    acc = accuracy_score(y_test, y_pred)\n",
        "    print(f\"{name} Accuracy: {acc:.4f}\")\n",
        "    accuracies[name] = acc\n",
        "\n",
        "  return accuracies\n",
        "\n",
        "def plot_accuracies(accuracies):\n",
        "  models = list(accuracies.keys())\n",
        "  acc_values = list(accuracies.values())\n",
        "\n",
        "  plt.figure(figsize=(8, 6))\n",
        "  bars = plt.bar(models, acc_values, width=0.4, color='skyblue', edgecolor='black')\n",
        "  plt.xlabel('Models')\n",
        "  plt.ylabel('Accuracy')\n",
        "  plt.title('Model Accuracies')\n",
        "  plt.ylim(0, 1)\n",
        "  plt.grid(False)\n",
        "\n",
        "  for bar in bars:\n",
        "    plt.text(bar.get_x() + bar.get_width()/2, bar.get_height() + 0.02,\n",
        "      f\"{bar.get_height():.4f}\", ha='center', va='bottom')\n",
        "\n",
        "  plt.show()"
      ]
    },
    {
      "cell_type": "markdown",
      "metadata": {
        "id": "iZf1YQAQx75R"
      },
      "source": [
        "## TF-IDF Vectors as features"
      ]
    },
    {
      "cell_type": "markdown",
      "metadata": {
        "id": "8OVZOMWDx_sZ"
      },
      "source": [
        "## N-grams (Optional)"
      ]
    },
    {
      "cell_type": "markdown",
      "metadata": {
        "id": "Kpq1yvKyxn7T"
      },
      "source": [
        "# Doc2Vec"
      ]
    },
    {
      "cell_type": "markdown",
      "metadata": {
        "id": "A2SUZNuTFs-k"
      },
      "source": [
        "## Using pretrain model : PhoBert"
      ]
    },
    {
      "cell_type": "code",
      "execution_count": null,
      "metadata": {
        "id": "2SRjSOOM1D18"
      },
      "outputs": [],
      "source": [
        "# def get_pretrain_embedding(text, tokenizer, model):\n",
        "#   inputs = tokenizer(text, return_tensors='pt', truncation=True, max_length=512)\n",
        "#   outputs = model(**inputs)\n",
        "#   embedding = torch.mean(outputs.last_hidden_state, dim=1).detach().numpy()\n",
        "#   return embedding[0]\n",
        "\n",
        "# def get_pretrain_embeddings(texts, tokenizer, model):\n",
        "#   embeddings = []\n",
        "#   for text in texts:\n",
        "#     emb = get_pretrain_embedding(text, tokenizer, model)\n",
        "#     embeddings.append(emb)\n",
        "#   return np.array(embeddings)"
      ]
    },
    {
      "cell_type": "code",
      "execution_count": null,
      "metadata": {
        "colab": {
          "base_uri": "https://localhost:8080/",
          "height": 313,
          "referenced_widgets": [
            "4e6dbd815aac4e70b2ff4128c338ec06",
            "0e18a303435041cf8afe95a059d3b295",
            "ceb2811f52d0452e8d44b1ca16fe8f35",
            "685e99759eeb4330b769522374ba7079",
            "ea835ee6e8b04529996abba049dafcca",
            "b64e824871a9463d9d035729c250dfc3",
            "03d57354911e4c26b4d1b9bba1799e67",
            "1660157724e347df89ce822f0bda10f2",
            "b69ad8434b2c4e5eb70247ebef785824",
            "c5faf6672c014d1482093233ca24ad5c",
            "db951eb9479a48e0aa876c51a621de77",
            "757012933c374058a2bc1333a8685dce",
            "80e6ed25716b44a39268bb37c3dc6e08",
            "bf8f3d0b910340df9de75d2558cd0fc9",
            "01baf1780de1427b95b4f8346505f5eb",
            "7c2d55f978d541029f1f8e22909d46c0",
            "ae2a38218772454abf1bc4b48f641559",
            "0b55647c491c4037ae8cbf39a288c1c1",
            "0d9cbdb4edc4400aad9403d03c4bd4b5",
            "69d5549b5f164250bd5ce336010f4bd8",
            "2cf02522258244fb91defe108d82231c",
            "0bfd478406da426d8379fb50a6c44595",
            "f86b11dce48040c7bd58aaa265af9b3d",
            "ece3277825504bc4a6c5dce3380604e3",
            "34e46ff8097e46e79d96325b57a56fe7",
            "ddb6576d0c084444be2aadbe29078da9",
            "bdd7719b7cbc4c3e94affacd7df841d1",
            "91a8980ed7534b1ca592e0c43320cb6f",
            "4deed007874e4b09b00bf9919007f659",
            "46832268971a4dfcabb1de155710f030",
            "f2ca5833db3d47ed9a5c7f4a863c8b55",
            "c996a0bf8ed143919427d15c29ec4717",
            "7d352d49cb304fe1875d0e6efc1a6860",
            "aa7a2eb488054a329ca0318c4b2805e0",
            "5b78d5b09d4b41699288f7d4178897b2",
            "b7392f221a5b4721837904a9d8abae28",
            "ebba23399b6349c082bd80fcb2e1e00a",
            "9b310132dbdf4b758a8daf9cb2e916a5",
            "87fabaac57a247e682d2ce721edc721a",
            "70b51c9f80d14c738ed0f85f84c7e3ba",
            "d794e533f0524df88759347e2b7edcaa",
            "c33b9b3726c04fe6a197b4a46f934d6c",
            "a020bf1ca429410cab74ab9dd3e7f3cf",
            "bfde46b7c17c48df9be91330323cbcab",
            "6fe3f830e6764ab9b5115d2578606018",
            "8e1c9d0d58324186828def14c7e8b4e1",
            "1f0b3f5d4f024b769afac7d9817df1f6",
            "1c6243ea0acb48268e513dbeb05c79e6",
            "0b1e809136984f97ad63823bf8030cc9",
            "37dfd3f748864fa1bd1c4b31295831d7",
            "2f79e49f1fb9444ea7d8affd53ec8cdb",
            "666aa4d8b6d346cbb61a1c0d8415ee3c",
            "cbf5192780ed46dc8fff9f3278f94ace",
            "f8e14b8738d74d7092c06a244bca2614",
            "a77e97bc1e474e4d8f4e55b56eecb4a2",
            "1764ff9c9e354987a4fc01375b4c84f9",
            "c617615ca1b34b88aa932dacfa9f42c1",
            "627f161283864dc49e64ff5ef6eba683",
            "a8933639c8834f78a263f55df349b38e",
            "2b8d767dbf8744ceb1b23c314ca0cc7b",
            "431312fa68dd44aab8258035d88e3de6",
            "2b67bbd79a294459bdc7cda8174d03d5",
            "906c85096ea24aafba7bcb00f1b9e9ad",
            "1d37dba355ef49698e2f21f5c226423b",
            "42543196f6684837910d4a6f7e11b0e9",
            "d576e791abf646f38773ef5f69bdcc36"
          ]
        },
        "id": "zXFZei4E1kdw",
        "outputId": "ee91b7a2-db42-4a6b-94ce-a787cf6cbfc0"
      },
      "outputs": [
        {
          "name": "stderr",
          "output_type": "stream",
          "text": [
            "/usr/local/lib/python3.11/dist-packages/huggingface_hub/utils/_auth.py:94: UserWarning: \n",
            "The secret `HF_TOKEN` does not exist in your Colab secrets.\n",
            "To authenticate with the Hugging Face Hub, create a token in your settings tab (https://huggingface.co/settings/tokens), set it as secret in your Google Colab and restart your session.\n",
            "You will be able to reuse this secret in all of your notebooks.\n",
            "Please note that authentication is recommended but still optional to access public models or datasets.\n",
            "  warnings.warn(\n"
          ]
        },
        {
          "data": {
            "application/vnd.jupyter.widget-view+json": {
              "model_id": "4e6dbd815aac4e70b2ff4128c338ec06",
              "version_major": 2,
              "version_minor": 0
            },
            "text/plain": [
              "config.json:   0%|          | 0.00/557 [00:00<?, ?B/s]"
            ]
          },
          "metadata": {},
          "output_type": "display_data"
        },
        {
          "data": {
            "application/vnd.jupyter.widget-view+json": {
              "model_id": "757012933c374058a2bc1333a8685dce",
              "version_major": 2,
              "version_minor": 0
            },
            "text/plain": [
              "vocab.txt:   0%|          | 0.00/895k [00:00<?, ?B/s]"
            ]
          },
          "metadata": {},
          "output_type": "display_data"
        },
        {
          "data": {
            "application/vnd.jupyter.widget-view+json": {
              "model_id": "f86b11dce48040c7bd58aaa265af9b3d",
              "version_major": 2,
              "version_minor": 0
            },
            "text/plain": [
              "bpe.codes:   0%|          | 0.00/1.14M [00:00<?, ?B/s]"
            ]
          },
          "metadata": {},
          "output_type": "display_data"
        },
        {
          "data": {
            "application/vnd.jupyter.widget-view+json": {
              "model_id": "aa7a2eb488054a329ca0318c4b2805e0",
              "version_major": 2,
              "version_minor": 0
            },
            "text/plain": [
              "tokenizer.json:   0%|          | 0.00/3.13M [00:00<?, ?B/s]"
            ]
          },
          "metadata": {},
          "output_type": "display_data"
        },
        {
          "data": {
            "application/vnd.jupyter.widget-view+json": {
              "model_id": "6fe3f830e6764ab9b5115d2578606018",
              "version_major": 2,
              "version_minor": 0
            },
            "text/plain": [
              "pytorch_model.bin:   0%|          | 0.00/543M [00:00<?, ?B/s]"
            ]
          },
          "metadata": {},
          "output_type": "display_data"
        },
        {
          "data": {
            "application/vnd.jupyter.widget-view+json": {
              "model_id": "1764ff9c9e354987a4fc01375b4c84f9",
              "version_major": 2,
              "version_minor": 0
            },
            "text/plain": [
              "model.safetensors:   0%|          | 0.00/543M [00:00<?, ?B/s]"
            ]
          },
          "metadata": {},
          "output_type": "display_data"
        }
      ],
      "source": [
        "pho_bert = \"vinai/phobert-base\"\n",
        "pho_bert_tokenizer = AutoTokenizer.from_pretrained(pho_bert)\n",
        "pho_bert_model = AutoModel.from_pretrained(pho_bert)"
      ]
    },
    {
      "cell_type": "markdown",
      "metadata": {
        "id": "Kodn8ni2F1e0"
      },
      "source": [
        "## Non-pretrain"
      ]
    },
    {
      "cell_type": "code",
      "execution_count": null,
      "metadata": {
        "id": "PaTKA5fdGQhH"
      },
      "outputs": [],
      "source": [
        "def train_doc2vec_model(texts, vector_size=300, window=5, min_count=2, epochs=5):\n",
        "  documents = [TaggedDocument(words=doc.split(), tags=[str(i)]) for i, doc in enumerate(texts)]\n",
        "  model = Doc2Vec(vector_size=vector_size, window=window, min_count=min_count, workers=4, epochs=1, compute_loss=True)\n",
        "  model.build_vocab(documents)\n",
        "  model.train(documents, total_examples=model.corpus_count, epochs=model.epochs)\n",
        "  prev_loss = 0.0\n",
        "  for epoch in range(epochs):\n",
        "    model.train(documents, total_examples=model.corpus_count, epochs= 1)\n",
        "    current_loss = model.get_latest_training_loss()\n",
        "    epoch_loss = current_loss - prev_loss\n",
        "    print(f\"Epoch {epoch+1} / {epochs} - Loss: {epoch_loss}\")\n",
        "    prev_loss = current_loss\n",
        "    # if epoch_loss < 0.001:\n",
        "    #   print('Loss đã hội tụ, dừng huấn luyện.')\n",
        "    #   break\n",
        "  model.save(\"doc2vec_model.model\")\n",
        "  return model"
      ]
    },
    {
      "cell_type": "code",
      "execution_count": null,
      "metadata": {
        "id": "iJi0mFxsBnMG"
      },
      "outputs": [],
      "source": [
        "def get_doc2vec_embeddings(doc2vec_model, texts):\n",
        "  embeddings = []\n",
        "  for text in texts:\n",
        "    emb = doc2vec_model.infer_vector(text.split())\n",
        "    embeddings.append(emb)\n",
        "  return np.array(embeddings)"
      ]
    },
    {
      "cell_type": "code",
      "execution_count": null,
      "metadata": {
        "id": "GkEo7rkVJtDR"
      },
      "outputs": [],
      "source": [
        "def train_nn_model(X_train, y_train, X_test, y_test, embedding_dim=300):\n",
        "  num_classes = len(np.unique(y_train))\n",
        "  y_train_cat = to_categorical(y_train, num_classes=num_classes)\n",
        "  y_test_cat = to_categorical(y_test, num_classes=num_classes)\n",
        "\n",
        "  model = Sequential()\n",
        "  model.add(Input(shape=(embedding_dim,)))\n",
        "  model.add(Dense(256, activation='relu'))\n",
        "  model.add(Dropout(0.4))\n",
        "  model.add(BatchNormalization())\n",
        "  model.add(Dense(128, activation='relu'))\n",
        "  model.add(Dropout(0.4))\n",
        "  model.add(BatchNormalization())\n",
        "  model.add(Dense(64, activation='relu'))\n",
        "  model.add(Dropout(0.3))\n",
        "  model.add(Dense(num_classes, activation='softmax'))\n",
        "\n",
        "  model.compile(optimizer=Adam(learning_rate=0.0005),\n",
        "                loss='categorical_crossentropy',\n",
        "                metrics=['accuracy'])\n",
        "\n",
        "  model.summary()\n",
        "\n",
        "  history = model.fit(X_train, y_train_cat, epochs=30, batch_size=32, validation_data=(X_test, y_test_cat), verbose=1)\n",
        "  loss, accuracy = model.evaluate(X_test, y_test_cat, verbose=0)\n",
        "  print(f\"\\n[Simple Neural Network] Test Accuracy: {accuracy:.4f}\")\n",
        "  model.save('nn_model.keras')\n",
        "\n",
        "  return model, history"
      ]
    },
    {
      "cell_type": "code",
      "execution_count": null,
      "metadata": {
        "colab": {
          "base_uri": "https://localhost:8080/"
        },
        "id": "bBaTLtibCPIw",
        "outputId": "6ef710ef-489e-4610-d0f9-694e188314e2"
      },
      "outputs": [
        {
          "name": "stderr",
          "output_type": "stream",
          "text": [
            "WARNING:gensim.models.word2vec:Effective 'alpha' higher than previous training cycles\n",
            "WARNING:gensim.models.word2vec:Effective 'alpha' higher than previous training cycles\n"
          ]
        },
        {
          "name": "stdout",
          "output_type": "stream",
          "text": [
            "Epoch 1 / 5 - Loss: 0.0\n"
          ]
        },
        {
          "name": "stderr",
          "output_type": "stream",
          "text": [
            "WARNING:gensim.models.word2vec:Effective 'alpha' higher than previous training cycles\n"
          ]
        },
        {
          "name": "stdout",
          "output_type": "stream",
          "text": [
            "Epoch 2 / 5 - Loss: 0.0\n"
          ]
        },
        {
          "name": "stderr",
          "output_type": "stream",
          "text": [
            "WARNING:gensim.models.word2vec:Effective 'alpha' higher than previous training cycles\n"
          ]
        },
        {
          "name": "stdout",
          "output_type": "stream",
          "text": [
            "Epoch 3 / 5 - Loss: 0.0\n"
          ]
        },
        {
          "name": "stderr",
          "output_type": "stream",
          "text": [
            "WARNING:gensim.models.word2vec:Effective 'alpha' higher than previous training cycles\n"
          ]
        },
        {
          "name": "stdout",
          "output_type": "stream",
          "text": [
            "Epoch 4 / 5 - Loss: 0.0\n",
            "Epoch 5 / 5 - Loss: 0.0\n"
          ]
        },
        {
          "data": {
            "text/plain": [
              "<gensim.models.doc2vec.Doc2Vec at 0x7fde289a8490>"
            ]
          },
          "execution_count": 18,
          "metadata": {},
          "output_type": "execute_result"
        }
      ],
      "source": [
        "train_doc2vec_model(X_train)"
      ]
    },
    {
      "cell_type": "code",
      "execution_count": null,
      "metadata": {
        "id": "Xb8ulzqecP7D"
      },
      "outputs": [],
      "source": [
        "doc2vec_model = Doc2Vec.load('doc2vec_model.model')"
      ]
    },
    {
      "cell_type": "code",
      "execution_count": null,
      "metadata": {
        "id": "Mv_svKZLXgjl"
      },
      "outputs": [],
      "source": [
        "X_train_doc2vec = get_doc2vec_embeddings(doc2vec_model, X_train)\n",
        "X_test_doc2vec = get_doc2vec_embeddings(doc2vec_model, X_test)"
      ]
    },
    {
      "cell_type": "code",
      "execution_count": null,
      "metadata": {
        "colab": {
          "base_uri": "https://localhost:8080/"
        },
        "id": "9CGBoCsKdHsZ",
        "outputId": "6db2ca4c-391f-42d0-9a19-eda35fe311af"
      },
      "outputs": [
        {
          "data": {
            "text/plain": [
              "array([[-0.04225004,  0.04030965,  0.05757864, ..., -0.10563713,\n",
              "        -0.01210203,  0.0979069 ],\n",
              "       [-0.0287572 ,  0.14365678,  0.00356752, ..., -0.06629287,\n",
              "         0.02771445,  0.06172911],\n",
              "       [ 0.00138609,  0.10053171,  0.01303431, ..., -0.03062744,\n",
              "         0.06783073,  0.08547645],\n",
              "       ...,\n",
              "       [ 0.04650547, -0.14034522,  0.02934898, ..., -0.09530914,\n",
              "        -0.0207505 , -0.05758943],\n",
              "       [-0.05085791,  0.11449393,  0.015682  , ..., -0.13699326,\n",
              "         0.05687543,  0.06504033],\n",
              "       [-0.00563048,  0.03486069,  0.01823587, ..., -0.05653344,\n",
              "         0.02710064,  0.04155014]], dtype=float32)"
            ]
          },
          "execution_count": 25,
          "metadata": {},
          "output_type": "execute_result"
        }
      ],
      "source": [
        "X_train_doc2vec"
      ]
    },
    {
      "cell_type": "code",
      "execution_count": null,
      "metadata": {
        "colab": {
          "base_uri": "https://localhost:8080/",
          "height": 1000
        },
        "id": "J4_nwM_ictaB",
        "outputId": "c3627cb4-5e2a-4790-9a3f-90496f883fa6"
      },
      "outputs": [
        {
          "data": {
            "text/html": [
              "<pre style=\"white-space:pre;overflow-x:auto;line-height:normal;font-family:Menlo,'DejaVu Sans Mono',consolas,'Courier New',monospace\"><span style=\"font-weight: bold\">Model: \"sequential_3\"</span>\n",
              "</pre>\n"
            ],
            "text/plain": [
              "\u001b[1mModel: \"sequential_3\"\u001b[0m\n"
            ]
          },
          "metadata": {},
          "output_type": "display_data"
        },
        {
          "data": {
            "text/html": [
              "<pre style=\"white-space:pre;overflow-x:auto;line-height:normal;font-family:Menlo,'DejaVu Sans Mono',consolas,'Courier New',monospace\">┏━━━━━━━━━━━━━━━━━━━━━━━━━━━━━━━━━━━━━━┳━━━━━━━━━━━━━━━━━━━━━━━━━━━━━┳━━━━━━━━━━━━━━━━━┓\n",
              "┃<span style=\"font-weight: bold\"> Layer (type)                         </span>┃<span style=\"font-weight: bold\"> Output Shape                </span>┃<span style=\"font-weight: bold\">         Param # </span>┃\n",
              "┡━━━━━━━━━━━━━━━━━━━━━━━━━━━━━━━━━━━━━━╇━━━━━━━━━━━━━━━━━━━━━━━━━━━━━╇━━━━━━━━━━━━━━━━━┩\n",
              "│ dense_9 (<span style=\"color: #0087ff; text-decoration-color: #0087ff\">Dense</span>)                      │ (<span style=\"color: #00d7ff; text-decoration-color: #00d7ff\">None</span>, <span style=\"color: #00af00; text-decoration-color: #00af00\">256</span>)                 │          <span style=\"color: #00af00; text-decoration-color: #00af00\">77,056</span> │\n",
              "├──────────────────────────────────────┼─────────────────────────────┼─────────────────┤\n",
              "│ dropout_6 (<span style=\"color: #0087ff; text-decoration-color: #0087ff\">Dropout</span>)                  │ (<span style=\"color: #00d7ff; text-decoration-color: #00d7ff\">None</span>, <span style=\"color: #00af00; text-decoration-color: #00af00\">256</span>)                 │               <span style=\"color: #00af00; text-decoration-color: #00af00\">0</span> │\n",
              "├──────────────────────────────────────┼─────────────────────────────┼─────────────────┤\n",
              "│ batch_normalization_3                │ (<span style=\"color: #00d7ff; text-decoration-color: #00d7ff\">None</span>, <span style=\"color: #00af00; text-decoration-color: #00af00\">256</span>)                 │           <span style=\"color: #00af00; text-decoration-color: #00af00\">1,024</span> │\n",
              "│ (<span style=\"color: #0087ff; text-decoration-color: #0087ff\">BatchNormalization</span>)                 │                             │                 │\n",
              "├──────────────────────────────────────┼─────────────────────────────┼─────────────────┤\n",
              "│ dense_10 (<span style=\"color: #0087ff; text-decoration-color: #0087ff\">Dense</span>)                     │ (<span style=\"color: #00d7ff; text-decoration-color: #00d7ff\">None</span>, <span style=\"color: #00af00; text-decoration-color: #00af00\">128</span>)                 │          <span style=\"color: #00af00; text-decoration-color: #00af00\">32,896</span> │\n",
              "├──────────────────────────────────────┼─────────────────────────────┼─────────────────┤\n",
              "│ dropout_7 (<span style=\"color: #0087ff; text-decoration-color: #0087ff\">Dropout</span>)                  │ (<span style=\"color: #00d7ff; text-decoration-color: #00d7ff\">None</span>, <span style=\"color: #00af00; text-decoration-color: #00af00\">128</span>)                 │               <span style=\"color: #00af00; text-decoration-color: #00af00\">0</span> │\n",
              "├──────────────────────────────────────┼─────────────────────────────┼─────────────────┤\n",
              "│ batch_normalization_4                │ (<span style=\"color: #00d7ff; text-decoration-color: #00d7ff\">None</span>, <span style=\"color: #00af00; text-decoration-color: #00af00\">128</span>)                 │             <span style=\"color: #00af00; text-decoration-color: #00af00\">512</span> │\n",
              "│ (<span style=\"color: #0087ff; text-decoration-color: #0087ff\">BatchNormalization</span>)                 │                             │                 │\n",
              "├──────────────────────────────────────┼─────────────────────────────┼─────────────────┤\n",
              "│ dense_11 (<span style=\"color: #0087ff; text-decoration-color: #0087ff\">Dense</span>)                     │ (<span style=\"color: #00d7ff; text-decoration-color: #00d7ff\">None</span>, <span style=\"color: #00af00; text-decoration-color: #00af00\">64</span>)                  │           <span style=\"color: #00af00; text-decoration-color: #00af00\">8,256</span> │\n",
              "├──────────────────────────────────────┼─────────────────────────────┼─────────────────┤\n",
              "│ dropout_8 (<span style=\"color: #0087ff; text-decoration-color: #0087ff\">Dropout</span>)                  │ (<span style=\"color: #00d7ff; text-decoration-color: #00d7ff\">None</span>, <span style=\"color: #00af00; text-decoration-color: #00af00\">64</span>)                  │               <span style=\"color: #00af00; text-decoration-color: #00af00\">0</span> │\n",
              "├──────────────────────────────────────┼─────────────────────────────┼─────────────────┤\n",
              "│ dense_12 (<span style=\"color: #0087ff; text-decoration-color: #0087ff\">Dense</span>)                     │ (<span style=\"color: #00d7ff; text-decoration-color: #00d7ff\">None</span>, <span style=\"color: #00af00; text-decoration-color: #00af00\">10</span>)                  │             <span style=\"color: #00af00; text-decoration-color: #00af00\">650</span> │\n",
              "└──────────────────────────────────────┴─────────────────────────────┴─────────────────┘\n",
              "</pre>\n"
            ],
            "text/plain": [
              "┏━━━━━━━━━━━━━━━━━━━━━━━━━━━━━━━━━━━━━━┳━━━━━━━━━━━━━━━━━━━━━━━━━━━━━┳━━━━━━━━━━━━━━━━━┓\n",
              "┃\u001b[1m \u001b[0m\u001b[1mLayer (type)                        \u001b[0m\u001b[1m \u001b[0m┃\u001b[1m \u001b[0m\u001b[1mOutput Shape               \u001b[0m\u001b[1m \u001b[0m┃\u001b[1m \u001b[0m\u001b[1m        Param #\u001b[0m\u001b[1m \u001b[0m┃\n",
              "┡━━━━━━━━━━━━━━━━━━━━━━━━━━━━━━━━━━━━━━╇━━━━━━━━━━━━━━━━━━━━━━━━━━━━━╇━━━━━━━━━━━━━━━━━┩\n",
              "│ dense_9 (\u001b[38;5;33mDense\u001b[0m)                      │ (\u001b[38;5;45mNone\u001b[0m, \u001b[38;5;34m256\u001b[0m)                 │          \u001b[38;5;34m77,056\u001b[0m │\n",
              "├──────────────────────────────────────┼─────────────────────────────┼─────────────────┤\n",
              "│ dropout_6 (\u001b[38;5;33mDropout\u001b[0m)                  │ (\u001b[38;5;45mNone\u001b[0m, \u001b[38;5;34m256\u001b[0m)                 │               \u001b[38;5;34m0\u001b[0m │\n",
              "├──────────────────────────────────────┼─────────────────────────────┼─────────────────┤\n",
              "│ batch_normalization_3                │ (\u001b[38;5;45mNone\u001b[0m, \u001b[38;5;34m256\u001b[0m)                 │           \u001b[38;5;34m1,024\u001b[0m │\n",
              "│ (\u001b[38;5;33mBatchNormalization\u001b[0m)                 │                             │                 │\n",
              "├──────────────────────────────────────┼─────────────────────────────┼─────────────────┤\n",
              "│ dense_10 (\u001b[38;5;33mDense\u001b[0m)                     │ (\u001b[38;5;45mNone\u001b[0m, \u001b[38;5;34m128\u001b[0m)                 │          \u001b[38;5;34m32,896\u001b[0m │\n",
              "├──────────────────────────────────────┼─────────────────────────────┼─────────────────┤\n",
              "│ dropout_7 (\u001b[38;5;33mDropout\u001b[0m)                  │ (\u001b[38;5;45mNone\u001b[0m, \u001b[38;5;34m128\u001b[0m)                 │               \u001b[38;5;34m0\u001b[0m │\n",
              "├──────────────────────────────────────┼─────────────────────────────┼─────────────────┤\n",
              "│ batch_normalization_4                │ (\u001b[38;5;45mNone\u001b[0m, \u001b[38;5;34m128\u001b[0m)                 │             \u001b[38;5;34m512\u001b[0m │\n",
              "│ (\u001b[38;5;33mBatchNormalization\u001b[0m)                 │                             │                 │\n",
              "├──────────────────────────────────────┼─────────────────────────────┼─────────────────┤\n",
              "│ dense_11 (\u001b[38;5;33mDense\u001b[0m)                     │ (\u001b[38;5;45mNone\u001b[0m, \u001b[38;5;34m64\u001b[0m)                  │           \u001b[38;5;34m8,256\u001b[0m │\n",
              "├──────────────────────────────────────┼─────────────────────────────┼─────────────────┤\n",
              "│ dropout_8 (\u001b[38;5;33mDropout\u001b[0m)                  │ (\u001b[38;5;45mNone\u001b[0m, \u001b[38;5;34m64\u001b[0m)                  │               \u001b[38;5;34m0\u001b[0m │\n",
              "├──────────────────────────────────────┼─────────────────────────────┼─────────────────┤\n",
              "│ dense_12 (\u001b[38;5;33mDense\u001b[0m)                     │ (\u001b[38;5;45mNone\u001b[0m, \u001b[38;5;34m10\u001b[0m)                  │             \u001b[38;5;34m650\u001b[0m │\n",
              "└──────────────────────────────────────┴─────────────────────────────┴─────────────────┘\n"
            ]
          },
          "metadata": {},
          "output_type": "display_data"
        },
        {
          "data": {
            "text/html": [
              "<pre style=\"white-space:pre;overflow-x:auto;line-height:normal;font-family:Menlo,'DejaVu Sans Mono',consolas,'Courier New',monospace\"><span style=\"font-weight: bold\"> Total params: </span><span style=\"color: #00af00; text-decoration-color: #00af00\">120,394</span> (470.29 KB)\n",
              "</pre>\n"
            ],
            "text/plain": [
              "\u001b[1m Total params: \u001b[0m\u001b[38;5;34m120,394\u001b[0m (470.29 KB)\n"
            ]
          },
          "metadata": {},
          "output_type": "display_data"
        },
        {
          "data": {
            "text/html": [
              "<pre style=\"white-space:pre;overflow-x:auto;line-height:normal;font-family:Menlo,'DejaVu Sans Mono',consolas,'Courier New',monospace\"><span style=\"font-weight: bold\"> Trainable params: </span><span style=\"color: #00af00; text-decoration-color: #00af00\">119,626</span> (467.29 KB)\n",
              "</pre>\n"
            ],
            "text/plain": [
              "\u001b[1m Trainable params: \u001b[0m\u001b[38;5;34m119,626\u001b[0m (467.29 KB)\n"
            ]
          },
          "metadata": {},
          "output_type": "display_data"
        },
        {
          "data": {
            "text/html": [
              "<pre style=\"white-space:pre;overflow-x:auto;line-height:normal;font-family:Menlo,'DejaVu Sans Mono',consolas,'Courier New',monospace\"><span style=\"font-weight: bold\"> Non-trainable params: </span><span style=\"color: #00af00; text-decoration-color: #00af00\">768</span> (3.00 KB)\n",
              "</pre>\n"
            ],
            "text/plain": [
              "\u001b[1m Non-trainable params: \u001b[0m\u001b[38;5;34m768\u001b[0m (3.00 KB)\n"
            ]
          },
          "metadata": {},
          "output_type": "display_data"
        },
        {
          "name": "stdout",
          "output_type": "stream",
          "text": [
            "Epoch 1/30\n",
            "\u001b[1m1055/1055\u001b[0m \u001b[32m━━━━━━━━━━━━━━━━━━━━\u001b[0m\u001b[37m\u001b[0m \u001b[1m14s\u001b[0m 10ms/step - accuracy: 0.3880 - loss: 1.8376 - val_accuracy: 0.7932 - val_loss: 0.6805\n",
            "Epoch 2/30\n",
            "\u001b[1m1055/1055\u001b[0m \u001b[32m━━━━━━━━━━━━━━━━━━━━\u001b[0m\u001b[37m\u001b[0m \u001b[1m22s\u001b[0m 11ms/step - accuracy: 0.7041 - loss: 0.9309 - val_accuracy: 0.8107 - val_loss: 0.6081\n",
            "Epoch 3/30\n",
            "\u001b[1m1055/1055\u001b[0m \u001b[32m━━━━━━━━━━━━━━━━━━━━\u001b[0m\u001b[37m\u001b[0m \u001b[1m18s\u001b[0m 9ms/step - accuracy: 0.7369 - loss: 0.8324 - val_accuracy: 0.8194 - val_loss: 0.5763\n",
            "Epoch 4/30\n",
            "\u001b[1m1055/1055\u001b[0m \u001b[32m━━━━━━━━━━━━━━━━━━━━\u001b[0m\u001b[37m\u001b[0m \u001b[1m11s\u001b[0m 11ms/step - accuracy: 0.7606 - loss: 0.7602 - val_accuracy: 0.8281 - val_loss: 0.5428\n",
            "Epoch 5/30\n",
            "\u001b[1m1055/1055\u001b[0m \u001b[32m━━━━━━━━━━━━━━━━━━━━\u001b[0m\u001b[37m\u001b[0m \u001b[1m20s\u001b[0m 10ms/step - accuracy: 0.7695 - loss: 0.7273 - val_accuracy: 0.8288 - val_loss: 0.5377\n",
            "Epoch 6/30\n",
            "\u001b[1m1055/1055\u001b[0m \u001b[32m━━━━━━━━━━━━━━━━━━━━\u001b[0m\u001b[37m\u001b[0m \u001b[1m10s\u001b[0m 10ms/step - accuracy: 0.7839 - loss: 0.6852 - val_accuracy: 0.8319 - val_loss: 0.5248\n",
            "Epoch 7/30\n",
            "\u001b[1m1055/1055\u001b[0m \u001b[32m━━━━━━━━━━━━━━━━━━━━\u001b[0m\u001b[37m\u001b[0m \u001b[1m9s\u001b[0m 8ms/step - accuracy: 0.7874 - loss: 0.6664 - val_accuracy: 0.8346 - val_loss: 0.5139\n",
            "Epoch 8/30\n",
            "\u001b[1m1055/1055\u001b[0m \u001b[32m━━━━━━━━━━━━━━━━━━━━\u001b[0m\u001b[37m\u001b[0m \u001b[1m14s\u001b[0m 11ms/step - accuracy: 0.7931 - loss: 0.6533 - val_accuracy: 0.8379 - val_loss: 0.5023\n",
            "Epoch 9/30\n",
            "\u001b[1m1055/1055\u001b[0m \u001b[32m━━━━━━━━━━━━━━━━━━━━\u001b[0m\u001b[37m\u001b[0m \u001b[1m18s\u001b[0m 9ms/step - accuracy: 0.8017 - loss: 0.6222 - val_accuracy: 0.8406 - val_loss: 0.4903\n",
            "Epoch 10/30\n",
            "\u001b[1m1055/1055\u001b[0m \u001b[32m━━━━━━━━━━━━━━━━━━━━\u001b[0m\u001b[37m\u001b[0m \u001b[1m9s\u001b[0m 9ms/step - accuracy: 0.8045 - loss: 0.6262 - val_accuracy: 0.8397 - val_loss: 0.4921\n",
            "Epoch 11/30\n",
            "\u001b[1m1055/1055\u001b[0m \u001b[32m━━━━━━━━━━━━━━━━━━━━\u001b[0m\u001b[37m\u001b[0m \u001b[1m10s\u001b[0m 10ms/step - accuracy: 0.8105 - loss: 0.5997 - val_accuracy: 0.8419 - val_loss: 0.4838\n",
            "Epoch 12/30\n",
            "\u001b[1m1055/1055\u001b[0m \u001b[32m━━━━━━━━━━━━━━━━━━━━\u001b[0m\u001b[37m\u001b[0m \u001b[1m10s\u001b[0m 10ms/step - accuracy: 0.8132 - loss: 0.5916 - val_accuracy: 0.8421 - val_loss: 0.4830\n",
            "Epoch 13/30\n",
            "\u001b[1m1055/1055\u001b[0m \u001b[32m━━━━━━━━━━━━━━━━━━━━\u001b[0m\u001b[37m\u001b[0m \u001b[1m21s\u001b[0m 11ms/step - accuracy: 0.8178 - loss: 0.5703 - val_accuracy: 0.8426 - val_loss: 0.4815\n",
            "Epoch 14/30\n",
            "\u001b[1m1055/1055\u001b[0m \u001b[32m━━━━━━━━━━━━━━━━━━━━\u001b[0m\u001b[37m\u001b[0m \u001b[1m20s\u001b[0m 10ms/step - accuracy: 0.8177 - loss: 0.5690 - val_accuracy: 0.8439 - val_loss: 0.4792\n",
            "Epoch 15/30\n",
            "\u001b[1m1055/1055\u001b[0m \u001b[32m━━━━━━━━━━━━━━━━━━━━\u001b[0m\u001b[37m\u001b[0m \u001b[1m22s\u001b[0m 11ms/step - accuracy: 0.8233 - loss: 0.5535 - val_accuracy: 0.8443 - val_loss: 0.4764\n",
            "Epoch 16/30\n",
            "\u001b[1m1055/1055\u001b[0m \u001b[32m━━━━━━━━━━━━━━━━━━━━\u001b[0m\u001b[37m\u001b[0m \u001b[1m19s\u001b[0m 10ms/step - accuracy: 0.8247 - loss: 0.5454 - val_accuracy: 0.8427 - val_loss: 0.4787\n",
            "Epoch 17/30\n",
            "\u001b[1m1055/1055\u001b[0m \u001b[32m━━━━━━━━━━━━━━━━━━━━\u001b[0m\u001b[37m\u001b[0m \u001b[1m20s\u001b[0m 10ms/step - accuracy: 0.8290 - loss: 0.5317 - val_accuracy: 0.8468 - val_loss: 0.4702\n",
            "Epoch 18/30\n",
            "\u001b[1m1055/1055\u001b[0m \u001b[32m━━━━━━━━━━━━━━━━━━━━\u001b[0m\u001b[37m\u001b[0m \u001b[1m11s\u001b[0m 10ms/step - accuracy: 0.8278 - loss: 0.5315 - val_accuracy: 0.8461 - val_loss: 0.4712\n",
            "Epoch 19/30\n",
            "\u001b[1m1055/1055\u001b[0m \u001b[32m━━━━━━━━━━━━━━━━━━━━\u001b[0m\u001b[37m\u001b[0m \u001b[1m10s\u001b[0m 10ms/step - accuracy: 0.8350 - loss: 0.5257 - val_accuracy: 0.8437 - val_loss: 0.4766\n",
            "Epoch 20/30\n",
            "\u001b[1m1055/1055\u001b[0m \u001b[32m━━━━━━━━━━━━━━━━━━━━\u001b[0m\u001b[37m\u001b[0m \u001b[1m22s\u001b[0m 11ms/step - accuracy: 0.8395 - loss: 0.5058 - val_accuracy: 0.8450 - val_loss: 0.4762\n",
            "Epoch 21/30\n",
            "\u001b[1m1055/1055\u001b[0m \u001b[32m━━━━━━━━━━━━━━━━━━━━\u001b[0m\u001b[37m\u001b[0m \u001b[1m18s\u001b[0m 9ms/step - accuracy: 0.8367 - loss: 0.5054 - val_accuracy: 0.8467 - val_loss: 0.4698\n",
            "Epoch 22/30\n",
            "\u001b[1m1055/1055\u001b[0m \u001b[32m━━━━━━━━━━━━━━━━━━━━\u001b[0m\u001b[37m\u001b[0m \u001b[1m11s\u001b[0m 11ms/step - accuracy: 0.8346 - loss: 0.5108 - val_accuracy: 0.8475 - val_loss: 0.4680\n",
            "Epoch 23/30\n",
            "\u001b[1m1055/1055\u001b[0m \u001b[32m━━━━━━━━━━━━━━━━━━━━\u001b[0m\u001b[37m\u001b[0m \u001b[1m12s\u001b[0m 11ms/step - accuracy: 0.8379 - loss: 0.4964 - val_accuracy: 0.8481 - val_loss: 0.4682\n",
            "Epoch 24/30\n",
            "\u001b[1m1055/1055\u001b[0m \u001b[32m━━━━━━━━━━━━━━━━━━━━\u001b[0m\u001b[37m\u001b[0m \u001b[1m18s\u001b[0m 9ms/step - accuracy: 0.8447 - loss: 0.4863 - val_accuracy: 0.8480 - val_loss: 0.4718\n",
            "Epoch 25/30\n",
            "\u001b[1m1055/1055\u001b[0m \u001b[32m━━━━━━━━━━━━━━━━━━━━\u001b[0m\u001b[37m\u001b[0m \u001b[1m9s\u001b[0m 9ms/step - accuracy: 0.8416 - loss: 0.4915 - val_accuracy: 0.8469 - val_loss: 0.4716\n",
            "Epoch 26/30\n",
            "\u001b[1m1055/1055\u001b[0m \u001b[32m━━━━━━━━━━━━━━━━━━━━\u001b[0m\u001b[37m\u001b[0m \u001b[1m13s\u001b[0m 11ms/step - accuracy: 0.8430 - loss: 0.4778 - val_accuracy: 0.8484 - val_loss: 0.4665\n",
            "Epoch 27/30\n",
            "\u001b[1m1055/1055\u001b[0m \u001b[32m━━━━━━━━━━━━━━━━━━━━\u001b[0m\u001b[37m\u001b[0m \u001b[1m10s\u001b[0m 10ms/step - accuracy: 0.8420 - loss: 0.4841 - val_accuracy: 0.8505 - val_loss: 0.4630\n",
            "Epoch 28/30\n",
            "\u001b[1m1055/1055\u001b[0m \u001b[32m━━━━━━━━━━━━━━━━━━━━\u001b[0m\u001b[37m\u001b[0m \u001b[1m10s\u001b[0m 10ms/step - accuracy: 0.8489 - loss: 0.4728 - val_accuracy: 0.8496 - val_loss: 0.4648\n",
            "Epoch 29/30\n",
            "\u001b[1m1055/1055\u001b[0m \u001b[32m━━━━━━━━━━━━━━━━━━━━\u001b[0m\u001b[37m\u001b[0m \u001b[1m9s\u001b[0m 9ms/step - accuracy: 0.8489 - loss: 0.4733 - val_accuracy: 0.8483 - val_loss: 0.4696\n",
            "Epoch 30/30\n",
            "\u001b[1m1055/1055\u001b[0m \u001b[32m━━━━━━━━━━━━━━━━━━━━\u001b[0m\u001b[37m\u001b[0m \u001b[1m11s\u001b[0m 10ms/step - accuracy: 0.8468 - loss: 0.4716 - val_accuracy: 0.8489 - val_loss: 0.4664\n",
            "\n",
            "[Simple Neural Network] Test Accuracy: 0.8489\n"
          ]
        }
      ],
      "source": [
        "nn_model, history = train_nn_model(X_train_doc2vec, y_train, X_test_doc2vec, y_test)"
      ]
    },
    {
      "cell_type": "code",
      "execution_count": null,
      "metadata": {
        "colab": {
          "base_uri": "https://localhost:8080/",
          "height": 881
        },
        "id": "XwsE7z7k33W3",
        "outputId": "633c4f81-0b8f-4f44-9ed6-925fdf2799bc"
      },
      "outputs": [
        {
          "data": {
            "image/png": "[encoded data removed]",
            "text/plain": [
              "<Figure size 640x480 with 1 Axes>"
            ]
          },
          "metadata": {},
          "output_type": "display_data"
        },
        {
          "data": {
            "image/png": "[encoded data removed]",
            "text/plain": [
              "<Figure size 640x480 with 1 Axes>"
            ]
          },
          "metadata": {},
          "output_type": "display_data"
        }
      ],
      "source": [
        "def plot_history(history):\n",
        "  epochs = range(1, len(history.history['loss']) + 1)\n",
        "\n",
        "  # loss\n",
        "  plt.plot(epochs, history.history['loss'], 'bo-', label='Train Loss')\n",
        "  plt.plot(epochs, history.history['val_loss'], 'ro-', label='Validation Loss')\n",
        "  plt.xlabel('Epochs')\n",
        "  plt.ylabel('Loss')\n",
        "  plt.legend()\n",
        "  plt.show()\n",
        "\n",
        "  # accuracy\n",
        "  plt.plot(epochs, history.history['accuracy'], 'bo-', label='Train Accuracy')\n",
        "  plt.plot(epochs, history.history['val_accuracy'], 'ro-', label='Validation Accuracy')\n",
        "  plt.xlabel('Epochs')\n",
        "  plt.ylabel('Accuracy')\n",
        "  plt.legend()\n",
        "  plt.show()\n",
        "\n",
        "plot_history(history)"
      ]
    },
    {
      "cell_type": "code",
      "execution_count": null,
      "metadata": {
        "colab": {
          "base_uri": "https://localhost:8080/",
          "height": 472
        },
        "id": "Mdosye9VfFTa",
        "outputId": "e2469f1e-bcb7-46de-8523-350ba25306e2"
      },
      "outputs": [
        {
          "data": {
            "text/html": [
              "<pre style=\"white-space:pre;overflow-x:auto;line-height:normal;font-family:Menlo,'DejaVu Sans Mono',consolas,'Courier New',monospace\"><span style=\"font-weight: bold\">Model: \"sequential_3\"</span>\n",
              "</pre>\n"
            ],
            "text/plain": [
              "\u001b[1mModel: \"sequential_3\"\u001b[0m\n"
            ]
          },
          "metadata": {},
          "output_type": "display_data"
        },
        {
          "data": {
            "text/html": [
              "<pre style=\"white-space:pre;overflow-x:auto;line-height:normal;font-family:Menlo,'DejaVu Sans Mono',consolas,'Courier New',monospace\">┏━━━━━━━━━━━━━━━━━━━━━━━━━━━━━━━━━━━━━━┳━━━━━━━━━━━━━━━━━━━━━━━━━━━━━┳━━━━━━━━━━━━━━━━━┓\n",
              "┃<span style=\"font-weight: bold\"> Layer (type)                         </span>┃<span style=\"font-weight: bold\"> Output Shape                </span>┃<span style=\"font-weight: bold\">         Param # </span>┃\n",
              "┡━━━━━━━━━━━━━━━━━━━━━━━━━━━━━━━━━━━━━━╇━━━━━━━━━━━━━━━━━━━━━━━━━━━━━╇━━━━━━━━━━━━━━━━━┩\n",
              "│ dense_9 (<span style=\"color: #0087ff; text-decoration-color: #0087ff\">Dense</span>)                      │ (<span style=\"color: #00d7ff; text-decoration-color: #00d7ff\">None</span>, <span style=\"color: #00af00; text-decoration-color: #00af00\">256</span>)                 │          <span style=\"color: #00af00; text-decoration-color: #00af00\">77,056</span> │\n",
              "├──────────────────────────────────────┼─────────────────────────────┼─────────────────┤\n",
              "│ dropout_6 (<span style=\"color: #0087ff; text-decoration-color: #0087ff\">Dropout</span>)                  │ (<span style=\"color: #00d7ff; text-decoration-color: #00d7ff\">None</span>, <span style=\"color: #00af00; text-decoration-color: #00af00\">256</span>)                 │               <span style=\"color: #00af00; text-decoration-color: #00af00\">0</span> │\n",
              "├──────────────────────────────────────┼─────────────────────────────┼─────────────────┤\n",
              "│ batch_normalization_3                │ (<span style=\"color: #00d7ff; text-decoration-color: #00d7ff\">None</span>, <span style=\"color: #00af00; text-decoration-color: #00af00\">256</span>)                 │           <span style=\"color: #00af00; text-decoration-color: #00af00\">1,024</span> │\n",
              "│ (<span style=\"color: #0087ff; text-decoration-color: #0087ff\">BatchNormalization</span>)                 │                             │                 │\n",
              "├──────────────────────────────────────┼─────────────────────────────┼─────────────────┤\n",
              "│ dense_10 (<span style=\"color: #0087ff; text-decoration-color: #0087ff\">Dense</span>)                     │ (<span style=\"color: #00d7ff; text-decoration-color: #00d7ff\">None</span>, <span style=\"color: #00af00; text-decoration-color: #00af00\">128</span>)                 │          <span style=\"color: #00af00; text-decoration-color: #00af00\">32,896</span> │\n",
              "├──────────────────────────────────────┼─────────────────────────────┼─────────────────┤\n",
              "│ dropout_7 (<span style=\"color: #0087ff; text-decoration-color: #0087ff\">Dropout</span>)                  │ (<span style=\"color: #00d7ff; text-decoration-color: #00d7ff\">None</span>, <span style=\"color: #00af00; text-decoration-color: #00af00\">128</span>)                 │               <span style=\"color: #00af00; text-decoration-color: #00af00\">0</span> │\n",
              "├──────────────────────────────────────┼─────────────────────────────┼─────────────────┤\n",
              "│ batch_normalization_4                │ (<span style=\"color: #00d7ff; text-decoration-color: #00d7ff\">None</span>, <span style=\"color: #00af00; text-decoration-color: #00af00\">128</span>)                 │             <span style=\"color: #00af00; text-decoration-color: #00af00\">512</span> │\n",
              "│ (<span style=\"color: #0087ff; text-decoration-color: #0087ff\">BatchNormalization</span>)                 │                             │                 │\n",
              "├──────────────────────────────────────┼─────────────────────────────┼─────────────────┤\n",
              "│ dense_11 (<span style=\"color: #0087ff; text-decoration-color: #0087ff\">Dense</span>)                     │ (<span style=\"color: #00d7ff; text-decoration-color: #00d7ff\">None</span>, <span style=\"color: #00af00; text-decoration-color: #00af00\">64</span>)                  │           <span style=\"color: #00af00; text-decoration-color: #00af00\">8,256</span> │\n",
              "├──────────────────────────────────────┼─────────────────────────────┼─────────────────┤\n",
              "│ dropout_8 (<span style=\"color: #0087ff; text-decoration-color: #0087ff\">Dropout</span>)                  │ (<span style=\"color: #00d7ff; text-decoration-color: #00d7ff\">None</span>, <span style=\"color: #00af00; text-decoration-color: #00af00\">64</span>)                  │               <span style=\"color: #00af00; text-decoration-color: #00af00\">0</span> │\n",
              "├──────────────────────────────────────┼─────────────────────────────┼─────────────────┤\n",
              "│ dense_12 (<span style=\"color: #0087ff; text-decoration-color: #0087ff\">Dense</span>)                     │ (<span style=\"color: #00d7ff; text-decoration-color: #00d7ff\">None</span>, <span style=\"color: #00af00; text-decoration-color: #00af00\">10</span>)                  │             <span style=\"color: #00af00; text-decoration-color: #00af00\">650</span> │\n",
              "└──────────────────────────────────────┴─────────────────────────────┴─────────────────┘\n",
              "</pre>\n"
            ],
            "text/plain": [
              "┏━━━━━━━━━━━━━━━━━━━━━━━━━━━━━━━━━━━━━━┳━━━━━━━━━━━━━━━━━━━━━━━━━━━━━┳━━━━━━━━━━━━━━━━━┓\n",
              "┃\u001b[1m \u001b[0m\u001b[1mLayer (type)                        \u001b[0m\u001b[1m \u001b[0m┃\u001b[1m \u001b[0m\u001b[1mOutput Shape               \u001b[0m\u001b[1m \u001b[0m┃\u001b[1m \u001b[0m\u001b[1m        Param #\u001b[0m\u001b[1m \u001b[0m┃\n",
              "┡━━━━━━━━━━━━━━━━━━━━━━━━━━━━━━━━━━━━━━╇━━━━━━━━━━━━━━━━━━━━━━━━━━━━━╇━━━━━━━━━━━━━━━━━┩\n",
              "│ dense_9 (\u001b[38;5;33mDense\u001b[0m)                      │ (\u001b[38;5;45mNone\u001b[0m, \u001b[38;5;34m256\u001b[0m)                 │          \u001b[38;5;34m77,056\u001b[0m │\n",
              "├──────────────────────────────────────┼─────────────────────────────┼─────────────────┤\n",
              "│ dropout_6 (\u001b[38;5;33mDropout\u001b[0m)                  │ (\u001b[38;5;45mNone\u001b[0m, \u001b[38;5;34m256\u001b[0m)                 │               \u001b[38;5;34m0\u001b[0m │\n",
              "├──────────────────────────────────────┼─────────────────────────────┼─────────────────┤\n",
              "│ batch_normalization_3                │ (\u001b[38;5;45mNone\u001b[0m, \u001b[38;5;34m256\u001b[0m)                 │           \u001b[38;5;34m1,024\u001b[0m │\n",
              "│ (\u001b[38;5;33mBatchNormalization\u001b[0m)                 │                             │                 │\n",
              "├──────────────────────────────────────┼─────────────────────────────┼─────────────────┤\n",
              "│ dense_10 (\u001b[38;5;33mDense\u001b[0m)                     │ (\u001b[38;5;45mNone\u001b[0m, \u001b[38;5;34m128\u001b[0m)                 │          \u001b[38;5;34m32,896\u001b[0m │\n",
              "├──────────────────────────────────────┼─────────────────────────────┼─────────────────┤\n",
              "│ dropout_7 (\u001b[38;5;33mDropout\u001b[0m)                  │ (\u001b[38;5;45mNone\u001b[0m, \u001b[38;5;34m128\u001b[0m)                 │               \u001b[38;5;34m0\u001b[0m │\n",
              "├──────────────────────────────────────┼─────────────────────────────┼─────────────────┤\n",
              "│ batch_normalization_4                │ (\u001b[38;5;45mNone\u001b[0m, \u001b[38;5;34m128\u001b[0m)                 │             \u001b[38;5;34m512\u001b[0m │\n",
              "│ (\u001b[38;5;33mBatchNormalization\u001b[0m)                 │                             │                 │\n",
              "├──────────────────────────────────────┼─────────────────────────────┼─────────────────┤\n",
              "│ dense_11 (\u001b[38;5;33mDense\u001b[0m)                     │ (\u001b[38;5;45mNone\u001b[0m, \u001b[38;5;34m64\u001b[0m)                  │           \u001b[38;5;34m8,256\u001b[0m │\n",
              "├──────────────────────────────────────┼─────────────────────────────┼─────────────────┤\n",
              "│ dropout_8 (\u001b[38;5;33mDropout\u001b[0m)                  │ (\u001b[38;5;45mNone\u001b[0m, \u001b[38;5;34m64\u001b[0m)                  │               \u001b[38;5;34m0\u001b[0m │\n",
              "├──────────────────────────────────────┼─────────────────────────────┼─────────────────┤\n",
              "│ dense_12 (\u001b[38;5;33mDense\u001b[0m)                     │ (\u001b[38;5;45mNone\u001b[0m, \u001b[38;5;34m10\u001b[0m)                  │             \u001b[38;5;34m650\u001b[0m │\n",
              "└──────────────────────────────────────┴─────────────────────────────┴─────────────────┘\n"
            ]
          },
          "metadata": {},
          "output_type": "display_data"
        },
        {
          "data": {
            "text/html": [
              "<pre style=\"white-space:pre;overflow-x:auto;line-height:normal;font-family:Menlo,'DejaVu Sans Mono',consolas,'Courier New',monospace\"><span style=\"font-weight: bold\"> Total params: </span><span style=\"color: #00af00; text-decoration-color: #00af00\">359,648</span> (1.37 MB)\n",
              "</pre>\n"
            ],
            "text/plain": [
              "\u001b[1m Total params: \u001b[0m\u001b[38;5;34m359,648\u001b[0m (1.37 MB)\n"
            ]
          },
          "metadata": {},
          "output_type": "display_data"
        },
        {
          "data": {
            "text/html": [
              "<pre style=\"white-space:pre;overflow-x:auto;line-height:normal;font-family:Menlo,'DejaVu Sans Mono',consolas,'Courier New',monospace\"><span style=\"font-weight: bold\"> Trainable params: </span><span style=\"color: #00af00; text-decoration-color: #00af00\">119,626</span> (467.29 KB)\n",
              "</pre>\n"
            ],
            "text/plain": [
              "\u001b[1m Trainable params: \u001b[0m\u001b[38;5;34m119,626\u001b[0m (467.29 KB)\n"
            ]
          },
          "metadata": {},
          "output_type": "display_data"
        },
        {
          "data": {
            "text/html": [
              "<pre style=\"white-space:pre;overflow-x:auto;line-height:normal;font-family:Menlo,'DejaVu Sans Mono',consolas,'Courier New',monospace\"><span style=\"font-weight: bold\"> Non-trainable params: </span><span style=\"color: #00af00; text-decoration-color: #00af00\">768</span> (3.00 KB)\n",
              "</pre>\n"
            ],
            "text/plain": [
              "\u001b[1m Non-trainable params: \u001b[0m\u001b[38;5;34m768\u001b[0m (3.00 KB)\n"
            ]
          },
          "metadata": {},
          "output_type": "display_data"
        },
        {
          "data": {
            "text/html": [
              "<pre style=\"white-space:pre;overflow-x:auto;line-height:normal;font-family:Menlo,'DejaVu Sans Mono',consolas,'Courier New',monospace\"><span style=\"font-weight: bold\"> Optimizer params: </span><span style=\"color: #00af00; text-decoration-color: #00af00\">239,254</span> (934.59 KB)\n",
              "</pre>\n"
            ],
            "text/plain": [
              "\u001b[1m Optimizer params: \u001b[0m\u001b[38;5;34m239,254\u001b[0m (934.59 KB)\n"
            ]
          },
          "metadata": {},
          "output_type": "display_data"
        }
      ],
      "source": [
        "from tensorflow.keras.models import load_model\n",
        "\n",
        "nn_model = load_model(\"nn_model.keras\")\n",
        "nn_model.summary()"
      ]
    },
    {
      "cell_type": "code",
      "execution_count": null,
      "metadata": {
        "colab": {
          "base_uri": "https://localhost:8080/",
          "height": 53
        },
        "id": "3vjQchYqfVSQ",
        "outputId": "b97154dd-67d8-4976-dcbf-26a059f918c2"
      },
      "outputs": [
        {
          "data": {
            "application/vnd.google.colaboratory.intrinsic+json": {
              "type": "string"
            },
            "text/plain": [
              "'lý_do phi_hành_gia di_chuyển cáng trở_về trái_đất quy_định an_toàn nasa yêu_cầu phi_hành_gia nằm cáng không_thể lập_tức đi_lại hạ_cánh có_thể say chuyến bay hai phi_hành_gia nasa sunita_williams butch wilmore hạ_cánh đại_dương khoang tàu spacex kết_thúc không_gian thay_vì vài tuần dự_kiến ban_đầu khoang tàu mở khả_năng phi_hành_gia đưa đặt cáng lý_do liên_quan nhiệm_vụ williams wilmore trạm vũ_trụ quốc_tế iss vấn_đề quy_định mọi phi_hành_gia tuân live science'"
            ]
          },
          "execution_count": 59,
          "metadata": {},
          "output_type": "execute_result"
        }
      ],
      "source": [
        "text = 'Lý do phi hành gia cần di chuyển bằng cáng khi trở về Trái Đất \\n Quy định an toàn của NASA yêu cầu các phi hành gia phải nằm trên cáng do họ không thể lập tức đi lại sau khi hạ cánh và có thể bị say do chuyến bay. Ngày 18/3, hai phi hành gia NASA Sunita Williams và Butch Wilmore hạ cánh xuống đại dương trong khoang tàu của SpaceX, kết thúc hơn 9 tháng ở trong không gian thay vì vài tuần như dự kiến ban đầu. Khi khoang tàu mở ra, nhiều khả năng các phi hành gia sẽ được đưa ra ngoài và đặt lên cáng. Lý do không liên quan tới nhiệm vụ của Williams và Wilmore trên Trạm Vũ trụ Quốc tế (ISS) mà là vấn đề quy định mà mọi phi hành gia phải tuân theo, theo Live Science.'\n",
        "text = preprocess(text, stopwords)\n",
        "text"
      ]
    },
    {
      "cell_type": "code",
      "execution_count": null,
      "metadata": {
        "id": "TKWSE2QJf6qp"
      },
      "outputs": [],
      "source": [
        "emb_text = doc2vec_model.infer_vector(text.split())\n",
        "emb_text = np.array(emb_text).reshape(1, -1)"
      ]
    },
    {
      "cell_type": "code",
      "execution_count": null,
      "metadata": {
        "colab": {
          "base_uri": "https://localhost:8080/"
        },
        "id": "UgpwiQJYgFoS",
        "outputId": "100e0b5a-4676-4f0e-9573-367870a54ddd"
      },
      "outputs": [
        {
          "name": "stdout",
          "output_type": "stream",
          "text": [
            "\u001b[1m1/1\u001b[0m \u001b[32m━━━━━━━━━━━━━━━━━━━━\u001b[0m\u001b[37m\u001b[0m \u001b[1m0s\u001b[0m 114ms/step\n",
            "Predicted class index: 2\n",
            "Predicted class label: Khoa học\n"
          ]
        }
      ],
      "source": [
        "prediction_probabilities = nn_model.predict(emb_text)\n",
        "predicted_class_index = np.argmax(prediction_probabilities, axis=1)[0]\n",
        "\n",
        "labels_mapping = ['Chính trị xã hội', 'Đời sống', 'Khoa học', 'Kinh doanh', 'Pháp luật', 'Sức khoẻ', 'Thế giới', 'Thể thao', 'Văn hoá', 'Vi tính']\n",
        "\n",
        "predicted_label = labels_mapping[predicted_class_index]\n",
        "print(\"Predicted class index:\", predicted_class_index)\n",
        "print(\"Predicted class label:\", predicted_label)"
      ]
    },
    {
      "cell_type": "code",
      "execution_count": null,
      "metadata": {
        "id": "vRHUUyx7db7R"
      },
      "outputs": [],
      "source": [
        "def classify_text(text, stopwords, doc2vec, model):\n",
        "  processed_text = preprocess(text, stopwords)\n",
        "  embedding_vector = doc2vec.infer_vector(processed_text.split())\n",
        "  reshape_vector = np.array(embedding_vector).reshape(1, -1)\n",
        "  pred_probs = model.predict(reshape_vector)\n",
        "  pred_idx = np.argmax(prediction_probabilities, axis=1)[0]\n",
        "  labels_mapping = ['Chính trị xã hội', 'Đời sống', 'Khoa học', 'Kinh doanh', 'Pháp luật', 'Sức khoẻ', 'Thế giới', 'Thể thao', 'Văn hoá', 'Vi tính']\n",
        "  predicted_label = labels_mapping[pred_idx]\n",
        "  print(\"Predicted class index:\", pred_idx)\n",
        "  print(\"Predicted class label:\", pred_idx)"
      ]
    }
  ],
  "metadata": {
    "colab": {
      "collapsed_sections": [
        "BINwFEsgxi0M",
        "a30joOifx55D",
        "iZf1YQAQx75R"
      ],
      "provenance": []
    },
    "kernelspec": {
      "display_name": "Python 3",
      "name": "python3"
    },
    "language_info": {
      "name": "python"
    },
    "widgets": {
      "application/vnd.jupyter.widget-state+json": {
        "01baf1780de1427b95b4f8346505f5eb": {
          "model_module": "@jupyter-widgets/controls",
          "model_module_version": "1.5.0",
          "model_name": "HTMLModel",
          "state": {
            "_dom_classes": [],
            "_model_module": "@jupyter-widgets/controls",
            "_model_module_version": "1.5.0",
            "_model_name": "HTMLModel",
            "_view_count": null,
            "_view_module": "@jupyter-widgets/controls",
            "_view_module_version": "1.5.0",
            "_view_name": "HTMLView",
            "description": "",
            "description_tooltip": null,
            "layout": "IPY_MODEL_2cf02522258244fb91defe108d82231c",
            "placeholder": "​",
            "style": "IPY_MODEL_0bfd478406da426d8379fb50a6c44595",
            "value": " 895k/895k [00:00&lt;00:00, 12.3MB/s]"
          }
        },
        "03d57354911e4c26b4d1b9bba1799e67": {
          "model_module": "@jupyter-widgets/controls",
          "model_module_version": "1.5.0",
          "model_name": "DescriptionStyleModel",
          "state": {
            "_model_module": "@jupyter-widgets/controls",
            "_model_module_version": "1.5.0",
            "_model_name": "DescriptionStyleModel",
            "_view_count": null,
            "_view_module": "@jupyter-widgets/base",
            "_view_module_version": "1.2.0",
            "_view_name": "StyleView",
            "description_width": ""
          }
        },
        "0b1e809136984f97ad63823bf8030cc9": {
          "model_module": "@jupyter-widgets/base",
          "model_module_version": "1.2.0",
          "model_name": "LayoutModel",
          "state": {
            "_model_module": "@jupyter-widgets/base",
            "_model_module_version": "1.2.0",
            "_model_name": "LayoutModel",
            "_view_count": null,
            "_view_module": "@jupyter-widgets/base",
            "_view_module_version": "1.2.0",
            "_view_name": "LayoutView",
            "align_content": null,
            "align_items": null,
            "align_self": null,
            "border": null,
            "bottom": null,
            "display": null,
            "flex": null,
            "flex_flow": null,
            "grid_area": null,
            "grid_auto_columns": null,
            "grid_auto_flow": null,
            "grid_auto_rows": null,
            "grid_column": null,
            "grid_gap": null,
            "grid_row": null,
            "grid_template_areas": null,
            "grid_template_columns": null,
            "grid_template_rows": null,
            "height": null,
            "justify_content": null,
            "justify_items": null,
            "left": null,
            "margin": null,
            "max_height": null,
            "max_width": null,
            "min_height": null,
            "min_width": null,
            "object_fit": null,
            "object_position": null,
            "order": null,
            "overflow": null,
            "overflow_x": null,
            "overflow_y": null,
            "padding": null,
            "right": null,
            "top": null,
            "visibility": null,
            "width": null
          }
        },
        "0b55647c491c4037ae8cbf39a288c1c1": {
          "model_module": "@jupyter-widgets/controls",
          "model_module_version": "1.5.0",
          "model_name": "DescriptionStyleModel",
          "state": {
            "_model_module": "@jupyter-widgets/controls",
            "_model_module_version": "1.5.0",
            "_model_name": "DescriptionStyleModel",
            "_view_count": null,
            "_view_module": "@jupyter-widgets/base",
            "_view_module_version": "1.2.0",
            "_view_name": "StyleView",
            "description_width": ""
          }
        },
        "0bfd478406da426d8379fb50a6c44595": {
          "model_module": "@jupyter-widgets/controls",
          "model_module_version": "1.5.0",
          "model_name": "DescriptionStyleModel",
          "state": {
            "_model_module": "@jupyter-widgets/controls",
            "_model_module_version": "1.5.0",
            "_model_name": "DescriptionStyleModel",
            "_view_count": null,
            "_view_module": "@jupyter-widgets/base",
            "_view_module_version": "1.2.0",
            "_view_name": "StyleView",
            "description_width": ""
          }
        },
        "0d9cbdb4edc4400aad9403d03c4bd4b5": {
          "model_module": "@jupyter-widgets/base",
          "model_module_version": "1.2.0",
          "model_name": "LayoutModel",
          "state": {
            "_model_module": "@jupyter-widgets/base",
            "_model_module_version": "1.2.0",
            "_model_name": "LayoutModel",
            "_view_count": null,
            "_view_module": "@jupyter-widgets/base",
            "_view_module_version": "1.2.0",
            "_view_name": "LayoutView",
            "align_content": null,
            "align_items": null,
            "align_self": null,
            "border": null,
            "bottom": null,
            "display": null,
            "flex": null,
            "flex_flow": null,
            "grid_area": null,
            "grid_auto_columns": null,
            "grid_auto_flow": null,
            "grid_auto_rows": null,
            "grid_column": null,
            "grid_gap": null,
            "grid_row": null,
            "grid_template_areas": null,
            "grid_template_columns": null,
            "grid_template_rows": null,
            "height": null,
            "justify_content": null,
            "justify_items": null,
            "left": null,
            "margin": null,
            "max_height": null,
            "max_width": null,
            "min_height": null,
            "min_width": null,
            "object_fit": null,
            "object_position": null,
            "order": null,
            "overflow": null,
            "overflow_x": null,
            "overflow_y": null,
            "padding": null,
            "right": null,
            "top": null,
            "visibility": null,
            "width": null
          }
        },
        "0e18a303435041cf8afe95a059d3b295": {
          "model_module": "@jupyter-widgets/controls",
          "model_module_version": "1.5.0",
          "model_name": "HTMLModel",
          "state": {
            "_dom_classes": [],
            "_model_module": "@jupyter-widgets/controls",
            "_model_module_version": "1.5.0",
            "_model_name": "HTMLModel",
            "_view_count": null,
            "_view_module": "@jupyter-widgets/controls",
            "_view_module_version": "1.5.0",
            "_view_name": "HTMLView",
            "description": "",
            "description_tooltip": null,
            "layout": "IPY_MODEL_b64e824871a9463d9d035729c250dfc3",
            "placeholder": "​",
            "style": "IPY_MODEL_03d57354911e4c26b4d1b9bba1799e67",
            "value": "config.json: 100%"
          }
        },
        "1660157724e347df89ce822f0bda10f2": {
          "model_module": "@jupyter-widgets/base",
          "model_module_version": "1.2.0",
          "model_name": "LayoutModel",
          "state": {
            "_model_module": "@jupyter-widgets/base",
            "_model_module_version": "1.2.0",
            "_model_name": "LayoutModel",
            "_view_count": null,
            "_view_module": "@jupyter-widgets/base",
            "_view_module_version": "1.2.0",
            "_view_name": "LayoutView",
            "align_content": null,
            "align_items": null,
            "align_self": null,
            "border": null,
            "bottom": null,
            "display": null,
            "flex": null,
            "flex_flow": null,
            "grid_area": null,
            "grid_auto_columns": null,
            "grid_auto_flow": null,
            "grid_auto_rows": null,
            "grid_column": null,
            "grid_gap": null,
            "grid_row": null,
            "grid_template_areas": null,
            "grid_template_columns": null,
            "grid_template_rows": null,
            "height": null,
            "justify_content": null,
            "justify_items": null,
            "left": null,
            "margin": null,
            "max_height": null,
            "max_width": null,
            "min_height": null,
            "min_width": null,
            "object_fit": null,
            "object_position": null,
            "order": null,
            "overflow": null,
            "overflow_x": null,
            "overflow_y": null,
            "padding": null,
            "right": null,
            "top": null,
            "visibility": null,
            "width": null
          }
        },
        "1764ff9c9e354987a4fc01375b4c84f9": {
          "model_module": "@jupyter-widgets/controls",
          "model_module_version": "1.5.0",
          "model_name": "HBoxModel",
          "state": {
            "_dom_classes": [],
            "_model_module": "@jupyter-widgets/controls",
            "_model_module_version": "1.5.0",
            "_model_name": "HBoxModel",
            "_view_count": null,
            "_view_module": "@jupyter-widgets/controls",
            "_view_module_version": "1.5.0",
            "_view_name": "HBoxView",
            "box_style": "",
            "children": [
              "IPY_MODEL_c617615ca1b34b88aa932dacfa9f42c1",
              "IPY_MODEL_627f161283864dc49e64ff5ef6eba683",
              "IPY_MODEL_a8933639c8834f78a263f55df349b38e"
            ],
            "layout": "IPY_MODEL_2b8d767dbf8744ceb1b23c314ca0cc7b"
          }
        },
        "1c6243ea0acb48268e513dbeb05c79e6": {
          "model_module": "@jupyter-widgets/controls",
          "model_module_version": "1.5.0",
          "model_name": "HTMLModel",
          "state": {
            "_dom_classes": [],
            "_model_module": "@jupyter-widgets/controls",
            "_model_module_version": "1.5.0",
            "_model_name": "HTMLModel",
            "_view_count": null,
            "_view_module": "@jupyter-widgets/controls",
            "_view_module_version": "1.5.0",
            "_view_name": "HTMLView",
            "description": "",
            "description_tooltip": null,
            "layout": "IPY_MODEL_f8e14b8738d74d7092c06a244bca2614",
            "placeholder": "​",
            "style": "IPY_MODEL_a77e97bc1e474e4d8f4e55b56eecb4a2",
            "value": " 543M/543M [00:10&lt;00:00, 66.9MB/s]"
          }
        },
        "1d37dba355ef49698e2f21f5c226423b": {
          "model_module": "@jupyter-widgets/controls",
          "model_module_version": "1.5.0",
          "model_name": "ProgressStyleModel",
          "state": {
            "_model_module": "@jupyter-widgets/controls",
            "_model_module_version": "1.5.0",
            "_model_name": "ProgressStyleModel",
            "_view_count": null,
            "_view_module": "@jupyter-widgets/base",
            "_view_module_version": "1.2.0",
            "_view_name": "StyleView",
            "bar_color": null,
            "description_width": ""
          }
        },
        "1f0b3f5d4f024b769afac7d9817df1f6": {
          "model_module": "@jupyter-widgets/controls",
          "model_module_version": "1.5.0",
          "model_name": "FloatProgressModel",
          "state": {
            "_dom_classes": [],
            "_model_module": "@jupyter-widgets/controls",
            "_model_module_version": "1.5.0",
            "_model_name": "FloatProgressModel",
            "_view_count": null,
            "_view_module": "@jupyter-widgets/controls",
            "_view_module_version": "1.5.0",
            "_view_name": "ProgressView",
            "bar_style": "success",
            "description": "",
            "description_tooltip": null,
            "layout": "IPY_MODEL_666aa4d8b6d346cbb61a1c0d8415ee3c",
            "max": 542923308,
            "min": 0,
            "orientation": "horizontal",
            "style": "IPY_MODEL_cbf5192780ed46dc8fff9f3278f94ace",
            "value": 542923308
          }
        },
        "2b67bbd79a294459bdc7cda8174d03d5": {
          "model_module": "@jupyter-widgets/controls",
          "model_module_version": "1.5.0",
          "model_name": "DescriptionStyleModel",
          "state": {
            "_model_module": "@jupyter-widgets/controls",
            "_model_module_version": "1.5.0",
            "_model_name": "DescriptionStyleModel",
            "_view_count": null,
            "_view_module": "@jupyter-widgets/base",
            "_view_module_version": "1.2.0",
            "_view_name": "StyleView",
            "description_width": ""
          }
        },
        "2b8d767dbf8744ceb1b23c314ca0cc7b": {
          "model_module": "@jupyter-widgets/base",
          "model_module_version": "1.2.0",
          "model_name": "LayoutModel",
          "state": {
            "_model_module": "@jupyter-widgets/base",
            "_model_module_version": "1.2.0",
            "_model_name": "LayoutModel",
            "_view_count": null,
            "_view_module": "@jupyter-widgets/base",
            "_view_module_version": "1.2.0",
            "_view_name": "LayoutView",
            "align_content": null,
            "align_items": null,
            "align_self": null,
            "border": null,
            "bottom": null,
            "display": null,
            "flex": null,
            "flex_flow": null,
            "grid_area": null,
            "grid_auto_columns": null,
            "grid_auto_flow": null,
            "grid_auto_rows": null,
            "grid_column": null,
            "grid_gap": null,
            "grid_row": null,
            "grid_template_areas": null,
            "grid_template_columns": null,
            "grid_template_rows": null,
            "height": null,
            "justify_content": null,
            "justify_items": null,
            "left": null,
            "margin": null,
            "max_height": null,
            "max_width": null,
            "min_height": null,
            "min_width": null,
            "object_fit": null,
            "object_position": null,
            "order": null,
            "overflow": null,
            "overflow_x": null,
            "overflow_y": null,
            "padding": null,
            "right": null,
            "top": null,
            "visibility": null,
            "width": null
          }
        },
        "2cf02522258244fb91defe108d82231c": {
          "model_module": "@jupyter-widgets/base",
          "model_module_version": "1.2.0",
          "model_name": "LayoutModel",
          "state": {
            "_model_module": "@jupyter-widgets/base",
            "_model_module_version": "1.2.0",
            "_model_name": "LayoutModel",
            "_view_count": null,
            "_view_module": "@jupyter-widgets/base",
            "_view_module_version": "1.2.0",
            "_view_name": "LayoutView",
            "align_content": null,
            "align_items": null,
            "align_self": null,
            "border": null,
            "bottom": null,
            "display": null,
            "flex": null,
            "flex_flow": null,
            "grid_area": null,
            "grid_auto_columns": null,
            "grid_auto_flow": null,
            "grid_auto_rows": null,
            "grid_column": null,
            "grid_gap": null,
            "grid_row": null,
            "grid_template_areas": null,
            "grid_template_columns": null,
            "grid_template_rows": null,
            "height": null,
            "justify_content": null,
            "justify_items": null,
            "left": null,
            "margin": null,
            "max_height": null,
            "max_width": null,
            "min_height": null,
            "min_width": null,
            "object_fit": null,
            "object_position": null,
            "order": null,
            "overflow": null,
            "overflow_x": null,
            "overflow_y": null,
            "padding": null,
            "right": null,
            "top": null,
            "visibility": null,
            "width": null
          }
        },
        "2f79e49f1fb9444ea7d8affd53ec8cdb": {
          "model_module": "@jupyter-widgets/controls",
          "model_module_version": "1.5.0",
          "model_name": "DescriptionStyleModel",
          "state": {
            "_model_module": "@jupyter-widgets/controls",
            "_model_module_version": "1.5.0",
            "_model_name": "DescriptionStyleModel",
            "_view_count": null,
            "_view_module": "@jupyter-widgets/base",
            "_view_module_version": "1.2.0",
            "_view_name": "StyleView",
            "description_width": ""
          }
        },
        "34e46ff8097e46e79d96325b57a56fe7": {
          "model_module": "@jupyter-widgets/controls",
          "model_module_version": "1.5.0",
          "model_name": "FloatProgressModel",
          "state": {
            "_dom_classes": [],
            "_model_module": "@jupyter-widgets/controls",
            "_model_module_version": "1.5.0",
            "_model_name": "FloatProgressModel",
            "_view_count": null,
            "_view_module": "@jupyter-widgets/controls",
            "_view_module_version": "1.5.0",
            "_view_name": "ProgressView",
            "bar_style": "success",
            "description": "",
            "description_tooltip": null,
            "layout": "IPY_MODEL_46832268971a4dfcabb1de155710f030",
            "max": 1135173,
            "min": 0,
            "orientation": "horizontal",
            "style": "IPY_MODEL_f2ca5833db3d47ed9a5c7f4a863c8b55",
            "value": 1135173
          }
        },
        "37dfd3f748864fa1bd1c4b31295831d7": {
          "model_module": "@jupyter-widgets/base",
          "model_module_version": "1.2.0",
          "model_name": "LayoutModel",
          "state": {
            "_model_module": "@jupyter-widgets/base",
            "_model_module_version": "1.2.0",
            "_model_name": "LayoutModel",
            "_view_count": null,
            "_view_module": "@jupyter-widgets/base",
            "_view_module_version": "1.2.0",
            "_view_name": "LayoutView",
            "align_content": null,
            "align_items": null,
            "align_self": null,
            "border": null,
            "bottom": null,
            "display": null,
            "flex": null,
            "flex_flow": null,
            "grid_area": null,
            "grid_auto_columns": null,
            "grid_auto_flow": null,
            "grid_auto_rows": null,
            "grid_column": null,
            "grid_gap": null,
            "grid_row": null,
            "grid_template_areas": null,
            "grid_template_columns": null,
            "grid_template_rows": null,
            "height": null,
            "justify_content": null,
            "justify_items": null,
            "left": null,
            "margin": null,
            "max_height": null,
            "max_width": null,
            "min_height": null,
            "min_width": null,
            "object_fit": null,
            "object_position": null,
            "order": null,
            "overflow": null,
            "overflow_x": null,
            "overflow_y": null,
            "padding": null,
            "right": null,
            "top": null,
            "visibility": null,
            "width": null
          }
        },
        "42543196f6684837910d4a6f7e11b0e9": {
          "model_module": "@jupyter-widgets/base",
          "model_module_version": "1.2.0",
          "model_name": "LayoutModel",
          "state": {
            "_model_module": "@jupyter-widgets/base",
            "_model_module_version": "1.2.0",
            "_model_name": "LayoutModel",
            "_view_count": null,
            "_view_module": "@jupyter-widgets/base",
            "_view_module_version": "1.2.0",
            "_view_name": "LayoutView",
            "align_content": null,
            "align_items": null,
            "align_self": null,
            "border": null,
            "bottom": null,
            "display": null,
            "flex": null,
            "flex_flow": null,
            "grid_area": null,
            "grid_auto_columns": null,
            "grid_auto_flow": null,
            "grid_auto_rows": null,
            "grid_column": null,
            "grid_gap": null,
            "grid_row": null,
            "grid_template_areas": null,
            "grid_template_columns": null,
            "grid_template_rows": null,
            "height": null,
            "justify_content": null,
            "justify_items": null,
            "left": null,
            "margin": null,
            "max_height": null,
            "max_width": null,
            "min_height": null,
            "min_width": null,
            "object_fit": null,
            "object_position": null,
            "order": null,
            "overflow": null,
            "overflow_x": null,
            "overflow_y": null,
            "padding": null,
            "right": null,
            "top": null,
            "visibility": null,
            "width": null
          }
        },
        "431312fa68dd44aab8258035d88e3de6": {
          "model_module": "@jupyter-widgets/base",
          "model_module_version": "1.2.0",
          "model_name": "LayoutModel",
          "state": {
            "_model_module": "@jupyter-widgets/base",
            "_model_module_version": "1.2.0",
            "_model_name": "LayoutModel",
            "_view_count": null,
            "_view_module": "@jupyter-widgets/base",
            "_view_module_version": "1.2.0",
            "_view_name": "LayoutView",
            "align_content": null,
            "align_items": null,
            "align_self": null,
            "border": null,
            "bottom": null,
            "display": null,
            "flex": null,
            "flex_flow": null,
            "grid_area": null,
            "grid_auto_columns": null,
            "grid_auto_flow": null,
            "grid_auto_rows": null,
            "grid_column": null,
            "grid_gap": null,
            "grid_row": null,
            "grid_template_areas": null,
            "grid_template_columns": null,
            "grid_template_rows": null,
            "height": null,
            "justify_content": null,
            "justify_items": null,
            "left": null,
            "margin": null,
            "max_height": null,
            "max_width": null,
            "min_height": null,
            "min_width": null,
            "object_fit": null,
            "object_position": null,
            "order": null,
            "overflow": null,
            "overflow_x": null,
            "overflow_y": null,
            "padding": null,
            "right": null,
            "top": null,
            "visibility": null,
            "width": null
          }
        },
        "46832268971a4dfcabb1de155710f030": {
          "model_module": "@jupyter-widgets/base",
          "model_module_version": "1.2.0",
          "model_name": "LayoutModel",
          "state": {
            "_model_module": "@jupyter-widgets/base",
            "_model_module_version": "1.2.0",
            "_model_name": "LayoutModel",
            "_view_count": null,
            "_view_module": "@jupyter-widgets/base",
            "_view_module_version": "1.2.0",
            "_view_name": "LayoutView",
            "align_content": null,
            "align_items": null,
            "align_self": null,
            "border": null,
            "bottom": null,
            "display": null,
            "flex": null,
            "flex_flow": null,
            "grid_area": null,
            "grid_auto_columns": null,
            "grid_auto_flow": null,
            "grid_auto_rows": null,
            "grid_column": null,
            "grid_gap": null,
            "grid_row": null,
            "grid_template_areas": null,
            "grid_template_columns": null,
            "grid_template_rows": null,
            "height": null,
            "justify_content": null,
            "justify_items": null,
            "left": null,
            "margin": null,
            "max_height": null,
            "max_width": null,
            "min_height": null,
            "min_width": null,
            "object_fit": null,
            "object_position": null,
            "order": null,
            "overflow": null,
            "overflow_x": null,
            "overflow_y": null,
            "padding": null,
            "right": null,
            "top": null,
            "visibility": null,
            "width": null
          }
        },
        "4deed007874e4b09b00bf9919007f659": {
          "model_module": "@jupyter-widgets/controls",
          "model_module_version": "1.5.0",
          "model_name": "DescriptionStyleModel",
          "state": {
            "_model_module": "@jupyter-widgets/controls",
            "_model_module_version": "1.5.0",
            "_model_name": "DescriptionStyleModel",
            "_view_count": null,
            "_view_module": "@jupyter-widgets/base",
            "_view_module_version": "1.2.0",
            "_view_name": "StyleView",
            "description_width": ""
          }
        },
        "4e6dbd815aac4e70b2ff4128c338ec06": {
          "model_module": "@jupyter-widgets/controls",
          "model_module_version": "1.5.0",
          "model_name": "HBoxModel",
          "state": {
            "_dom_classes": [],
            "_model_module": "@jupyter-widgets/controls",
            "_model_module_version": "1.5.0",
            "_model_name": "HBoxModel",
            "_view_count": null,
            "_view_module": "@jupyter-widgets/controls",
            "_view_module_version": "1.5.0",
            "_view_name": "HBoxView",
            "box_style": "",
            "children": [
              "IPY_MODEL_0e18a303435041cf8afe95a059d3b295",
              "IPY_MODEL_ceb2811f52d0452e8d44b1ca16fe8f35",
              "IPY_MODEL_685e99759eeb4330b769522374ba7079"
            ],
            "layout": "IPY_MODEL_ea835ee6e8b04529996abba049dafcca"
          }
        },
        "5b78d5b09d4b41699288f7d4178897b2": {
          "model_module": "@jupyter-widgets/controls",
          "model_module_version": "1.5.0",
          "model_name": "HTMLModel",
          "state": {
            "_dom_classes": [],
            "_model_module": "@jupyter-widgets/controls",
            "_model_module_version": "1.5.0",
            "_model_name": "HTMLModel",
            "_view_count": null,
            "_view_module": "@jupyter-widgets/controls",
            "_view_module_version": "1.5.0",
            "_view_name": "HTMLView",
            "description": "",
            "description_tooltip": null,
            "layout": "IPY_MODEL_87fabaac57a247e682d2ce721edc721a",
            "placeholder": "​",
            "style": "IPY_MODEL_70b51c9f80d14c738ed0f85f84c7e3ba",
            "value": "tokenizer.json: 100%"
          }
        },
        "627f161283864dc49e64ff5ef6eba683": {
          "model_module": "@jupyter-widgets/controls",
          "model_module_version": "1.5.0",
          "model_name": "FloatProgressModel",
          "state": {
            "_dom_classes": [],
            "_model_module": "@jupyter-widgets/controls",
            "_model_module_version": "1.5.0",
            "_model_name": "FloatProgressModel",
            "_view_count": null,
            "_view_module": "@jupyter-widgets/controls",
            "_view_module_version": "1.5.0",
            "_view_name": "ProgressView",
            "bar_style": "success",
            "description": "",
            "description_tooltip": null,
            "layout": "IPY_MODEL_906c85096ea24aafba7bcb00f1b9e9ad",
            "max": 542900336,
            "min": 0,
            "orientation": "horizontal",
            "style": "IPY_MODEL_1d37dba355ef49698e2f21f5c226423b",
            "value": 542900336
          }
        },
        "666aa4d8b6d346cbb61a1c0d8415ee3c": {
          "model_module": "@jupyter-widgets/base",
          "model_module_version": "1.2.0",
          "model_name": "LayoutModel",
          "state": {
            "_model_module": "@jupyter-widgets/base",
            "_model_module_version": "1.2.0",
            "_model_name": "LayoutModel",
            "_view_count": null,
            "_view_module": "@jupyter-widgets/base",
            "_view_module_version": "1.2.0",
            "_view_name": "LayoutView",
            "align_content": null,
            "align_items": null,
            "align_self": null,
            "border": null,
            "bottom": null,
            "display": null,
            "flex": null,
            "flex_flow": null,
            "grid_area": null,
            "grid_auto_columns": null,
            "grid_auto_flow": null,
            "grid_auto_rows": null,
            "grid_column": null,
            "grid_gap": null,
            "grid_row": null,
            "grid_template_areas": null,
            "grid_template_columns": null,
            "grid_template_rows": null,
            "height": null,
            "justify_content": null,
            "justify_items": null,
            "left": null,
            "margin": null,
            "max_height": null,
            "max_width": null,
            "min_height": null,
            "min_width": null,
            "object_fit": null,
            "object_position": null,
            "order": null,
            "overflow": null,
            "overflow_x": null,
            "overflow_y": null,
            "padding": null,
            "right": null,
            "top": null,
            "visibility": null,
            "width": null
          }
        },
        "685e99759eeb4330b769522374ba7079": {
          "model_module": "@jupyter-widgets/controls",
          "model_module_version": "1.5.0",
          "model_name": "HTMLModel",
          "state": {
            "_dom_classes": [],
            "_model_module": "@jupyter-widgets/controls",
            "_model_module_version": "1.5.0",
            "_model_name": "HTMLModel",
            "_view_count": null,
            "_view_module": "@jupyter-widgets/controls",
            "_view_module_version": "1.5.0",
            "_view_name": "HTMLView",
            "description": "",
            "description_tooltip": null,
            "layout": "IPY_MODEL_c5faf6672c014d1482093233ca24ad5c",
            "placeholder": "​",
            "style": "IPY_MODEL_db951eb9479a48e0aa876c51a621de77",
            "value": " 557/557 [00:00&lt;00:00, 34.6kB/s]"
          }
        },
        "69d5549b5f164250bd5ce336010f4bd8": {
          "model_module": "@jupyter-widgets/controls",
          "model_module_version": "1.5.0",
          "model_name": "ProgressStyleModel",
          "state": {
            "_model_module": "@jupyter-widgets/controls",
            "_model_module_version": "1.5.0",
            "_model_name": "ProgressStyleModel",
            "_view_count": null,
            "_view_module": "@jupyter-widgets/base",
            "_view_module_version": "1.2.0",
            "_view_name": "StyleView",
            "bar_color": null,
            "description_width": ""
          }
        },
        "6fe3f830e6764ab9b5115d2578606018": {
          "model_module": "@jupyter-widgets/controls",
          "model_module_version": "1.5.0",
          "model_name": "HBoxModel",
          "state": {
            "_dom_classes": [],
            "_model_module": "@jupyter-widgets/controls",
            "_model_module_version": "1.5.0",
            "_model_name": "HBoxModel",
            "_view_count": null,
            "_view_module": "@jupyter-widgets/controls",
            "_view_module_version": "1.5.0",
            "_view_name": "HBoxView",
            "box_style": "",
            "children": [
              "IPY_MODEL_8e1c9d0d58324186828def14c7e8b4e1",
              "IPY_MODEL_1f0b3f5d4f024b769afac7d9817df1f6",
              "IPY_MODEL_1c6243ea0acb48268e513dbeb05c79e6"
            ],
            "layout": "IPY_MODEL_0b1e809136984f97ad63823bf8030cc9"
          }
        },
        "70b51c9f80d14c738ed0f85f84c7e3ba": {
          "model_module": "@jupyter-widgets/controls",
          "model_module_version": "1.5.0",
          "model_name": "DescriptionStyleModel",
          "state": {
            "_model_module": "@jupyter-widgets/controls",
            "_model_module_version": "1.5.0",
            "_model_name": "DescriptionStyleModel",
            "_view_count": null,
            "_view_module": "@jupyter-widgets/base",
            "_view_module_version": "1.2.0",
            "_view_name": "StyleView",
            "description_width": ""
          }
        },
        "757012933c374058a2bc1333a8685dce": {
          "model_module": "@jupyter-widgets/controls",
          "model_module_version": "1.5.0",
          "model_name": "HBoxModel",
          "state": {
            "_dom_classes": [],
            "_model_module": "@jupyter-widgets/controls",
            "_model_module_version": "1.5.0",
            "_model_name": "HBoxModel",
            "_view_count": null,
            "_view_module": "@jupyter-widgets/controls",
            "_view_module_version": "1.5.0",
            "_view_name": "HBoxView",
            "box_style": "",
            "children": [
              "IPY_MODEL_80e6ed25716b44a39268bb37c3dc6e08",
              "IPY_MODEL_bf8f3d0b910340df9de75d2558cd0fc9",
              "IPY_MODEL_01baf1780de1427b95b4f8346505f5eb"
            ],
            "layout": "IPY_MODEL_7c2d55f978d541029f1f8e22909d46c0"
          }
        },
        "7c2d55f978d541029f1f8e22909d46c0": {
          "model_module": "@jupyter-widgets/base",
          "model_module_version": "1.2.0",
          "model_name": "LayoutModel",
          "state": {
            "_model_module": "@jupyter-widgets/base",
            "_model_module_version": "1.2.0",
            "_model_name": "LayoutModel",
            "_view_count": null,
            "_view_module": "@jupyter-widgets/base",
            "_view_module_version": "1.2.0",
            "_view_name": "LayoutView",
            "align_content": null,
            "align_items": null,
            "align_self": null,
            "border": null,
            "bottom": null,
            "display": null,
            "flex": null,
            "flex_flow": null,
            "grid_area": null,
            "grid_auto_columns": null,
            "grid_auto_flow": null,
            "grid_auto_rows": null,
            "grid_column": null,
            "grid_gap": null,
            "grid_row": null,
            "grid_template_areas": null,
            "grid_template_columns": null,
            "grid_template_rows": null,
            "height": null,
            "justify_content": null,
            "justify_items": null,
            "left": null,
            "margin": null,
            "max_height": null,
            "max_width": null,
            "min_height": null,
            "min_width": null,
            "object_fit": null,
            "object_position": null,
            "order": null,
            "overflow": null,
            "overflow_x": null,
            "overflow_y": null,
            "padding": null,
            "right": null,
            "top": null,
            "visibility": null,
            "width": null
          }
        },
        "7d352d49cb304fe1875d0e6efc1a6860": {
          "model_module": "@jupyter-widgets/controls",
          "model_module_version": "1.5.0",
          "model_name": "DescriptionStyleModel",
          "state": {
            "_model_module": "@jupyter-widgets/controls",
            "_model_module_version": "1.5.0",
            "_model_name": "DescriptionStyleModel",
            "_view_count": null,
            "_view_module": "@jupyter-widgets/base",
            "_view_module_version": "1.2.0",
            "_view_name": "StyleView",
            "description_width": ""
          }
        },
        "80e6ed25716b44a39268bb37c3dc6e08": {
          "model_module": "@jupyter-widgets/controls",
          "model_module_version": "1.5.0",
          "model_name": "HTMLModel",
          "state": {
            "_dom_classes": [],
            "_model_module": "@jupyter-widgets/controls",
            "_model_module_version": "1.5.0",
            "_model_name": "HTMLModel",
            "_view_count": null,
            "_view_module": "@jupyter-widgets/controls",
            "_view_module_version": "1.5.0",
            "_view_name": "HTMLView",
            "description": "",
            "description_tooltip": null,
            "layout": "IPY_MODEL_ae2a38218772454abf1bc4b48f641559",
            "placeholder": "​",
            "style": "IPY_MODEL_0b55647c491c4037ae8cbf39a288c1c1",
            "value": "vocab.txt: 100%"
          }
        },
        "87fabaac57a247e682d2ce721edc721a": {
          "model_module": "@jupyter-widgets/base",
          "model_module_version": "1.2.0",
          "model_name": "LayoutModel",
          "state": {
            "_model_module": "@jupyter-widgets/base",
            "_model_module_version": "1.2.0",
            "_model_name": "LayoutModel",
            "_view_count": null,
            "_view_module": "@jupyter-widgets/base",
            "_view_module_version": "1.2.0",
            "_view_name": "LayoutView",
            "align_content": null,
            "align_items": null,
            "align_self": null,
            "border": null,
            "bottom": null,
            "display": null,
            "flex": null,
            "flex_flow": null,
            "grid_area": null,
            "grid_auto_columns": null,
            "grid_auto_flow": null,
            "grid_auto_rows": null,
            "grid_column": null,
            "grid_gap": null,
            "grid_row": null,
            "grid_template_areas": null,
            "grid_template_columns": null,
            "grid_template_rows": null,
            "height": null,
            "justify_content": null,
            "justify_items": null,
            "left": null,
            "margin": null,
            "max_height": null,
            "max_width": null,
            "min_height": null,
            "min_width": null,
            "object_fit": null,
            "object_position": null,
            "order": null,
            "overflow": null,
            "overflow_x": null,
            "overflow_y": null,
            "padding": null,
            "right": null,
            "top": null,
            "visibility": null,
            "width": null
          }
        },
        "8e1c9d0d58324186828def14c7e8b4e1": {
          "model_module": "@jupyter-widgets/controls",
          "model_module_version": "1.5.0",
          "model_name": "HTMLModel",
          "state": {
            "_dom_classes": [],
            "_model_module": "@jupyter-widgets/controls",
            "_model_module_version": "1.5.0",
            "_model_name": "HTMLModel",
            "_view_count": null,
            "_view_module": "@jupyter-widgets/controls",
            "_view_module_version": "1.5.0",
            "_view_name": "HTMLView",
            "description": "",
            "description_tooltip": null,
            "layout": "IPY_MODEL_37dfd3f748864fa1bd1c4b31295831d7",
            "placeholder": "​",
            "style": "IPY_MODEL_2f79e49f1fb9444ea7d8affd53ec8cdb",
            "value": "pytorch_model.bin: 100%"
          }
        },
        "906c85096ea24aafba7bcb00f1b9e9ad": {
          "model_module": "@jupyter-widgets/base",
          "model_module_version": "1.2.0",
          "model_name": "LayoutModel",
          "state": {
            "_model_module": "@jupyter-widgets/base",
            "_model_module_version": "1.2.0",
            "_model_name": "LayoutModel",
            "_view_count": null,
            "_view_module": "@jupyter-widgets/base",
            "_view_module_version": "1.2.0",
            "_view_name": "LayoutView",
            "align_content": null,
            "align_items": null,
            "align_self": null,
            "border": null,
            "bottom": null,
            "display": null,
            "flex": null,
            "flex_flow": null,
            "grid_area": null,
            "grid_auto_columns": null,
            "grid_auto_flow": null,
            "grid_auto_rows": null,
            "grid_column": null,
            "grid_gap": null,
            "grid_row": null,
            "grid_template_areas": null,
            "grid_template_columns": null,
            "grid_template_rows": null,
            "height": null,
            "justify_content": null,
            "justify_items": null,
            "left": null,
            "margin": null,
            "max_height": null,
            "max_width": null,
            "min_height": null,
            "min_width": null,
            "object_fit": null,
            "object_position": null,
            "order": null,
            "overflow": null,
            "overflow_x": null,
            "overflow_y": null,
            "padding": null,
            "right": null,
            "top": null,
            "visibility": null,
            "width": null
          }
        },
        "91a8980ed7534b1ca592e0c43320cb6f": {
          "model_module": "@jupyter-widgets/base",
          "model_module_version": "1.2.0",
          "model_name": "LayoutModel",
          "state": {
            "_model_module": "@jupyter-widgets/base",
            "_model_module_version": "1.2.0",
            "_model_name": "LayoutModel",
            "_view_count": null,
            "_view_module": "@jupyter-widgets/base",
            "_view_module_version": "1.2.0",
            "_view_name": "LayoutView",
            "align_content": null,
            "align_items": null,
            "align_self": null,
            "border": null,
            "bottom": null,
            "display": null,
            "flex": null,
            "flex_flow": null,
            "grid_area": null,
            "grid_auto_columns": null,
            "grid_auto_flow": null,
            "grid_auto_rows": null,
            "grid_column": null,
            "grid_gap": null,
            "grid_row": null,
            "grid_template_areas": null,
            "grid_template_columns": null,
            "grid_template_rows": null,
            "height": null,
            "justify_content": null,
            "justify_items": null,
            "left": null,
            "margin": null,
            "max_height": null,
            "max_width": null,
            "min_height": null,
            "min_width": null,
            "object_fit": null,
            "object_position": null,
            "order": null,
            "overflow": null,
            "overflow_x": null,
            "overflow_y": null,
            "padding": null,
            "right": null,
            "top": null,
            "visibility": null,
            "width": null
          }
        },
        "9b310132dbdf4b758a8daf9cb2e916a5": {
          "model_module": "@jupyter-widgets/base",
          "model_module_version": "1.2.0",
          "model_name": "LayoutModel",
          "state": {
            "_model_module": "@jupyter-widgets/base",
            "_model_module_version": "1.2.0",
            "_model_name": "LayoutModel",
            "_view_count": null,
            "_view_module": "@jupyter-widgets/base",
            "_view_module_version": "1.2.0",
            "_view_name": "LayoutView",
            "align_content": null,
            "align_items": null,
            "align_self": null,
            "border": null,
            "bottom": null,
            "display": null,
            "flex": null,
            "flex_flow": null,
            "grid_area": null,
            "grid_auto_columns": null,
            "grid_auto_flow": null,
            "grid_auto_rows": null,
            "grid_column": null,
            "grid_gap": null,
            "grid_row": null,
            "grid_template_areas": null,
            "grid_template_columns": null,
            "grid_template_rows": null,
            "height": null,
            "justify_content": null,
            "justify_items": null,
            "left": null,
            "margin": null,
            "max_height": null,
            "max_width": null,
            "min_height": null,
            "min_width": null,
            "object_fit": null,
            "object_position": null,
            "order": null,
            "overflow": null,
            "overflow_x": null,
            "overflow_y": null,
            "padding": null,
            "right": null,
            "top": null,
            "visibility": null,
            "width": null
          }
        },
        "a020bf1ca429410cab74ab9dd3e7f3cf": {
          "model_module": "@jupyter-widgets/base",
          "model_module_version": "1.2.0",
          "model_name": "LayoutModel",
          "state": {
            "_model_module": "@jupyter-widgets/base",
            "_model_module_version": "1.2.0",
            "_model_name": "LayoutModel",
            "_view_count": null,
            "_view_module": "@jupyter-widgets/base",
            "_view_module_version": "1.2.0",
            "_view_name": "LayoutView",
            "align_content": null,
            "align_items": null,
            "align_self": null,
            "border": null,
            "bottom": null,
            "display": null,
            "flex": null,
            "flex_flow": null,
            "grid_area": null,
            "grid_auto_columns": null,
            "grid_auto_flow": null,
            "grid_auto_rows": null,
            "grid_column": null,
            "grid_gap": null,
            "grid_row": null,
            "grid_template_areas": null,
            "grid_template_columns": null,
            "grid_template_rows": null,
            "height": null,
            "justify_content": null,
            "justify_items": null,
            "left": null,
            "margin": null,
            "max_height": null,
            "max_width": null,
            "min_height": null,
            "min_width": null,
            "object_fit": null,
            "object_position": null,
            "order": null,
            "overflow": null,
            "overflow_x": null,
            "overflow_y": null,
            "padding": null,
            "right": null,
            "top": null,
            "visibility": null,
            "width": null
          }
        },
        "a77e97bc1e474e4d8f4e55b56eecb4a2": {
          "model_module": "@jupyter-widgets/controls",
          "model_module_version": "1.5.0",
          "model_name": "DescriptionStyleModel",
          "state": {
            "_model_module": "@jupyter-widgets/controls",
            "_model_module_version": "1.5.0",
            "_model_name": "DescriptionStyleModel",
            "_view_count": null,
            "_view_module": "@jupyter-widgets/base",
            "_view_module_version": "1.2.0",
            "_view_name": "StyleView",
            "description_width": ""
          }
        },
        "a8933639c8834f78a263f55df349b38e": {
          "model_module": "@jupyter-widgets/controls",
          "model_module_version": "1.5.0",
          "model_name": "HTMLModel",
          "state": {
            "_dom_classes": [],
            "_model_module": "@jupyter-widgets/controls",
            "_model_module_version": "1.5.0",
            "_model_name": "HTMLModel",
            "_view_count": null,
            "_view_module": "@jupyter-widgets/controls",
            "_view_module_version": "1.5.0",
            "_view_name": "HTMLView",
            "description": "",
            "description_tooltip": null,
            "layout": "IPY_MODEL_42543196f6684837910d4a6f7e11b0e9",
            "placeholder": "​",
            "style": "IPY_MODEL_d576e791abf646f38773ef5f69bdcc36",
            "value": " 543M/543M [00:11&lt;00:00, 64.5MB/s]"
          }
        },
        "aa7a2eb488054a329ca0318c4b2805e0": {
          "model_module": "@jupyter-widgets/controls",
          "model_module_version": "1.5.0",
          "model_name": "HBoxModel",
          "state": {
            "_dom_classes": [],
            "_model_module": "@jupyter-widgets/controls",
            "_model_module_version": "1.5.0",
            "_model_name": "HBoxModel",
            "_view_count": null,
            "_view_module": "@jupyter-widgets/controls",
            "_view_module_version": "1.5.0",
            "_view_name": "HBoxView",
            "box_style": "",
            "children": [
              "IPY_MODEL_5b78d5b09d4b41699288f7d4178897b2",
              "IPY_MODEL_b7392f221a5b4721837904a9d8abae28",
              "IPY_MODEL_ebba23399b6349c082bd80fcb2e1e00a"
            ],
            "layout": "IPY_MODEL_9b310132dbdf4b758a8daf9cb2e916a5"
          }
        },
        "ae2a38218772454abf1bc4b48f641559": {
          "model_module": "@jupyter-widgets/base",
          "model_module_version": "1.2.0",
          "model_name": "LayoutModel",
          "state": {
            "_model_module": "@jupyter-widgets/base",
            "_model_module_version": "1.2.0",
            "_model_name": "LayoutModel",
            "_view_count": null,
            "_view_module": "@jupyter-widgets/base",
            "_view_module_version": "1.2.0",
            "_view_name": "LayoutView",
            "align_content": null,
            "align_items": null,
            "align_self": null,
            "border": null,
            "bottom": null,
            "display": null,
            "flex": null,
            "flex_flow": null,
            "grid_area": null,
            "grid_auto_columns": null,
            "grid_auto_flow": null,
            "grid_auto_rows": null,
            "grid_column": null,
            "grid_gap": null,
            "grid_row": null,
            "grid_template_areas": null,
            "grid_template_columns": null,
            "grid_template_rows": null,
            "height": null,
            "justify_content": null,
            "justify_items": null,
            "left": null,
            "margin": null,
            "max_height": null,
            "max_width": null,
            "min_height": null,
            "min_width": null,
            "object_fit": null,
            "object_position": null,
            "order": null,
            "overflow": null,
            "overflow_x": null,
            "overflow_y": null,
            "padding": null,
            "right": null,
            "top": null,
            "visibility": null,
            "width": null
          }
        },
        "b64e824871a9463d9d035729c250dfc3": {
          "model_module": "@jupyter-widgets/base",
          "model_module_version": "1.2.0",
          "model_name": "LayoutModel",
          "state": {
            "_model_module": "@jupyter-widgets/base",
            "_model_module_version": "1.2.0",
            "_model_name": "LayoutModel",
            "_view_count": null,
            "_view_module": "@jupyter-widgets/base",
            "_view_module_version": "1.2.0",
            "_view_name": "LayoutView",
            "align_content": null,
            "align_items": null,
            "align_self": null,
            "border": null,
            "bottom": null,
            "display": null,
            "flex": null,
            "flex_flow": null,
            "grid_area": null,
            "grid_auto_columns": null,
            "grid_auto_flow": null,
            "grid_auto_rows": null,
            "grid_column": null,
            "grid_gap": null,
            "grid_row": null,
            "grid_template_areas": null,
            "grid_template_columns": null,
            "grid_template_rows": null,
            "height": null,
            "justify_content": null,
            "justify_items": null,
            "left": null,
            "margin": null,
            "max_height": null,
            "max_width": null,
            "min_height": null,
            "min_width": null,
            "object_fit": null,
            "object_position": null,
            "order": null,
            "overflow": null,
            "overflow_x": null,
            "overflow_y": null,
            "padding": null,
            "right": null,
            "top": null,
            "visibility": null,
            "width": null
          }
        },
        "b69ad8434b2c4e5eb70247ebef785824": {
          "model_module": "@jupyter-widgets/controls",
          "model_module_version": "1.5.0",
          "model_name": "ProgressStyleModel",
          "state": {
            "_model_module": "@jupyter-widgets/controls",
            "_model_module_version": "1.5.0",
            "_model_name": "ProgressStyleModel",
            "_view_count": null,
            "_view_module": "@jupyter-widgets/base",
            "_view_module_version": "1.2.0",
            "_view_name": "StyleView",
            "bar_color": null,
            "description_width": ""
          }
        },
        "b7392f221a5b4721837904a9d8abae28": {
          "model_module": "@jupyter-widgets/controls",
          "model_module_version": "1.5.0",
          "model_name": "FloatProgressModel",
          "state": {
            "_dom_classes": [],
            "_model_module": "@jupyter-widgets/controls",
            "_model_module_version": "1.5.0",
            "_model_name": "FloatProgressModel",
            "_view_count": null,
            "_view_module": "@jupyter-widgets/controls",
            "_view_module_version": "1.5.0",
            "_view_name": "ProgressView",
            "bar_style": "success",
            "description": "",
            "description_tooltip": null,
            "layout": "IPY_MODEL_d794e533f0524df88759347e2b7edcaa",
            "max": 3132320,
            "min": 0,
            "orientation": "horizontal",
            "style": "IPY_MODEL_c33b9b3726c04fe6a197b4a46f934d6c",
            "value": 3132320
          }
        },
        "bdd7719b7cbc4c3e94affacd7df841d1": {
          "model_module": "@jupyter-widgets/base",
          "model_module_version": "1.2.0",
          "model_name": "LayoutModel",
          "state": {
            "_model_module": "@jupyter-widgets/base",
            "_model_module_version": "1.2.0",
            "_model_name": "LayoutModel",
            "_view_count": null,
            "_view_module": "@jupyter-widgets/base",
            "_view_module_version": "1.2.0",
            "_view_name": "LayoutView",
            "align_content": null,
            "align_items": null,
            "align_self": null,
            "border": null,
            "bottom": null,
            "display": null,
            "flex": null,
            "flex_flow": null,
            "grid_area": null,
            "grid_auto_columns": null,
            "grid_auto_flow": null,
            "grid_auto_rows": null,
            "grid_column": null,
            "grid_gap": null,
            "grid_row": null,
            "grid_template_areas": null,
            "grid_template_columns": null,
            "grid_template_rows": null,
            "height": null,
            "justify_content": null,
            "justify_items": null,
            "left": null,
            "margin": null,
            "max_height": null,
            "max_width": null,
            "min_height": null,
            "min_width": null,
            "object_fit": null,
            "object_position": null,
            "order": null,
            "overflow": null,
            "overflow_x": null,
            "overflow_y": null,
            "padding": null,
            "right": null,
            "top": null,
            "visibility": null,
            "width": null
          }
        },
        "bf8f3d0b910340df9de75d2558cd0fc9": {
          "model_module": "@jupyter-widgets/controls",
          "model_module_version": "1.5.0",
          "model_name": "FloatProgressModel",
          "state": {
            "_dom_classes": [],
            "_model_module": "@jupyter-widgets/controls",
            "_model_module_version": "1.5.0",
            "_model_name": "FloatProgressModel",
            "_view_count": null,
            "_view_module": "@jupyter-widgets/controls",
            "_view_module_version": "1.5.0",
            "_view_name": "ProgressView",
            "bar_style": "success",
            "description": "",
            "description_tooltip": null,
            "layout": "IPY_MODEL_0d9cbdb4edc4400aad9403d03c4bd4b5",
            "max": 895321,
            "min": 0,
            "orientation": "horizontal",
            "style": "IPY_MODEL_69d5549b5f164250bd5ce336010f4bd8",
            "value": 895321
          }
        },
        "bfde46b7c17c48df9be91330323cbcab": {
          "model_module": "@jupyter-widgets/controls",
          "model_module_version": "1.5.0",
          "model_name": "DescriptionStyleModel",
          "state": {
            "_model_module": "@jupyter-widgets/controls",
            "_model_module_version": "1.5.0",
            "_model_name": "DescriptionStyleModel",
            "_view_count": null,
            "_view_module": "@jupyter-widgets/base",
            "_view_module_version": "1.2.0",
            "_view_name": "StyleView",
            "description_width": ""
          }
        },
        "c33b9b3726c04fe6a197b4a46f934d6c": {
          "model_module": "@jupyter-widgets/controls",
          "model_module_version": "1.5.0",
          "model_name": "ProgressStyleModel",
          "state": {
            "_model_module": "@jupyter-widgets/controls",
            "_model_module_version": "1.5.0",
            "_model_name": "ProgressStyleModel",
            "_view_count": null,
            "_view_module": "@jupyter-widgets/base",
            "_view_module_version": "1.2.0",
            "_view_name": "StyleView",
            "bar_color": null,
            "description_width": ""
          }
        },
        "c5faf6672c014d1482093233ca24ad5c": {
          "model_module": "@jupyter-widgets/base",
          "model_module_version": "1.2.0",
          "model_name": "LayoutModel",
          "state": {
            "_model_module": "@jupyter-widgets/base",
            "_model_module_version": "1.2.0",
            "_model_name": "LayoutModel",
            "_view_count": null,
            "_view_module": "@jupyter-widgets/base",
            "_view_module_version": "1.2.0",
            "_view_name": "LayoutView",
            "align_content": null,
            "align_items": null,
            "align_self": null,
            "border": null,
            "bottom": null,
            "display": null,
            "flex": null,
            "flex_flow": null,
            "grid_area": null,
            "grid_auto_columns": null,
            "grid_auto_flow": null,
            "grid_auto_rows": null,
            "grid_column": null,
            "grid_gap": null,
            "grid_row": null,
            "grid_template_areas": null,
            "grid_template_columns": null,
            "grid_template_rows": null,
            "height": null,
            "justify_content": null,
            "justify_items": null,
            "left": null,
            "margin": null,
            "max_height": null,
            "max_width": null,
            "min_height": null,
            "min_width": null,
            "object_fit": null,
            "object_position": null,
            "order": null,
            "overflow": null,
            "overflow_x": null,
            "overflow_y": null,
            "padding": null,
            "right": null,
            "top": null,
            "visibility": null,
            "width": null
          }
        },
        "c617615ca1b34b88aa932dacfa9f42c1": {
          "model_module": "@jupyter-widgets/controls",
          "model_module_version": "1.5.0",
          "model_name": "HTMLModel",
          "state": {
            "_dom_classes": [],
            "_model_module": "@jupyter-widgets/controls",
            "_model_module_version": "1.5.0",
            "_model_name": "HTMLModel",
            "_view_count": null,
            "_view_module": "@jupyter-widgets/controls",
            "_view_module_version": "1.5.0",
            "_view_name": "HTMLView",
            "description": "",
            "description_tooltip": null,
            "layout": "IPY_MODEL_431312fa68dd44aab8258035d88e3de6",
            "placeholder": "​",
            "style": "IPY_MODEL_2b67bbd79a294459bdc7cda8174d03d5",
            "value": "model.safetensors: 100%"
          }
        },
        "c996a0bf8ed143919427d15c29ec4717": {
          "model_module": "@jupyter-widgets/base",
          "model_module_version": "1.2.0",
          "model_name": "LayoutModel",
          "state": {
            "_model_module": "@jupyter-widgets/base",
            "_model_module_version": "1.2.0",
            "_model_name": "LayoutModel",
            "_view_count": null,
            "_view_module": "@jupyter-widgets/base",
            "_view_module_version": "1.2.0",
            "_view_name": "LayoutView",
            "align_content": null,
            "align_items": null,
            "align_self": null,
            "border": null,
            "bottom": null,
            "display": null,
            "flex": null,
            "flex_flow": null,
            "grid_area": null,
            "grid_auto_columns": null,
            "grid_auto_flow": null,
            "grid_auto_rows": null,
            "grid_column": null,
            "grid_gap": null,
            "grid_row": null,
            "grid_template_areas": null,
            "grid_template_columns": null,
            "grid_template_rows": null,
            "height": null,
            "justify_content": null,
            "justify_items": null,
            "left": null,
            "margin": null,
            "max_height": null,
            "max_width": null,
            "min_height": null,
            "min_width": null,
            "object_fit": null,
            "object_position": null,
            "order": null,
            "overflow": null,
            "overflow_x": null,
            "overflow_y": null,
            "padding": null,
            "right": null,
            "top": null,
            "visibility": null,
            "width": null
          }
        },
        "cbf5192780ed46dc8fff9f3278f94ace": {
          "model_module": "@jupyter-widgets/controls",
          "model_module_version": "1.5.0",
          "model_name": "ProgressStyleModel",
          "state": {
            "_model_module": "@jupyter-widgets/controls",
            "_model_module_version": "1.5.0",
            "_model_name": "ProgressStyleModel",
            "_view_count": null,
            "_view_module": "@jupyter-widgets/base",
            "_view_module_version": "1.2.0",
            "_view_name": "StyleView",
            "bar_color": null,
            "description_width": ""
          }
        },
        "ceb2811f52d0452e8d44b1ca16fe8f35": {
          "model_module": "@jupyter-widgets/controls",
          "model_module_version": "1.5.0",
          "model_name": "FloatProgressModel",
          "state": {
            "_dom_classes": [],
            "_model_module": "@jupyter-widgets/controls",
            "_model_module_version": "1.5.0",
            "_model_name": "FloatProgressModel",
            "_view_count": null,
            "_view_module": "@jupyter-widgets/controls",
            "_view_module_version": "1.5.0",
            "_view_name": "ProgressView",
            "bar_style": "success",
            "description": "",
            "description_tooltip": null,
            "layout": "IPY_MODEL_1660157724e347df89ce822f0bda10f2",
            "max": 557,
            "min": 0,
            "orientation": "horizontal",
            "style": "IPY_MODEL_b69ad8434b2c4e5eb70247ebef785824",
            "value": 557
          }
        },
        "d576e791abf646f38773ef5f69bdcc36": {
          "model_module": "@jupyter-widgets/controls",
          "model_module_version": "1.5.0",
          "model_name": "DescriptionStyleModel",
          "state": {
            "_model_module": "@jupyter-widgets/controls",
            "_model_module_version": "1.5.0",
            "_model_name": "DescriptionStyleModel",
            "_view_count": null,
            "_view_module": "@jupyter-widgets/base",
            "_view_module_version": "1.2.0",
            "_view_name": "StyleView",
            "description_width": ""
          }
        },
        "d794e533f0524df88759347e2b7edcaa": {
          "model_module": "@jupyter-widgets/base",
          "model_module_version": "1.2.0",
          "model_name": "LayoutModel",
          "state": {
            "_model_module": "@jupyter-widgets/base",
            "_model_module_version": "1.2.0",
            "_model_name": "LayoutModel",
            "_view_count": null,
            "_view_module": "@jupyter-widgets/base",
            "_view_module_version": "1.2.0",
            "_view_name": "LayoutView",
            "align_content": null,
            "align_items": null,
            "align_self": null,
            "border": null,
            "bottom": null,
            "display": null,
            "flex": null,
            "flex_flow": null,
            "grid_area": null,
            "grid_auto_columns": null,
            "grid_auto_flow": null,
            "grid_auto_rows": null,
            "grid_column": null,
            "grid_gap": null,
            "grid_row": null,
            "grid_template_areas": null,
            "grid_template_columns": null,
            "grid_template_rows": null,
            "height": null,
            "justify_content": null,
            "justify_items": null,
            "left": null,
            "margin": null,
            "max_height": null,
            "max_width": null,
            "min_height": null,
            "min_width": null,
            "object_fit": null,
            "object_position": null,
            "order": null,
            "overflow": null,
            "overflow_x": null,
            "overflow_y": null,
            "padding": null,
            "right": null,
            "top": null,
            "visibility": null,
            "width": null
          }
        },
        "db951eb9479a48e0aa876c51a621de77": {
          "model_module": "@jupyter-widgets/controls",
          "model_module_version": "1.5.0",
          "model_name": "DescriptionStyleModel",
          "state": {
            "_model_module": "@jupyter-widgets/controls",
            "_model_module_version": "1.5.0",
            "_model_name": "DescriptionStyleModel",
            "_view_count": null,
            "_view_module": "@jupyter-widgets/base",
            "_view_module_version": "1.2.0",
            "_view_name": "StyleView",
            "description_width": ""
          }
        },
        "ddb6576d0c084444be2aadbe29078da9": {
          "model_module": "@jupyter-widgets/controls",
          "model_module_version": "1.5.0",
          "model_name": "HTMLModel",
          "state": {
            "_dom_classes": [],
            "_model_module": "@jupyter-widgets/controls",
            "_model_module_version": "1.5.0",
            "_model_name": "HTMLModel",
            "_view_count": null,
            "_view_module": "@jupyter-widgets/controls",
            "_view_module_version": "1.5.0",
            "_view_name": "HTMLView",
            "description": "",
            "description_tooltip": null,
            "layout": "IPY_MODEL_c996a0bf8ed143919427d15c29ec4717",
            "placeholder": "​",
            "style": "IPY_MODEL_7d352d49cb304fe1875d0e6efc1a6860",
            "value": " 1.14M/1.14M [00:00&lt;00:00, 31.2MB/s]"
          }
        },
        "ea835ee6e8b04529996abba049dafcca": {
          "model_module": "@jupyter-widgets/base",
          "model_module_version": "1.2.0",
          "model_name": "LayoutModel",
          "state": {
            "_model_module": "@jupyter-widgets/base",
            "_model_module_version": "1.2.0",
            "_model_name": "LayoutModel",
            "_view_count": null,
            "_view_module": "@jupyter-widgets/base",
            "_view_module_version": "1.2.0",
            "_view_name": "LayoutView",
            "align_content": null,
            "align_items": null,
            "align_self": null,
            "border": null,
            "bottom": null,
            "display": null,
            "flex": null,
            "flex_flow": null,
            "grid_area": null,
            "grid_auto_columns": null,
            "grid_auto_flow": null,
            "grid_auto_rows": null,
            "grid_column": null,
            "grid_gap": null,
            "grid_row": null,
            "grid_template_areas": null,
            "grid_template_columns": null,
            "grid_template_rows": null,
            "height": null,
            "justify_content": null,
            "justify_items": null,
            "left": null,
            "margin": null,
            "max_height": null,
            "max_width": null,
            "min_height": null,
            "min_width": null,
            "object_fit": null,
            "object_position": null,
            "order": null,
            "overflow": null,
            "overflow_x": null,
            "overflow_y": null,
            "padding": null,
            "right": null,
            "top": null,
            "visibility": null,
            "width": null
          }
        },
        "ebba23399b6349c082bd80fcb2e1e00a": {
          "model_module": "@jupyter-widgets/controls",
          "model_module_version": "1.5.0",
          "model_name": "HTMLModel",
          "state": {
            "_dom_classes": [],
            "_model_module": "@jupyter-widgets/controls",
            "_model_module_version": "1.5.0",
            "_model_name": "HTMLModel",
            "_view_count": null,
            "_view_module": "@jupyter-widgets/controls",
            "_view_module_version": "1.5.0",
            "_view_name": "HTMLView",
            "description": "",
            "description_tooltip": null,
            "layout": "IPY_MODEL_a020bf1ca429410cab74ab9dd3e7f3cf",
            "placeholder": "​",
            "style": "IPY_MODEL_bfde46b7c17c48df9be91330323cbcab",
            "value": " 3.13M/3.13M [00:00&lt;00:00, 70.0MB/s]"
          }
        },
        "ece3277825504bc4a6c5dce3380604e3": {
          "model_module": "@jupyter-widgets/controls",
          "model_module_version": "1.5.0",
          "model_name": "HTMLModel",
          "state": {
            "_dom_classes": [],
            "_model_module": "@jupyter-widgets/controls",
            "_model_module_version": "1.5.0",
            "_model_name": "HTMLModel",
            "_view_count": null,
            "_view_module": "@jupyter-widgets/controls",
            "_view_module_version": "1.5.0",
            "_view_name": "HTMLView",
            "description": "",
            "description_tooltip": null,
            "layout": "IPY_MODEL_91a8980ed7534b1ca592e0c43320cb6f",
            "placeholder": "​",
            "style": "IPY_MODEL_4deed007874e4b09b00bf9919007f659",
            "value": "bpe.codes: 100%"
          }
        },
        "f2ca5833db3d47ed9a5c7f4a863c8b55": {
          "model_module": "@jupyter-widgets/controls",
          "model_module_version": "1.5.0",
          "model_name": "ProgressStyleModel",
          "state": {
            "_model_module": "@jupyter-widgets/controls",
            "_model_module_version": "1.5.0",
            "_model_name": "ProgressStyleModel",
            "_view_count": null,
            "_view_module": "@jupyter-widgets/base",
            "_view_module_version": "1.2.0",
            "_view_name": "StyleView",
            "bar_color": null,
            "description_width": ""
          }
        },
        "f86b11dce48040c7bd58aaa265af9b3d": {
          "model_module": "@jupyter-widgets/controls",
          "model_module_version": "1.5.0",
          "model_name": "HBoxModel",
          "state": {
            "_dom_classes": [],
            "_model_module": "@jupyter-widgets/controls",
            "_model_module_version": "1.5.0",
            "_model_name": "HBoxModel",
            "_view_count": null,
            "_view_module": "@jupyter-widgets/controls",
            "_view_module_version": "1.5.0",
            "_view_name": "HBoxView",
            "box_style": "",
            "children": [
              "IPY_MODEL_ece3277825504bc4a6c5dce3380604e3",
              "IPY_MODEL_34e46ff8097e46e79d96325b57a56fe7",
              "IPY_MODEL_ddb6576d0c084444be2aadbe29078da9"
            ],
            "layout": "IPY_MODEL_bdd7719b7cbc4c3e94affacd7df841d1"
          }
        },
        "f8e14b8738d74d7092c06a244bca2614": {
          "model_module": "@jupyter-widgets/base",
          "model_module_version": "1.2.0",
          "model_name": "LayoutModel",
          "state": {
            "_model_module": "@jupyter-widgets/base",
            "_model_module_version": "1.2.0",
            "_model_name": "LayoutModel",
            "_view_count": null,
            "_view_module": "@jupyter-widgets/base",
            "_view_module_version": "1.2.0",
            "_view_name": "LayoutView",
            "align_content": null,
            "align_items": null,
            "align_self": null,
            "border": null,
            "bottom": null,
            "display": null,
            "flex": null,
            "flex_flow": null,
            "grid_area": null,
            "grid_auto_columns": null,
            "grid_auto_flow": null,
            "grid_auto_rows": null,
            "grid_column": null,
            "grid_gap": null,
            "grid_row": null,
            "grid_template_areas": null,
            "grid_template_columns": null,
            "grid_template_rows": null,
            "height": null,
            "justify_content": null,
            "justify_items": null,
            "left": null,
            "margin": null,
            "max_height": null,
            "max_width": null,
            "min_height": null,
            "min_width": null,
            "object_fit": null,
            "object_position": null,
            "order": null,
            "overflow": null,
            "overflow_x": null,
            "overflow_y": null,
            "padding": null,
            "right": null,
            "top": null,
            "visibility": null,
            "width": null
          }
        }
      }
    }
  },
  "nbformat": 4,
  "nbformat_minor": 0
}

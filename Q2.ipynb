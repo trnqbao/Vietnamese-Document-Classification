{
  "nbformat": 4,
  "nbformat_minor": 0,
  "metadata": {
    "colab": {
      "provenance": []
    },
    "kernelspec": {
      "name": "python3",
      "display_name": "Python 3"
    },
    "language_info": {
      "name": "python"
    }
  },
  "cells": [
    {
      "cell_type": "code",
      "source": [
        "from sklearn.model_selection import train_test_split\n",
        "from sklearn.feature_extraction.text import TfidfVectorizer\n",
        "from sklearn.naive_bayes import MultinomialNB\n",
        "from sklearn.linear_model import LogisticRegression\n",
        "from sklearn.metrics import accuracy_score, classification_report\n",
        "from sklearn.feature_extraction.text import CountVectorizer\n",
        "from sklearn.tree import DecisionTreeClassifier"
      ],
      "metadata": {
        "id": "IYXgmRS-L-SM"
      },
      "execution_count": 21,
      "outputs": []
    },
    {
      "cell_type": "code",
      "execution_count": 11,
      "metadata": {
        "id": "nWn0ZnfwFYjb"
      },
      "outputs": [],
      "source": [
        "import pandas as pd\n",
        "\n",
        "df_train = pd.read_csv('processed_train.csv')\n",
        "\n",
        "df_test = pd.read_csv('processed_test.csv')"
      ]
    },
    {
      "cell_type": "code",
      "source": [
        "df_train = df_train.drop(columns=[\"Unnamed: 0\"])\n",
        "\n",
        "df_test = df_test.drop(columns=[\"Unnamed: 0\"])"
      ],
      "metadata": {
        "id": "i98gm5mtPtsX"
      },
      "execution_count": 12,
      "outputs": []
    },
    {
      "cell_type": "code",
      "source": [
        "df_train[\"label\"] = df_train[\"label\"].str.lower()\n",
        "df_test[\"label\"] = df_test[\"label\"].str.lower()"
      ],
      "metadata": {
        "id": "N_LHTXA7JHia"
      },
      "execution_count": 13,
      "outputs": []
    },
    {
      "cell_type": "code",
      "source": [
        "# Sử dụng Bag of Words (BoW)\n",
        "bow_vectorizer = CountVectorizer()\n",
        "X_train_bow = bow_vectorizer.fit_transform(df_train['text'])\n",
        "X_test_bow = bow_vectorizer.transform(df_test['text'])"
      ],
      "metadata": {
        "id": "ImwMVQx8K5Ap"
      },
      "execution_count": 15,
      "outputs": []
    },
    {
      "cell_type": "code",
      "source": [
        "# Huấn luyện và đánh giá mô hình Naive Bayes\n",
        "nb_model = MultinomialNB()\n",
        "nb_model.fit(X_train_bow, df_train['label'])\n",
        "y_pred_nb_bow = nb_model.predict(X_test_bow)\n",
        "nb_accuracy = accuracy_score(df_test['label'], y_pred_nb_bow)\n",
        "nb_report = classification_report(df_test[\"label\"], y_pred_nb_bow)\n",
        "\n",
        "nb_accuracy"
      ],
      "metadata": {
        "colab": {
          "base_uri": "https://localhost:8080/"
        },
        "id": "2hkEOpwnRgvr",
        "outputId": "9f86e9a9-d7f5-4982-bb45-c5ac6557d0a9"
      },
      "execution_count": 17,
      "outputs": [
        {
          "output_type": "execute_result",
          "data": {
            "text/plain": [
              "0.898794989379231"
            ]
          },
          "metadata": {},
          "execution_count": 17
        }
      ]
    },
    {
      "cell_type": "code",
      "source": [
        "print(nb_report)"
      ],
      "metadata": {
        "colab": {
          "base_uri": "https://localhost:8080/"
        },
        "id": "EydYIQT2Sr3V",
        "outputId": "4890d8da-fa71-4363-c8ef-eca53ca5202f"
      },
      "execution_count": 18,
      "outputs": [
        {
          "output_type": "stream",
          "name": "stdout",
          "text": [
            "                  precision    recall  f1-score   support\n",
            "\n",
            "chinh tri xa hoi       0.83      0.86      0.85      7567\n",
            "        doi song       0.69      0.77      0.73      2036\n",
            "        khoa hoc       0.85      0.71      0.78      2096\n",
            "      kinh doanh       0.90      0.88      0.89      5276\n",
            "       phap luat       0.87      0.91      0.89      3788\n",
            "        suc khoe       0.92      0.93      0.93      5417\n",
            "        the gioi       0.93      0.91      0.92      6716\n",
            "        the thao       0.99      0.95      0.97      6667\n",
            "         van hoa       0.92      0.93      0.93      6250\n",
            "         vi tinh       0.94      0.92      0.93      4560\n",
            "\n",
            "        accuracy                           0.90     50373\n",
            "       macro avg       0.88      0.88      0.88     50373\n",
            "    weighted avg       0.90      0.90      0.90     50373\n",
            "\n"
          ]
        }
      ]
    },
    {
      "cell_type": "code",
      "source": [
        "# Huấn luyện và đánh giá mô hình Logistic Regression\n",
        "lr_model = LogisticRegression(max_iter=1000)\n",
        "lr_model.fit(X_train_bow, df_train['label'])\n",
        "y_pred_lr_bow = lr_model.predict(X_test_bow)\n",
        "lr_accuracy = accuracy_score(df_test['label'], y_pred_lr_bow)\n",
        "lr_report = classification_report(df_test[\"label\"], y_pred_lr_bow)\n",
        "\n",
        "lr_accuracy"
      ],
      "metadata": {
        "colab": {
          "base_uri": "https://localhost:8080/"
        },
        "id": "eOJW8uL5V18O",
        "outputId": "9a6cee56-a522-447c-f634-c56b029c5e30"
      },
      "execution_count": 19,
      "outputs": [
        {
          "output_type": "execute_result",
          "data": {
            "text/plain": [
              "0.9126119151132551"
            ]
          },
          "metadata": {},
          "execution_count": 19
        }
      ]
    },
    {
      "cell_type": "code",
      "source": [
        "print(lr_report)"
      ],
      "metadata": {
        "colab": {
          "base_uri": "https://localhost:8080/"
        },
        "id": "Cnv72_cxWLmP",
        "outputId": "41fd207e-8f0a-4ce8-d8b2-e1a99c7572ad"
      },
      "execution_count": 20,
      "outputs": [
        {
          "output_type": "stream",
          "name": "stdout",
          "text": [
            "                  precision    recall  f1-score   support\n",
            "\n",
            "chinh tri xa hoi       0.85      0.89      0.87      7567\n",
            "        doi song       0.77      0.63      0.69      2036\n",
            "        khoa hoc       0.81      0.82      0.81      2096\n",
            "      kinh doanh       0.92      0.89      0.91      5276\n",
            "       phap luat       0.89      0.92      0.90      3788\n",
            "        suc khoe       0.93      0.93      0.93      5417\n",
            "        the gioi       0.95      0.93      0.94      6716\n",
            "        the thao       0.98      0.98      0.98      6667\n",
            "         van hoa       0.92      0.95      0.94      6250\n",
            "         vi tinh       0.94      0.95      0.94      4560\n",
            "\n",
            "        accuracy                           0.91     50373\n",
            "       macro avg       0.90      0.89      0.89     50373\n",
            "    weighted avg       0.91      0.91      0.91     50373\n",
            "\n"
          ]
        }
      ]
    },
    {
      "cell_type": "code",
      "source": [
        "# Khởi tạo mô hình Decision Tree\n",
        "dt_model = DecisionTreeClassifier(random_state=42)\n",
        "dt_model.fit(X_train_bow, df_train['label'])\n",
        "y_pred_dt_bow = dt_model.predict(X_test_bow)\n",
        "dt_accuracy = accuracy_score(df_test['label'], y_pred_dt_bow)\n",
        "dt_report = classification_report(df_test[\"label\"], y_pred_dt_bow)\n",
        "\n",
        "dt_accuracy"
      ],
      "metadata": {
        "colab": {
          "base_uri": "https://localhost:8080/"
        },
        "id": "lCe14V86We7k",
        "outputId": "a1006ef4-2cc4-4d9c-d408-8592e6dbefe9"
      },
      "execution_count": 22,
      "outputs": [
        {
          "output_type": "execute_result",
          "data": {
            "text/plain": [
              "0.729557501042225"
            ]
          },
          "metadata": {},
          "execution_count": 22
        }
      ]
    },
    {
      "cell_type": "code",
      "source": [
        "print(dt_report)"
      ],
      "metadata": {
        "colab": {
          "base_uri": "https://localhost:8080/"
        },
        "id": "ht2q0mO5X5wv",
        "outputId": "a7d0baf0-2aa2-4df5-ea80-eb7983a843ba"
      },
      "execution_count": 23,
      "outputs": [
        {
          "output_type": "stream",
          "name": "stdout",
          "text": [
            "                  precision    recall  f1-score   support\n",
            "\n",
            "chinh tri xa hoi       0.61      0.63      0.62      7567\n",
            "        doi song       0.33      0.34      0.33      2036\n",
            "        khoa hoc       0.49      0.51      0.50      2096\n",
            "      kinh doanh       0.71      0.68      0.69      5276\n",
            "       phap luat       0.71      0.79      0.75      3788\n",
            "        suc khoe       0.76      0.79      0.78      5417\n",
            "        the gioi       0.79      0.72      0.76      6716\n",
            "        the thao       0.92      0.93      0.93      6667\n",
            "         van hoa       0.82      0.78      0.80      6250\n",
            "         vi tinh       0.75      0.75      0.75      4560\n",
            "\n",
            "        accuracy                           0.73     50373\n",
            "       macro avg       0.69      0.69      0.69     50373\n",
            "    weighted avg       0.73      0.73      0.73     50373\n",
            "\n"
          ]
        }
      ]
    }
  ]
}